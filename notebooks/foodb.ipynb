{
 "cells": [
  {
   "cell_type": "code",
   "execution_count": null,
   "metadata": {},
   "outputs": [],
   "source": [
    "import pandas as pd"
   ]
  },
  {
   "cell_type": "code",
   "execution_count": null,
   "metadata": {},
   "outputs": [
    {
     "name": "stderr",
     "output_type": "stream",
     "text": [
      "C:\\Users\\oszud\\AppData\\Local\\Temp\\ipykernel_17024\\2274376406.py:1: DtypeWarning: Columns (4,5,6,7,8,9,13,14,21,22,24) have mixed types. Specify dtype option on import or set low_memory=False.\n",
      "  data = pd.read_csv(\"../data/foodb/Content.csv\")\n"
     ]
    }
   ],
   "source": [
    "data = pd.read_csv(\"../data/foodb/Content.csv\")"
   ]
  },
  {
   "cell_type": "markdown",
   "metadata": {},
   "source": [
    "Original unit of protein mg/100g"
   ]
  },
  {
   "cell_type": "code",
   "execution_count": null,
   "metadata": {},
   "outputs": [
    {
     "data": {
      "text/html": [
       "<div>\n",
       "<style scoped>\n",
       "    .dataframe tbody tr th:only-of-type {\n",
       "        vertical-align: middle;\n",
       "    }\n",
       "\n",
       "    .dataframe tbody tr th {\n",
       "        vertical-align: top;\n",
       "    }\n",
       "\n",
       "    .dataframe thead th {\n",
       "        text-align: right;\n",
       "    }\n",
       "</style>\n",
       "<table border=\"1\" class=\"dataframe\">\n",
       "  <thead>\n",
       "    <tr style=\"text-align: right;\">\n",
       "      <th></th>\n",
       "      <th>id</th>\n",
       "      <th>source_id</th>\n",
       "      <th>source_type</th>\n",
       "      <th>food_id</th>\n",
       "      <th>orig_food_id</th>\n",
       "      <th>orig_food_common_name</th>\n",
       "      <th>orig_food_scientific_name</th>\n",
       "      <th>orig_food_part</th>\n",
       "      <th>orig_source_id</th>\n",
       "      <th>orig_source_name</th>\n",
       "      <th>...</th>\n",
       "      <th>citation_type</th>\n",
       "      <th>creator_id</th>\n",
       "      <th>updater_id</th>\n",
       "      <th>created_at</th>\n",
       "      <th>updated_at</th>\n",
       "      <th>orig_method</th>\n",
       "      <th>orig_unit_expression</th>\n",
       "      <th>standard_content</th>\n",
       "      <th>preparation_type</th>\n",
       "      <th>export</th>\n",
       "    </tr>\n",
       "  </thead>\n",
       "  <tbody>\n",
       "    <tr>\n",
       "      <th>399</th>\n",
       "      <td>400</td>\n",
       "      <td>2</td>\n",
       "      <td>Nutrient</td>\n",
       "      <td>4</td>\n",
       "      <td>9148</td>\n",
       "      <td>Kiwifruit, green, raw</td>\n",
       "      <td>NaN</td>\n",
       "      <td>NaN</td>\n",
       "      <td>203</td>\n",
       "      <td>Protein</td>\n",
       "      <td>...</td>\n",
       "      <td>DATABASE</td>\n",
       "      <td>NaN</td>\n",
       "      <td>NaN</td>\n",
       "      <td>2014-11-05 13:42:17 UTC</td>\n",
       "      <td>2019-12-11 20:23:59 UTC</td>\n",
       "      <td>NaN</td>\n",
       "      <td>NaN</td>\n",
       "      <td>1140.0</td>\n",
       "      <td>raw</td>\n",
       "      <td>0</td>\n",
       "    </tr>\n",
       "    <tr>\n",
       "      <th>400</th>\n",
       "      <td>401</td>\n",
       "      <td>2</td>\n",
       "      <td>Nutrient</td>\n",
       "      <td>4</td>\n",
       "      <td>9445</td>\n",
       "      <td>Kiwifruit, gold, raw</td>\n",
       "      <td>NaN</td>\n",
       "      <td>NaN</td>\n",
       "      <td>203</td>\n",
       "      <td>Protein</td>\n",
       "      <td>...</td>\n",
       "      <td>DATABASE</td>\n",
       "      <td>NaN</td>\n",
       "      <td>NaN</td>\n",
       "      <td>2014-11-05 13:42:17 UTC</td>\n",
       "      <td>2019-12-11 20:23:59 UTC</td>\n",
       "      <td>NaN</td>\n",
       "      <td>NaN</td>\n",
       "      <td>1230.0</td>\n",
       "      <td>raw</td>\n",
       "      <td>0</td>\n",
       "    </tr>\n",
       "    <tr>\n",
       "      <th>410</th>\n",
       "      <td>411</td>\n",
       "      <td>2</td>\n",
       "      <td>Nutrient</td>\n",
       "      <td>5</td>\n",
       "      <td>2026</td>\n",
       "      <td>Spices, onion powder</td>\n",
       "      <td>NaN</td>\n",
       "      <td>NaN</td>\n",
       "      <td>203</td>\n",
       "      <td>Protein</td>\n",
       "      <td>...</td>\n",
       "      <td>DATABASE</td>\n",
       "      <td>NaN</td>\n",
       "      <td>NaN</td>\n",
       "      <td>2014-11-05 13:42:17 UTC</td>\n",
       "      <td>2019-12-11 20:23:59 UTC</td>\n",
       "      <td>NaN</td>\n",
       "      <td>NaN</td>\n",
       "      <td>10410.0</td>\n",
       "      <td>dried or powder</td>\n",
       "      <td>0</td>\n",
       "    </tr>\n",
       "  </tbody>\n",
       "</table>\n",
       "<p>3 rows × 26 columns</p>\n",
       "</div>"
      ],
      "text/plain": [
       "      id  source_id source_type  food_id orig_food_id  orig_food_common_name  \\\n",
       "399  400          2    Nutrient        4         9148  Kiwifruit, green, raw   \n",
       "400  401          2    Nutrient        4         9445   Kiwifruit, gold, raw   \n",
       "410  411          2    Nutrient        5         2026   Spices, onion powder   \n",
       "\n",
       "    orig_food_scientific_name orig_food_part orig_source_id orig_source_name  \\\n",
       "399                       NaN            NaN            203          Protein   \n",
       "400                       NaN            NaN            203          Protein   \n",
       "410                       NaN            NaN            203          Protein   \n",
       "\n",
       "     ...  citation_type  creator_id  updater_id               created_at  \\\n",
       "399  ...       DATABASE         NaN         NaN  2014-11-05 13:42:17 UTC   \n",
       "400  ...       DATABASE         NaN         NaN  2014-11-05 13:42:17 UTC   \n",
       "410  ...       DATABASE         NaN         NaN  2014-11-05 13:42:17 UTC   \n",
       "\n",
       "                  updated_at orig_method orig_unit_expression  \\\n",
       "399  2019-12-11 20:23:59 UTC         NaN                  NaN   \n",
       "400  2019-12-11 20:23:59 UTC         NaN                  NaN   \n",
       "410  2019-12-11 20:23:59 UTC         NaN                  NaN   \n",
       "\n",
       "     standard_content  preparation_type export  \n",
       "399            1140.0               raw      0  \n",
       "400            1230.0               raw      0  \n",
       "410           10410.0   dried or powder      0  \n",
       "\n",
       "[3 rows x 26 columns]"
      ]
     },
     "metadata": {},
     "output_type": "display_data"
    }
   ],
   "source": [
    "data_prot = data[data.orig_source_name == \"Protein\"]\n",
    "data_prot.head(3)"
   ]
  },
  {
   "cell_type": "markdown",
   "metadata": {},
   "source": [
    "As you see - there is also \"Protein, total-N\" type of records. Those records tell us about nitrogen content. Internet says that sometimes it is used to estimate how much protein is actually in a food. However, because it is not that straightforward - I suggest we do not dig into it right now. If we won't obtain enough info - it might be somehow useful."
   ]
  },
  {
   "cell_type": "markdown",
   "metadata": {},
   "source": [
    "Based on \n",
    "```\n",
    " from ydata_profiling import ProfileReport\n",
    "\n",
    " profile = ProfileReport(data_prot, title='Protein FooDB Report')\n",
    " profile\n",
    "```\n",
    "and\n",
    "```\n",
    " data_prot.COLNAME.unique()\n",
    "```\n",
    "we'll drop some columns"
   ]
  },
  {
   "cell_type": "code",
   "execution_count": null,
   "metadata": {},
   "outputs": [],
   "source": [
    "data_prot = data[data.orig_source_name == \"Protein\"]\n",
    "data_prot = data_prot.drop(columns=['creator_id', 'updater_id', 'created_at', 'updated_at', \n",
    "                                    'orig_citation', 'citation', 'citation_type',\n",
    "                                    'orig_unit', 'source_id', 'orig_source_name', 'orig_source_id',\n",
    "                                    'orig_food_scientific_name', 'orig_food_part', 'orig_min', 'orig_max',\n",
    "                                    'orig_method', 'orig_unit_expression', 'source_type'])"
   ]
  },
  {
   "cell_type": "code",
   "execution_count": null,
   "metadata": {},
   "outputs": [
    {
     "data": {
      "text/html": [
       "<div>\n",
       "<style scoped>\n",
       "    .dataframe tbody tr th:only-of-type {\n",
       "        vertical-align: middle;\n",
       "    }\n",
       "\n",
       "    .dataframe tbody tr th {\n",
       "        vertical-align: top;\n",
       "    }\n",
       "\n",
       "    .dataframe thead th {\n",
       "        text-align: right;\n",
       "    }\n",
       "</style>\n",
       "<table border=\"1\" class=\"dataframe\">\n",
       "  <thead>\n",
       "    <tr style=\"text-align: right;\">\n",
       "      <th></th>\n",
       "      <th>id</th>\n",
       "      <th>food_id</th>\n",
       "      <th>orig_food_id</th>\n",
       "      <th>orig_food_common_name</th>\n",
       "      <th>orig_content</th>\n",
       "      <th>standard_content</th>\n",
       "      <th>preparation_type</th>\n",
       "      <th>export</th>\n",
       "    </tr>\n",
       "  </thead>\n",
       "  <tbody>\n",
       "    <tr>\n",
       "      <th>399</th>\n",
       "      <td>400</td>\n",
       "      <td>4</td>\n",
       "      <td>9148</td>\n",
       "      <td>Kiwifruit, green, raw</td>\n",
       "      <td>1140.0</td>\n",
       "      <td>1140.0</td>\n",
       "      <td>raw</td>\n",
       "      <td>0</td>\n",
       "    </tr>\n",
       "    <tr>\n",
       "      <th>400</th>\n",
       "      <td>401</td>\n",
       "      <td>4</td>\n",
       "      <td>9445</td>\n",
       "      <td>Kiwifruit, gold, raw</td>\n",
       "      <td>1230.0</td>\n",
       "      <td>1230.0</td>\n",
       "      <td>raw</td>\n",
       "      <td>0</td>\n",
       "    </tr>\n",
       "    <tr>\n",
       "      <th>410</th>\n",
       "      <td>411</td>\n",
       "      <td>5</td>\n",
       "      <td>2026</td>\n",
       "      <td>Spices, onion powder</td>\n",
       "      <td>10410.0</td>\n",
       "      <td>10410.0</td>\n",
       "      <td>dried or powder</td>\n",
       "      <td>0</td>\n",
       "    </tr>\n",
       "  </tbody>\n",
       "</table>\n",
       "</div>"
      ],
      "text/plain": [
       "      id  food_id orig_food_id  orig_food_common_name  orig_content  \\\n",
       "399  400        4         9148  Kiwifruit, green, raw        1140.0   \n",
       "400  401        4         9445   Kiwifruit, gold, raw        1230.0   \n",
       "410  411        5         2026   Spices, onion powder       10410.0   \n",
       "\n",
       "     standard_content preparation_type  export  \n",
       "399            1140.0              raw       0  \n",
       "400            1230.0              raw       0  \n",
       "410           10410.0  dried or powder       0  "
      ]
     },
     "metadata": {},
     "output_type": "display_data"
    }
   ],
   "source": [
    "data_prot.head(3)"
   ]
  },
  {
   "cell_type": "code",
   "execution_count": null,
   "metadata": {},
   "outputs": [
    {
     "data": {
      "text/html": [
       "<div>\n",
       "<style scoped>\n",
       "    .dataframe tbody tr th:only-of-type {\n",
       "        vertical-align: middle;\n",
       "    }\n",
       "\n",
       "    .dataframe tbody tr th {\n",
       "        vertical-align: top;\n",
       "    }\n",
       "\n",
       "    .dataframe thead th {\n",
       "        text-align: right;\n",
       "    }\n",
       "</style>\n",
       "<table border=\"1\" class=\"dataframe\">\n",
       "  <thead>\n",
       "    <tr style=\"text-align: right;\">\n",
       "      <th></th>\n",
       "      <th>id</th>\n",
       "      <th>food_id</th>\n",
       "      <th>orig_food_id</th>\n",
       "      <th>orig_food_common_name</th>\n",
       "      <th>orig_content</th>\n",
       "      <th>standard_content</th>\n",
       "      <th>preparation_type</th>\n",
       "      <th>export</th>\n",
       "    </tr>\n",
       "  </thead>\n",
       "  <tbody>\n",
       "    <tr>\n",
       "      <th>411</th>\n",
       "      <td>412</td>\n",
       "      <td>5</td>\n",
       "      <td>11282</td>\n",
       "      <td>Onions, raw</td>\n",
       "      <td>1100.0</td>\n",
       "      <td>1100.0</td>\n",
       "      <td>raw</td>\n",
       "      <td>0</td>\n",
       "    </tr>\n",
       "    <tr>\n",
       "      <th>412</th>\n",
       "      <td>413</td>\n",
       "      <td>5</td>\n",
       "      <td>11283</td>\n",
       "      <td>Onions, cooked, boiled, drained, without salt</td>\n",
       "      <td>1360.0</td>\n",
       "      <td>1360.0</td>\n",
       "      <td>cooked</td>\n",
       "      <td>0</td>\n",
       "    </tr>\n",
       "    <tr>\n",
       "      <th>413</th>\n",
       "      <td>414</td>\n",
       "      <td>5</td>\n",
       "      <td>11284</td>\n",
       "      <td>Onions, dehydrated flakes</td>\n",
       "      <td>8950.0</td>\n",
       "      <td>8950.0</td>\n",
       "      <td>dried or powder</td>\n",
       "      <td>0</td>\n",
       "    </tr>\n",
       "    <tr>\n",
       "      <th>414</th>\n",
       "      <td>415</td>\n",
       "      <td>5</td>\n",
       "      <td>11285</td>\n",
       "      <td>Onions, canned, solids and liquids</td>\n",
       "      <td>850.0</td>\n",
       "      <td>850.0</td>\n",
       "      <td>NaN</td>\n",
       "      <td>0</td>\n",
       "    </tr>\n",
       "    <tr>\n",
       "      <th>415</th>\n",
       "      <td>416</td>\n",
       "      <td>5</td>\n",
       "      <td>11286</td>\n",
       "      <td>Onions, yellow, sauteed</td>\n",
       "      <td>950.0</td>\n",
       "      <td>950.0</td>\n",
       "      <td>cooked</td>\n",
       "      <td>0</td>\n",
       "    </tr>\n",
       "  </tbody>\n",
       "</table>\n",
       "</div>"
      ],
      "text/plain": [
       "      id  food_id orig_food_id                          orig_food_common_name  \\\n",
       "411  412        5        11282                                    Onions, raw   \n",
       "412  413        5        11283  Onions, cooked, boiled, drained, without salt   \n",
       "413  414        5        11284                      Onions, dehydrated flakes   \n",
       "414  415        5        11285             Onions, canned, solids and liquids   \n",
       "415  416        5        11286                        Onions, yellow, sauteed   \n",
       "\n",
       "     orig_content  standard_content preparation_type  export  \n",
       "411        1100.0            1100.0              raw       0  \n",
       "412        1360.0            1360.0           cooked       0  \n",
       "413        8950.0            8950.0  dried or powder       0  \n",
       "414         850.0             850.0              NaN       0  \n",
       "415         950.0             950.0           cooked       0  "
      ]
     },
     "metadata": {},
     "output_type": "display_data"
    }
   ],
   "source": [
    "data_prot[data_prot['orig_food_common_name'].str.contains('Onions')][:5]"
   ]
  },
  {
   "cell_type": "code",
   "execution_count": null,
   "metadata": {},
   "outputs": [
    {
     "data": {
      "text/plain": [
       "['Protein, total', 'Protein', 'Adjusted Protein']"
      ]
     },
     "metadata": {},
     "output_type": "display_data"
    }
   ],
   "source": [
    "names = data.orig_source_name.unique()\n",
    "prot_names = []\n",
    "for name in names:\n",
    "    n = str(name)\n",
    "    if \"Protein\" in n:\n",
    "        prot_names.append(name)\n",
    "        \n",
    "prot_names.remove('Protein, total-N')\n",
    "prot_names"
   ]
  },
  {
   "cell_type": "code",
   "execution_count": null,
   "metadata": {},
   "outputs": [],
   "source": [
    "foodb_ingr = set()\n",
    "\n",
    "for prot_name in prot_names:\n",
    "    data_prot = data[data.orig_source_name == prot_name]\n",
    "    data_prot = data_prot.drop(columns=['creator_id', 'updater_id', 'created_at', 'updated_at', \n",
    "                                    'orig_citation', 'citation', 'citation_type',\n",
    "                                    'orig_unit', 'source_id', 'orig_source_name', 'orig_source_id',\n",
    "                                    'orig_food_scientific_name', 'orig_food_part', 'orig_min', 'orig_max',\n",
    "                                    'orig_method', 'orig_unit_expression', 'source_type'])\n",
    "    \n",
    "    for record in data_prot['orig_food_common_name']:\n",
    "        items = record.split(',')\n",
    "        first_item = items[0].strip()\n",
    "        foodb_ingr.add(first_item)"
   ]
  },
  {
   "cell_type": "code",
   "execution_count": null,
   "metadata": {},
   "outputs": [
    {
     "data": {
      "text/plain": [
       "1331"
      ]
     },
     "metadata": {},
     "output_type": "display_data"
    }
   ],
   "source": [
    "len(foodb_ingr)"
   ]
  }
 ],
 "metadata": {
  "language_info": {
   "name": "python"
  }
 },
 "nbformat": 4,
 "nbformat_minor": 2
}
