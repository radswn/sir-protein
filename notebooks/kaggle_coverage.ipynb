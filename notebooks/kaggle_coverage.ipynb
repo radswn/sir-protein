{
 "cells": [
  {
   "cell_type": "code",
   "execution_count": 1,
   "metadata": {},
   "outputs": [],
   "source": [
    "import pandas as pd"
   ]
  },
  {
   "cell_type": "code",
   "execution_count": 2,
   "metadata": {},
   "outputs": [],
   "source": [
    "nlg = pd.read_csv(\"../data/recipeNLG/full_dataset.csv\")"
   ]
  },
  {
   "cell_type": "code",
   "execution_count": 3,
   "metadata": {},
   "outputs": [
    {
     "data": {
      "text/html": [
       "<div>\n",
       "<style scoped>\n",
       "    .dataframe tbody tr th:only-of-type {\n",
       "        vertical-align: middle;\n",
       "    }\n",
       "\n",
       "    .dataframe tbody tr th {\n",
       "        vertical-align: top;\n",
       "    }\n",
       "\n",
       "    .dataframe thead th {\n",
       "        text-align: right;\n",
       "    }\n",
       "</style>\n",
       "<table border=\"1\" class=\"dataframe\">\n",
       "  <thead>\n",
       "    <tr style=\"text-align: right;\">\n",
       "      <th></th>\n",
       "      <th>Unnamed: 0</th>\n",
       "      <th>title</th>\n",
       "      <th>ingredients</th>\n",
       "      <th>directions</th>\n",
       "      <th>link</th>\n",
       "      <th>source</th>\n",
       "      <th>NER</th>\n",
       "    </tr>\n",
       "  </thead>\n",
       "  <tbody>\n",
       "    <tr>\n",
       "      <th>0</th>\n",
       "      <td>0</td>\n",
       "      <td>No-Bake Nut Cookies</td>\n",
       "      <td>[\"1 c. firmly packed brown sugar\", \"1/2 c. eva...</td>\n",
       "      <td>[\"In a heavy 2-quart saucepan, mix brown sugar...</td>\n",
       "      <td>www.cookbooks.com/Recipe-Details.aspx?id=44874</td>\n",
       "      <td>Gathered</td>\n",
       "      <td>[\"brown sugar\", \"milk\", \"vanilla\", \"nuts\", \"bu...</td>\n",
       "    </tr>\n",
       "    <tr>\n",
       "      <th>1</th>\n",
       "      <td>1</td>\n",
       "      <td>Jewell Ball'S Chicken</td>\n",
       "      <td>[\"1 small jar chipped beef, cut up\", \"4 boned ...</td>\n",
       "      <td>[\"Place chipped beef on bottom of baking dish....</td>\n",
       "      <td>www.cookbooks.com/Recipe-Details.aspx?id=699419</td>\n",
       "      <td>Gathered</td>\n",
       "      <td>[\"beef\", \"chicken breasts\", \"cream of mushroom...</td>\n",
       "    </tr>\n",
       "    <tr>\n",
       "      <th>2</th>\n",
       "      <td>2</td>\n",
       "      <td>Creamy Corn</td>\n",
       "      <td>[\"2 (16 oz.) pkg. frozen corn\", \"1 (8 oz.) pkg...</td>\n",
       "      <td>[\"In a slow cooker, combine all ingredients. C...</td>\n",
       "      <td>www.cookbooks.com/Recipe-Details.aspx?id=10570</td>\n",
       "      <td>Gathered</td>\n",
       "      <td>[\"frozen corn\", \"cream cheese\", \"butter\", \"gar...</td>\n",
       "    </tr>\n",
       "  </tbody>\n",
       "</table>\n",
       "</div>"
      ],
      "text/plain": [
       "   Unnamed: 0                  title  \\\n",
       "0           0    No-Bake Nut Cookies   \n",
       "1           1  Jewell Ball'S Chicken   \n",
       "2           2            Creamy Corn   \n",
       "\n",
       "                                         ingredients  \\\n",
       "0  [\"1 c. firmly packed brown sugar\", \"1/2 c. eva...   \n",
       "1  [\"1 small jar chipped beef, cut up\", \"4 boned ...   \n",
       "2  [\"2 (16 oz.) pkg. frozen corn\", \"1 (8 oz.) pkg...   \n",
       "\n",
       "                                          directions  \\\n",
       "0  [\"In a heavy 2-quart saucepan, mix brown sugar...   \n",
       "1  [\"Place chipped beef on bottom of baking dish....   \n",
       "2  [\"In a slow cooker, combine all ingredients. C...   \n",
       "\n",
       "                                              link    source  \\\n",
       "0   www.cookbooks.com/Recipe-Details.aspx?id=44874  Gathered   \n",
       "1  www.cookbooks.com/Recipe-Details.aspx?id=699419  Gathered   \n",
       "2   www.cookbooks.com/Recipe-Details.aspx?id=10570  Gathered   \n",
       "\n",
       "                                                 NER  \n",
       "0  [\"brown sugar\", \"milk\", \"vanilla\", \"nuts\", \"bu...  \n",
       "1  [\"beef\", \"chicken breasts\", \"cream of mushroom...  \n",
       "2  [\"frozen corn\", \"cream cheese\", \"butter\", \"gar...  "
      ]
     },
     "execution_count": 3,
     "metadata": {},
     "output_type": "execute_result"
    }
   ],
   "source": [
    "nlg.head(3)"
   ]
  },
  {
   "cell_type": "code",
   "execution_count": 5,
   "metadata": {},
   "outputs": [
    {
     "data": {
      "text/plain": [
       "array(['Gathered', 'Recipes1M'], dtype=object)"
      ]
     },
     "execution_count": 5,
     "metadata": {},
     "output_type": "execute_result"
    }
   ],
   "source": [
    "nlg.source.unique()"
   ]
  },
  {
   "cell_type": "markdown",
   "metadata": {},
   "source": [
    "## Preprocessing"
   ]
  },
  {
   "cell_type": "code",
   "execution_count": 16,
   "metadata": {},
   "outputs": [],
   "source": [
    "import nltk\n",
    "from nltk.stem import WordNetLemmatizer\n",
    "from nltk.tokenize import word_tokenize"
   ]
  },
  {
   "cell_type": "code",
   "execution_count": null,
   "metadata": {},
   "outputs": [],
   "source": [
    "# nltk.download('punkt')\n",
    "# nltk.download('wordnet')\n",
    "# nltk.download('omw-1.4')"
   ]
  },
  {
   "cell_type": "code",
   "execution_count": 50,
   "metadata": {},
   "outputs": [
    {
     "data": {
      "text/plain": [
       "'[\"brown sugar\", \"milk\", \"vanilla\", \"nuts\", \"butter\", \"bite size shredded rice biscuits\"]'"
      ]
     },
     "execution_count": 50,
     "metadata": {},
     "output_type": "execute_result"
    }
   ],
   "source": [
    "nlg[\"NER\"][0]"
   ]
  },
  {
   "cell_type": "code",
   "execution_count": 9,
   "metadata": {},
   "outputs": [
    {
     "data": {
      "text/plain": [
       "'[\"In a heavy 2-quart saucepan, mix brown sugar, nuts, evaporated milk and butter or margarine.\", \"Stir over medium heat until mixture bubbles all over top.\", \"Boil and stir 5 minutes more. Take off heat.\", \"Stir in vanilla and cereal; mix well.\", \"Using 2 teaspoons, drop and shape into 30 clusters on wax paper.\", \"Let stand until firm, about 30 minutes.\"]'"
      ]
     },
     "execution_count": 9,
     "metadata": {},
     "output_type": "execute_result"
    }
   ],
   "source": [
    "nlg[\"directions\"][0]"
   ]
  },
  {
   "cell_type": "code",
   "execution_count": 89,
   "metadata": {},
   "outputs": [],
   "source": [
    "def preprocess_item(item):\n",
    "    tokens = word_tokenize(item)\n",
    "    lemmatized_tokens = [lemmatizer.lemmatize(token) for token in tokens]\n",
    "    return ' '.join(lemmatized_tokens).lower()        "
   ]
  },
  {
   "cell_type": "code",
   "execution_count": 90,
   "metadata": {},
   "outputs": [
    {
     "name": "stdout",
     "output_type": "stream",
     "text": [
      "brown sugar\n",
      "milk\n",
      "vanilla\n",
      "nut\n",
      "butter\n",
      "bite size shredded rice biscuit\n"
     ]
    }
   ],
   "source": [
    "import ast\n",
    "\n",
    "example = '[\"brown sugar\", \"milk\", \"vanilla\", \"nuts\", \"butter\", \"bite size shredded rice biscuits\"]'\n",
    "\n",
    "item_list = ast.literal_eval(example)\n",
    "for item in item_list:\n",
    "    print(preprocess_item(item))"
   ]
  },
  {
   "cell_type": "code",
   "execution_count": 91,
   "metadata": {},
   "outputs": [],
   "source": [
    "lemmatizer = WordNetLemmatizer()\n",
    "ingredients = set()\n",
    "\n",
    "for items, source in zip(nlg['NER'], nlg['source']):\n",
    "    if source == \"Recipes1M\":\n",
    "        item_list = ast.literal_eval(items)\n",
    "        for item in item_list:\n",
    "            ingredients.add(preprocess_item(item))"
   ]
  },
  {
   "cell_type": "markdown",
   "metadata": {},
   "source": [
    "Lowercase ingredients from recipeNLG (recipe1M) before preprocessing: 94k\n",
    "\n",
    "after: 91k"
   ]
  },
  {
   "cell_type": "markdown",
   "metadata": {},
   "source": [
    "https://www.kaggle.com/datasets/thedevastator/now-with-more-nutrients/"
   ]
  },
  {
   "cell_type": "code",
   "execution_count": 9,
   "metadata": {},
   "outputs": [],
   "source": [
    "kaggle = pd.read_csv(\"../data/cleaned_ingredients.csv\")"
   ]
  },
  {
   "cell_type": "code",
   "execution_count": 94,
   "metadata": {},
   "outputs": [
    {
     "data": {
      "text/html": [
       "<div>\n",
       "<style scoped>\n",
       "    .dataframe tbody tr th:only-of-type {\n",
       "        vertical-align: middle;\n",
       "    }\n",
       "\n",
       "    .dataframe tbody tr th {\n",
       "        vertical-align: top;\n",
       "    }\n",
       "\n",
       "    .dataframe thead th {\n",
       "        text-align: right;\n",
       "    }\n",
       "</style>\n",
       "<table border=\"1\" class=\"dataframe\">\n",
       "  <thead>\n",
       "    <tr style=\"text-align: right;\">\n",
       "      <th></th>\n",
       "      <th>NDB_No</th>\n",
       "      <th>Descrip</th>\n",
       "      <th>Energy_kcal</th>\n",
       "      <th>Protein_g</th>\n",
       "      <th>Saturated_fats_g</th>\n",
       "      <th>Fat_g</th>\n",
       "      <th>Carb_g</th>\n",
       "      <th>Fiber_g</th>\n",
       "      <th>Sugar_g</th>\n",
       "      <th>Calcium_mg</th>\n",
       "      <th>...</th>\n",
       "      <th>VitC_mg</th>\n",
       "      <th>Thiamin_mg</th>\n",
       "      <th>Riboflavin_mg</th>\n",
       "      <th>Niacin_mg</th>\n",
       "      <th>VitB6_mg</th>\n",
       "      <th>Folate_mcg</th>\n",
       "      <th>VitB12_mcg</th>\n",
       "      <th>VitA_mcg</th>\n",
       "      <th>VitE_mg</th>\n",
       "      <th>VitD2_mcg</th>\n",
       "    </tr>\n",
       "  </thead>\n",
       "  <tbody>\n",
       "    <tr>\n",
       "      <th>0</th>\n",
       "      <td>1001</td>\n",
       "      <td>butter with salt</td>\n",
       "      <td>717.0</td>\n",
       "      <td>0.85</td>\n",
       "      <td>51.368</td>\n",
       "      <td>81.11</td>\n",
       "      <td>0.06</td>\n",
       "      <td>0.0</td>\n",
       "      <td>0.06</td>\n",
       "      <td>24.0</td>\n",
       "      <td>...</td>\n",
       "      <td>0.0</td>\n",
       "      <td>0.005</td>\n",
       "      <td>0.034</td>\n",
       "      <td>0.042</td>\n",
       "      <td>0.003</td>\n",
       "      <td>3.0</td>\n",
       "      <td>0.17</td>\n",
       "      <td>684.0</td>\n",
       "      <td>2.32</td>\n",
       "      <td>0.0</td>\n",
       "    </tr>\n",
       "    <tr>\n",
       "      <th>1</th>\n",
       "      <td>1002</td>\n",
       "      <td>butter whipped w salt</td>\n",
       "      <td>718.0</td>\n",
       "      <td>0.49</td>\n",
       "      <td>45.390</td>\n",
       "      <td>78.30</td>\n",
       "      <td>2.87</td>\n",
       "      <td>0.0</td>\n",
       "      <td>0.06</td>\n",
       "      <td>23.0</td>\n",
       "      <td>...</td>\n",
       "      <td>0.0</td>\n",
       "      <td>0.007</td>\n",
       "      <td>0.064</td>\n",
       "      <td>0.022</td>\n",
       "      <td>0.008</td>\n",
       "      <td>4.0</td>\n",
       "      <td>0.07</td>\n",
       "      <td>683.0</td>\n",
       "      <td>1.37</td>\n",
       "      <td>0.0</td>\n",
       "    </tr>\n",
       "    <tr>\n",
       "      <th>2</th>\n",
       "      <td>1003</td>\n",
       "      <td>butter oil anhydrous</td>\n",
       "      <td>876.0</td>\n",
       "      <td>0.28</td>\n",
       "      <td>61.924</td>\n",
       "      <td>99.48</td>\n",
       "      <td>0.00</td>\n",
       "      <td>0.0</td>\n",
       "      <td>0.00</td>\n",
       "      <td>4.0</td>\n",
       "      <td>...</td>\n",
       "      <td>0.0</td>\n",
       "      <td>0.001</td>\n",
       "      <td>0.005</td>\n",
       "      <td>0.003</td>\n",
       "      <td>0.001</td>\n",
       "      <td>0.0</td>\n",
       "      <td>0.01</td>\n",
       "      <td>840.0</td>\n",
       "      <td>2.8</td>\n",
       "      <td>0.0</td>\n",
       "    </tr>\n",
       "  </tbody>\n",
       "</table>\n",
       "<p>3 rows × 29 columns</p>\n",
       "</div>"
      ],
      "text/plain": [
       "  NDB_No                Descrip  Energy_kcal  Protein_g  Saturated_fats_g  \\\n",
       "0   1001       butter with salt        717.0       0.85            51.368   \n",
       "1   1002  butter whipped w salt        718.0       0.49            45.390   \n",
       "2   1003   butter oil anhydrous        876.0       0.28            61.924   \n",
       "\n",
       "   Fat_g  Carb_g  Fiber_g  Sugar_g  Calcium_mg  ...  VitC_mg Thiamin_mg  \\\n",
       "0  81.11    0.06      0.0     0.06        24.0  ...      0.0      0.005   \n",
       "1  78.30    2.87      0.0     0.06        23.0  ...      0.0      0.007   \n",
       "2  99.48    0.00      0.0     0.00         4.0  ...      0.0      0.001   \n",
       "\n",
       "   Riboflavin_mg  Niacin_mg  VitB6_mg  Folate_mcg  VitB12_mcg  VitA_mcg  \\\n",
       "0          0.034      0.042     0.003         3.0        0.17     684.0   \n",
       "1          0.064      0.022     0.008         4.0        0.07     683.0   \n",
       "2          0.005      0.003     0.001         0.0        0.01     840.0   \n",
       "\n",
       "   VitE_mg  VitD2_mcg  \n",
       "0     2.32        0.0  \n",
       "1     1.37        0.0  \n",
       "2      2.8        0.0  \n",
       "\n",
       "[3 rows x 29 columns]"
      ]
     },
     "execution_count": 94,
     "metadata": {},
     "output_type": "execute_result"
    }
   ],
   "source": [
    "kaggle.head(3)"
   ]
  },
  {
   "cell_type": "code",
   "execution_count": 95,
   "metadata": {},
   "outputs": [],
   "source": [
    "kaggle_ingrs = set() \n",
    "\n",
    "for record in kaggle['Descrip']:\n",
    "    kaggle_ingrs.add(preprocess_item(record))  "
   ]
  },
  {
   "cell_type": "code",
   "execution_count": 97,
   "metadata": {},
   "outputs": [
    {
     "data": {
      "text/plain": [
       "9306"
      ]
     },
     "execution_count": 97,
     "metadata": {},
     "output_type": "execute_result"
    }
   ],
   "source": [
    "len(kaggle_ingrs)"
   ]
  },
  {
   "cell_type": "markdown",
   "metadata": {},
   "source": [
    "## GISMO preprocessing"
   ]
  },
  {
   "cell_type": "code",
   "execution_count": 26,
   "metadata": {},
   "outputs": [],
   "source": [
    "from ingredient import *\n",
    "from instruction import *\n",
    "\n",
    "\n",
    "class Args:\n",
    "    def __init__(self, minnumingrs, minnuminstrs, maxnuminstrs, \n",
    "                 maxnumingrs, minnumwords, majority_lvl, threshold_ingrs):\n",
    "        self.minnumingrs = minnumingrs\n",
    "        self.minnuminstrs = minnuminstrs\n",
    "        self.maxnuminstrs = maxnuminstrs\n",
    "        self.maxnumingrs = maxnumingrs\n",
    "        self.minnumwords = minnumwords\n",
    "        self.majority_lvl = majority_lvl\n",
    "        self.threshold_ingrs = threshold_ingrs\n",
    "        \n",
    "        \n",
    "BASE_WORDS = [\n",
    "    \"peppers\",\n",
    "    \"tomato\",\n",
    "    \"spinach_leaves\",\n",
    "    \"turkey_breast\",\n",
    "    \"lettuce_leaf\",\n",
    "    \"chicken_thighs\",\n",
    "    \"milk_powder\",\n",
    "    \"bread_crumbs\",\n",
    "    \"onion_flakes\",\n",
    "    \"red_pepper\",\n",
    "    \"pepper_flakes\",\n",
    "    \"juice_concentrate\",\n",
    "    \"cracker_crumbs\",\n",
    "    \"hot_chili\",\n",
    "    \"seasoning_mix\",\n",
    "    \"dill_weed\",\n",
    "    \"pepper_sauce\",\n",
    "    \"sprouts\",\n",
    "    \"cooking_spray\",\n",
    "    \"cheese_blend\",\n",
    "    \"basil_leaves\",\n",
    "    \"pineapple_chunks\",\n",
    "    \"marshmallow\",\n",
    "    \"chile_powder\",\n",
    "    \"cheese_blend\",\n",
    "    \"corn_kernels\",\n",
    "    \"tomato_sauce\",\n",
    "    \"chickens\",\n",
    "    \"cracker_crust\",\n",
    "    \"lemonade_concentrate\",\n",
    "    \"red_chili\",\n",
    "    \"mushroom_caps\",\n",
    "    \"mushroom_cap\",\n",
    "    \"breaded_chicken\",\n",
    "    \"frozen_pineapple\",\n",
    "    \"pineapple_chunks\",\n",
    "    \"seasoning_mix\",\n",
    "    \"seaweed\",\n",
    "    \"onion_flakes\",\n",
    "    \"bouillon_granules\",\n",
    "    \"lettuce_leaf\",\n",
    "    \"stuffing_mix\",\n",
    "    \"parsley_flakes\",\n",
    "    \"chicken_breast\",\n",
    "    \"basil_leaves\",\n",
    "    \"baguettes\",\n",
    "    \"green_tea\",\n",
    "    \"peanut_butter\",\n",
    "    \"green_onion\",\n",
    "    \"fresh_cilantro\",\n",
    "    \"breaded_chicken\",\n",
    "    \"hot_pepper\",\n",
    "    \"dried_lavender\",\n",
    "    \"white_chocolate\",\n",
    "    \"dill_weed\",\n",
    "    \"cake_mix\",\n",
    "    \"cheese_spread\",\n",
    "    \"turkey_breast\",\n",
    "    \"chucken_thighs\",\n",
    "    \"basil_leaves\",\n",
    "    \"mandarin_orange\",\n",
    "    \"laurel\",\n",
    "    \"cabbage_head\",\n",
    "    \"pistachio\",\n",
    "    \"cheese_dip\",\n",
    "    \"thyme_leave\",\n",
    "    \"boneless_pork\",\n",
    "    \"red_pepper\",\n",
    "    \"onion_dip\",\n",
    "    \"skinless_chicken\",\n",
    "    \"dark_chocolate\",\n",
    "    \"canned_corn\",\n",
    "    \"muffin\",\n",
    "    \"cracker_crust\",\n",
    "    \"bread_crumbs\",\n",
    "    \"frozen_broccoli\",\n",
    "    \"philadelphia\",\n",
    "    \"cracker_crust\",\n",
    "    \"chicken_breast\",\n",
    "]\n"
   ]
  },
  {
   "cell_type": "code",
   "execution_count": null,
   "metadata": {},
   "outputs": [],
   "source": [
    "def ingredients_dict(nlg, args, instruction_parser: InstructionParser, ingredient_parser: IngredientParser):\n",
    "    ingr_counted = {}\n",
    "    for ner, source, instrs in zip(nlg['NER'], nlg['source'], nlg[\"directions\"]):\n",
    "        if source == \"Recipes1M\": \n",
    "            ingr_list = ast.literal_eval(ner)  \n",
    "            instrs_list = ast.literal_eval(instrs)  \n",
    "            acc_len, instr_list = instruction_parser.parse_entry(instr_list)\n",
    "            if (\n",
    "                len(instrs_list) < args.minnuminstrs\n",
    "                or len(instrs_list) >= args.maxnuminstrs\n",
    "                or acc_len < args.minnumwords\n",
    "            ):\n",
    "                continue\n",
    "            else:         \n",
    "                # preprocess ingr, \n",
    "                for ingr in ingr_list:\n",
    "                    ready_ingr = ingredient_parser.parse_entry(ingr)\n",
    "                    if ready_ingr in ingr_counted.keys():\n",
    "                        ingr_counted[ready_ingr] += 1\n",
    "                    else:\n",
    "                        ingr_counted[ready_ingr] = 1\n",
    "\n",
    "    # manually add missing entries for better clustering\n",
    "    for base_word in BASE_WORDS:\n",
    "        if base_word not in ingr_counted.keys():\n",
    "            ingr_counted[base_word] = 1\n",
    "\n",
    "    counter_ingrs, cluster_ingrs = cluster_ingredients(ingr_counted)\n",
    "    counter_ingrs, cluster_ingrs = remove_plurals(counter_ingrs, cluster_ingrs)\n",
    "\n",
    "    # if threshold not achieved - delete\n",
    "    ingrs = {\n",
    "            word: cnt\n",
    "            for word, cnt in ingr_counted\n",
    "            if cnt >= args.threshold_ingrs\n",
    "    }\n",
    "\n",
    "    return ingrs, cluster_ingre"
   ]
  },
  {
   "cell_type": "code",
   "execution_count": 4,
   "metadata": {},
   "outputs": [
    {
     "ename": "IndentationError",
     "evalue": "unexpected indent (1584243564.py, line 3)",
     "output_type": "error",
     "traceback": [
      "\u001b[1;36m  File \u001b[1;32m\"C:\\Users\\oszud\\AppData\\Local\\Temp\\ipykernel_14716\\1584243564.py\"\u001b[1;36m, line \u001b[1;32m3\u001b[0m\n\u001b[1;33m    if args.flavor_graph:\u001b[0m\n\u001b[1;37m    ^\u001b[0m\n\u001b[1;31mIndentationError\u001b[0m\u001b[1;31m:\u001b[0m unexpected indent\n"
     ]
    }
   ],
   "source": [
    "args = Args(minnumingrs=2, minnuminstrs=3, maxnuminstrs=12, maxnumingrs=10, \n",
    "            minnumwords=50, majority_lvl=0.5, threshold_ingrs=10)\n",
    "\n",
    "ingredient_parser = IngredientParser(\n",
    "    replace_dict={\n",
    "        \"and\": [\"&\", \"'n\"],\n",
    "        \"\": [\"%\", \",\", \".\", \"#\", \"[\", \"]\", \"!\", \"?\"],\n",
    "    }\n",
    ")\n",
    "\n",
    "instruction_parser = InstructionParser(\n",
    "    replace_dict={\"and\": [\"&\", \"'n\"], \"\": [\"#\", \"[\", \"]\"]}\n",
    ")\n",
    "\n",
    "ingredients_dict(nlg, args, instruction_parser, ingredient_parser)\n",
    "\n",
    "# coverage(nlg, kaggle_ingrs, args, instruction_parser, ingredient_parser)\n"
   ]
  }
 ],
 "metadata": {
  "interpreter": {
   "hash": "48dc0bcb511498b70c903f3424355862036d9e1a88e48990fa13c1639117d2bd"
  },
  "kernelspec": {
   "display_name": "Python 3.9.13 ('base')",
   "language": "python",
   "name": "python3"
  },
  "language_info": {
   "codemirror_mode": {
    "name": "ipython",
    "version": 3
   },
   "file_extension": ".py",
   "mimetype": "text/x-python",
   "name": "python",
   "nbconvert_exporter": "python",
   "pygments_lexer": "ipython3",
   "version": "3.9.13"
  },
  "orig_nbformat": 4
 },
 "nbformat": 4,
 "nbformat_minor": 2
}
