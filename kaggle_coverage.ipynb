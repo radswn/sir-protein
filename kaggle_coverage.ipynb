{
 "cells": [
  {
   "cell_type": "code",
   "execution_count": 1,
   "metadata": {},
   "outputs": [],
   "source": [
    "import pandas as pd"
   ]
  },
  {
   "cell_type": "code",
   "execution_count": 2,
   "metadata": {},
   "outputs": [],
   "source": [
    "nlg = pd.read_csv(\"data/recipeNLG/full_dataset.csv\")"
   ]
  },
  {
   "cell_type": "code",
   "execution_count": 3,
   "metadata": {},
   "outputs": [
    {
     "data": {
      "text/html": [
       "<div>\n",
       "<style scoped>\n",
       "    .dataframe tbody tr th:only-of-type {\n",
       "        vertical-align: middle;\n",
       "    }\n",
       "\n",
       "    .dataframe tbody tr th {\n",
       "        vertical-align: top;\n",
       "    }\n",
       "\n",
       "    .dataframe thead th {\n",
       "        text-align: right;\n",
       "    }\n",
       "</style>\n",
       "<table border=\"1\" class=\"dataframe\">\n",
       "  <thead>\n",
       "    <tr style=\"text-align: right;\">\n",
       "      <th></th>\n",
       "      <th>Unnamed: 0</th>\n",
       "      <th>title</th>\n",
       "      <th>ingredients</th>\n",
       "      <th>directions</th>\n",
       "      <th>link</th>\n",
       "      <th>source</th>\n",
       "      <th>NER</th>\n",
       "    </tr>\n",
       "  </thead>\n",
       "  <tbody>\n",
       "    <tr>\n",
       "      <th>0</th>\n",
       "      <td>0</td>\n",
       "      <td>No-Bake Nut Cookies</td>\n",
       "      <td>[\"1 c. firmly packed brown sugar\", \"1/2 c. eva...</td>\n",
       "      <td>[\"In a heavy 2-quart saucepan, mix brown sugar...</td>\n",
       "      <td>www.cookbooks.com/Recipe-Details.aspx?id=44874</td>\n",
       "      <td>Gathered</td>\n",
       "      <td>[\"brown sugar\", \"milk\", \"vanilla\", \"nuts\", \"bu...</td>\n",
       "    </tr>\n",
       "    <tr>\n",
       "      <th>1</th>\n",
       "      <td>1</td>\n",
       "      <td>Jewell Ball'S Chicken</td>\n",
       "      <td>[\"1 small jar chipped beef, cut up\", \"4 boned ...</td>\n",
       "      <td>[\"Place chipped beef on bottom of baking dish....</td>\n",
       "      <td>www.cookbooks.com/Recipe-Details.aspx?id=699419</td>\n",
       "      <td>Gathered</td>\n",
       "      <td>[\"beef\", \"chicken breasts\", \"cream of mushroom...</td>\n",
       "    </tr>\n",
       "    <tr>\n",
       "      <th>2</th>\n",
       "      <td>2</td>\n",
       "      <td>Creamy Corn</td>\n",
       "      <td>[\"2 (16 oz.) pkg. frozen corn\", \"1 (8 oz.) pkg...</td>\n",
       "      <td>[\"In a slow cooker, combine all ingredients. C...</td>\n",
       "      <td>www.cookbooks.com/Recipe-Details.aspx?id=10570</td>\n",
       "      <td>Gathered</td>\n",
       "      <td>[\"frozen corn\", \"cream cheese\", \"butter\", \"gar...</td>\n",
       "    </tr>\n",
       "    <tr>\n",
       "      <th>3</th>\n",
       "      <td>3</td>\n",
       "      <td>Chicken Funny</td>\n",
       "      <td>[\"1 large whole chicken\", \"2 (10 1/2 oz.) cans...</td>\n",
       "      <td>[\"Boil and debone chicken.\", \"Put bite size pi...</td>\n",
       "      <td>www.cookbooks.com/Recipe-Details.aspx?id=897570</td>\n",
       "      <td>Gathered</td>\n",
       "      <td>[\"chicken\", \"chicken gravy\", \"cream of mushroo...</td>\n",
       "    </tr>\n",
       "    <tr>\n",
       "      <th>4</th>\n",
       "      <td>4</td>\n",
       "      <td>Reeses Cups(Candy)</td>\n",
       "      <td>[\"1 c. peanut butter\", \"3/4 c. graham cracker ...</td>\n",
       "      <td>[\"Combine first four ingredients and press in ...</td>\n",
       "      <td>www.cookbooks.com/Recipe-Details.aspx?id=659239</td>\n",
       "      <td>Gathered</td>\n",
       "      <td>[\"peanut butter\", \"graham cracker crumbs\", \"bu...</td>\n",
       "    </tr>\n",
       "    <tr>\n",
       "      <th>5</th>\n",
       "      <td>5</td>\n",
       "      <td>Cheeseburger Potato Soup</td>\n",
       "      <td>[\"6 baking potatoes\", \"1 lb. of extra lean gro...</td>\n",
       "      <td>[\"Wash potatoes; prick several times with a fo...</td>\n",
       "      <td>www.cookbooks.com/Recipe-Details.aspx?id=20115</td>\n",
       "      <td>Gathered</td>\n",
       "      <td>[\"baking potatoes\", \"extra lean ground beef\", ...</td>\n",
       "    </tr>\n",
       "    <tr>\n",
       "      <th>6</th>\n",
       "      <td>6</td>\n",
       "      <td>Rhubarb Coffee Cake</td>\n",
       "      <td>[\"1 1/2 c. sugar\", \"1/2 c. butter\", \"1 egg\", \"...</td>\n",
       "      <td>[\"Cream sugar and butter.\", \"Add egg and beat ...</td>\n",
       "      <td>www.cookbooks.com/Recipe-Details.aspx?id=210288</td>\n",
       "      <td>Gathered</td>\n",
       "      <td>[\"sugar\", \"butter\", \"egg\", \"buttermilk\", \"flou...</td>\n",
       "    </tr>\n",
       "    <tr>\n",
       "      <th>7</th>\n",
       "      <td>7</td>\n",
       "      <td>Scalloped Corn</td>\n",
       "      <td>[\"1 can cream-style corn\", \"1 can whole kernel...</td>\n",
       "      <td>[\"Mix together both cans of corn, crackers, eg...</td>\n",
       "      <td>www.cookbooks.com/Recipe-Details.aspx?id=876969</td>\n",
       "      <td>Gathered</td>\n",
       "      <td>[\"cream-style corn\", \"whole kernel corn\", \"cra...</td>\n",
       "    </tr>\n",
       "    <tr>\n",
       "      <th>8</th>\n",
       "      <td>8</td>\n",
       "      <td>Nolan'S Pepper Steak</td>\n",
       "      <td>[\"1 1/2 lb. round steak (1-inch thick), cut in...</td>\n",
       "      <td>[\"Roll steak strips in flour.\", \"Brown in skil...</td>\n",
       "      <td>www.cookbooks.com/Recipe-Details.aspx?id=375254</td>\n",
       "      <td>Gathered</td>\n",
       "      <td>[\"tomatoes\", \"water\", \"onions\", \"Worcestershir...</td>\n",
       "    </tr>\n",
       "    <tr>\n",
       "      <th>9</th>\n",
       "      <td>9</td>\n",
       "      <td>Millionaire Pie</td>\n",
       "      <td>[\"1 large container Cool Whip\", \"1 large can c...</td>\n",
       "      <td>[\"Empty Cool Whip into a bowl.\", \"Drain juice ...</td>\n",
       "      <td>www.cookbooks.com/Recipe-Details.aspx?id=794547</td>\n",
       "      <td>Gathered</td>\n",
       "      <td>[\"pineapple\", \"condensed milk\", \"lemons\", \"pec...</td>\n",
       "    </tr>\n",
       "  </tbody>\n",
       "</table>\n",
       "</div>"
      ],
      "text/plain": [
       "   Unnamed: 0                     title  \\\n",
       "0           0       No-Bake Nut Cookies   \n",
       "1           1     Jewell Ball'S Chicken   \n",
       "2           2               Creamy Corn   \n",
       "3           3             Chicken Funny   \n",
       "4           4      Reeses Cups(Candy)     \n",
       "5           5  Cheeseburger Potato Soup   \n",
       "6           6       Rhubarb Coffee Cake   \n",
       "7           7            Scalloped Corn   \n",
       "8           8      Nolan'S Pepper Steak   \n",
       "9           9           Millionaire Pie   \n",
       "\n",
       "                                         ingredients  \\\n",
       "0  [\"1 c. firmly packed brown sugar\", \"1/2 c. eva...   \n",
       "1  [\"1 small jar chipped beef, cut up\", \"4 boned ...   \n",
       "2  [\"2 (16 oz.) pkg. frozen corn\", \"1 (8 oz.) pkg...   \n",
       "3  [\"1 large whole chicken\", \"2 (10 1/2 oz.) cans...   \n",
       "4  [\"1 c. peanut butter\", \"3/4 c. graham cracker ...   \n",
       "5  [\"6 baking potatoes\", \"1 lb. of extra lean gro...   \n",
       "6  [\"1 1/2 c. sugar\", \"1/2 c. butter\", \"1 egg\", \"...   \n",
       "7  [\"1 can cream-style corn\", \"1 can whole kernel...   \n",
       "8  [\"1 1/2 lb. round steak (1-inch thick), cut in...   \n",
       "9  [\"1 large container Cool Whip\", \"1 large can c...   \n",
       "\n",
       "                                          directions  \\\n",
       "0  [\"In a heavy 2-quart saucepan, mix brown sugar...   \n",
       "1  [\"Place chipped beef on bottom of baking dish....   \n",
       "2  [\"In a slow cooker, combine all ingredients. C...   \n",
       "3  [\"Boil and debone chicken.\", \"Put bite size pi...   \n",
       "4  [\"Combine first four ingredients and press in ...   \n",
       "5  [\"Wash potatoes; prick several times with a fo...   \n",
       "6  [\"Cream sugar and butter.\", \"Add egg and beat ...   \n",
       "7  [\"Mix together both cans of corn, crackers, eg...   \n",
       "8  [\"Roll steak strips in flour.\", \"Brown in skil...   \n",
       "9  [\"Empty Cool Whip into a bowl.\", \"Drain juice ...   \n",
       "\n",
       "                                              link    source  \\\n",
       "0   www.cookbooks.com/Recipe-Details.aspx?id=44874  Gathered   \n",
       "1  www.cookbooks.com/Recipe-Details.aspx?id=699419  Gathered   \n",
       "2   www.cookbooks.com/Recipe-Details.aspx?id=10570  Gathered   \n",
       "3  www.cookbooks.com/Recipe-Details.aspx?id=897570  Gathered   \n",
       "4  www.cookbooks.com/Recipe-Details.aspx?id=659239  Gathered   \n",
       "5   www.cookbooks.com/Recipe-Details.aspx?id=20115  Gathered   \n",
       "6  www.cookbooks.com/Recipe-Details.aspx?id=210288  Gathered   \n",
       "7  www.cookbooks.com/Recipe-Details.aspx?id=876969  Gathered   \n",
       "8  www.cookbooks.com/Recipe-Details.aspx?id=375254  Gathered   \n",
       "9  www.cookbooks.com/Recipe-Details.aspx?id=794547  Gathered   \n",
       "\n",
       "                                                 NER  \n",
       "0  [\"brown sugar\", \"milk\", \"vanilla\", \"nuts\", \"bu...  \n",
       "1  [\"beef\", \"chicken breasts\", \"cream of mushroom...  \n",
       "2  [\"frozen corn\", \"cream cheese\", \"butter\", \"gar...  \n",
       "3  [\"chicken\", \"chicken gravy\", \"cream of mushroo...  \n",
       "4  [\"peanut butter\", \"graham cracker crumbs\", \"bu...  \n",
       "5  [\"baking potatoes\", \"extra lean ground beef\", ...  \n",
       "6  [\"sugar\", \"butter\", \"egg\", \"buttermilk\", \"flou...  \n",
       "7  [\"cream-style corn\", \"whole kernel corn\", \"cra...  \n",
       "8  [\"tomatoes\", \"water\", \"onions\", \"Worcestershir...  \n",
       "9  [\"pineapple\", \"condensed milk\", \"lemons\", \"pec...  "
      ]
     },
     "execution_count": 3,
     "metadata": {},
     "output_type": "execute_result"
    }
   ],
   "source": [
    "nlg.head(10)"
   ]
  },
  {
   "cell_type": "code",
   "execution_count": 4,
   "metadata": {},
   "outputs": [
    {
     "data": {
      "text/plain": [
       "array(['Gathered', 'Recipes1M'], dtype=object)"
      ]
     },
     "execution_count": 4,
     "metadata": {},
     "output_type": "execute_result"
    }
   ],
   "source": [
    "nlg.source.unique()"
   ]
  },
  {
   "cell_type": "code",
   "execution_count": 5,
   "metadata": {},
   "outputs": [],
   "source": [
    "# !pip install nltk\n",
    "# import nltk\n",
    "# from nltk.stem import WordNetLemmatizer\n",
    "# from nltk.tokenize import word_tokenize\n",
    "# nltk.download('punkt')\n",
    "# nltk.download('wordnet')\n",
    "# nltk.download('omw-1.4')"
   ]
  },
  {
   "cell_type": "code",
   "execution_count": 6,
   "metadata": {},
   "outputs": [
    {
     "data": {
      "text/plain": [
       "'[\"brown sugar\", \"milk\", \"vanilla\", \"nuts\", \"butter\", \"bite size shredded rice biscuits\"]'"
      ]
     },
     "execution_count": 6,
     "metadata": {},
     "output_type": "execute_result"
    }
   ],
   "source": [
    "nlg[\"NER\"][0]"
   ]
  },
  {
   "cell_type": "code",
   "execution_count": 7,
   "metadata": {},
   "outputs": [
    {
     "data": {
      "text/plain": [
       "'[\"In a heavy 2-quart saucepan, mix brown sugar, nuts, evaporated milk and butter or margarine.\", \"Stir over medium heat until mixture bubbles all over top.\", \"Boil and stir 5 minutes more. Take off heat.\", \"Stir in vanilla and cereal; mix well.\", \"Using 2 teaspoons, drop and shape into 30 clusters on wax paper.\", \"Let stand until firm, about 30 minutes.\"]'"
      ]
     },
     "execution_count": 7,
     "metadata": {},
     "output_type": "execute_result"
    }
   ],
   "source": [
    "nlg[\"directions\"][0]"
   ]
  },
  {
   "cell_type": "markdown",
   "metadata": {},
   "source": [
    "## GISMO ingredient preprocessing"
   ]
  },
  {
   "cell_type": "code",
   "execution_count": 8,
   "metadata": {},
   "outputs": [],
   "source": [
    "from scripts.preprocessing import *\n",
    "\n",
    "\n",
    "args = Args(minnumingrs=2, minnuminstrs=3, maxnuminstrs=12, maxnumingrs=10, \n",
    "            minnumwords=50, majority_lvl=0.5, threshold_ingrs=10)\n",
    "\n",
    "ingredient_parser = IngredientParser(\n",
    "    replace_dict={\n",
    "        \"and\": [\"&\", \"'n\"],\n",
    "        \"\": [\"%\", \",\", \".\", \"#\", \"[\", \"]\", \"!\", \"?\"],\n",
    "    }\n",
    ")\n",
    "\n",
    "instruction_parser = InstructionParser(\n",
    "    replace_dict={\"and\": [\"&\", \"'n\"], \"\": [\"#\", \"[\", \"]\"]}\n",
    ")\n",
    "\n",
    "ingrs, cluster_ingrs = ingredients_dict(nlg, args, instruction_parser, ingredient_parser)\n"
   ]
  },
  {
   "cell_type": "code",
   "execution_count": null,
   "metadata": {},
   "outputs": [
    {
     "name": "stdout",
     "output_type": "stream",
     "text": [
      "{'macaroni': ['elbow_macaroni', 'macaroni', 'deluxe_macaroni', 'whole_wheat_elbow_macaroni', 'favourite_macaroni', 'shell_macaroni', 'pasta_elbow_macaroni', 'short_macaroni', 'whole_wheat_macaroni', 'salad_cooked_macaroni', 'packagekraft_deluxe_macaroni', 'spiral_macaroni', 'barilla_macaroni', 'ring_macaroni', 'weight_macaroni', 'macaroni_cooked', 'wagon_wheel_macaroni', 'multi-grain_elbow_macaroni', 'elbo_macaroni', 'bowl_of_macaroni', 'salad_macaroni', 'trio_macaroni', 'cooked_shell_macaroni', 'whole_grain_elbow_macaroni', 'orzo_macaroni', 'colored_macaroni', 'boxwhite_cheddar_macaroni', 'fibre-enriched_elbow_macaroni', 'boxvelveeta_macaroni', 'boxof_uncooked_elbow_macaroni', 'baby_shell_macaroni', 'cooled_salad_macaroni', 'acini_macaroni', 'penne_macaroni', 'pasta_shell_macaroni', 'packagekraft_macaroni', 'cooked_spiral_macaroni', 'cork_screw_macaroni', 'velveeta_macaroni', 'seashell_macaroni', 'creamettes_macaroni', 'packagemulti-colored_corkscrew_macaroni', 'multi-colored_macaroni', 'cheeseburger_macaroni', 'golden_brown_grain_macaroni', 'packagevelveeta_macaroni', 'favorite_macaroni', 'multi-colored_spiral_macaroni', 'mostaciolli_macaroni', 'brown_rice_macaroni', 'broccoli_macaroni', 'corkscrew_macaroni', 'packagedry_shell_macaroni', 'cool_cooked_macaroni', 'shelled_macaroni', 'of_spiral_macaroni', 'medium_shell_macaroni', 'packagedeluxe_macaroni', 'elbo_roni_macaroni', 'cavatappi_macaroni', 'creamette_macaroni', 'tiny_shell_macaroni', 'cook_macaroni', 'alphabet_macaroni', 'boxbox_elbow_macaroni', 'macaroni_anicini', 'dried_wagon_wheel_macaroni', 'multi-grain_macaroni'], 'cheese': ['american_cheese', 'cheddar_cheese', 'parmesan_cheese', 'romano_cheese', 'any_cheese', 'grated_cheese', 'philadelphia_cream_cheese', 'cream_cheese', 'mozzarella_cheese', 'cheese', 'cottage_cheese', 'swiss_cheese', 'ricotta_cheese', 'chevre_cheese', 'fontina_cheese', 'gorgonzola_cheese', 'feta_cheese', 'four_cheese', 'three_cheese', 'cotija_cheese', 'goat_cheese', 'blue_cheese', 'velveeta_cheese', 'string_cheese', 'milk_ricotta_cheese', 'light_cream_cheese', 'jack_cheese', 'weight_cream_cheese', 'chilli_cheese', 'sharp_cheese', 'tasty_cheese', 'chedder_cheese', 'velveeta_reduced_fat_cheese', 'whiz_cheese', 'mascarpone_cheese', 'cambozola_cheese', 'mild_cheese', 'parmesean_cheese', 'gruyere_cheese', 'frozen_cheese', 'low-fat_ricotta_cheese', 'orange_cream_cheese', 'blend_cheese', 'philadelphia_light_cream_cheese', 'brie_cheese', 'cheese_cheese', 'parmasan_cheese', 'havarti_cheese', 'shredded_cheese', 'manchego_cheese', 'gouda_cheese', 'provolone_cheese', 'favorite_cheese', 'colby_jack_cheese', 'herbed_cheese', 'polly-o_original_ricotta_cheese', 'asiago_cheese', 'philadelphia_original_cream_cheese', 'asigo_cheese', 'chunky_blue_cheese', 'parmesan_grated_cheese', 'freshly_grated_pecorino_romano_cheese', 'cswiss_cheese', 'mexican_cheese', 'melting_cheese', 'processed_cheese', 'pepper_cheese', 'shredded_monterey_jack_pepper_cheese', 'shredded_monterey_jack_cheese', 'italian_mix_cheese', 'edam_cheese', 'mozzarella_string_cheese', 'grated_monterey_jack_cheese', 'neufchatel_cheese', 'bleu_cheese', 'pimiento_cheese', 'mozarrella_cheese', 'camembert_cheese', 'emmenthal_cheese', 'pecorino_romano_cheese', 'comte_cheese', 'emmenthaler_cheese', 'vacherin_cheese', 'packageshredded_cheese', 'provel_cheese', 'spreadable_cheese_with', 'colby_cheese', 'padano_cheese', 'shredded_cracker_barrel_light_cheddar_cheese', 'longhorn_cheese', 'pizza_cheese', 'freshly_grated_parmesan_cheese', 'light_cheese', \"semi-soft_goat's_cheese\", 'extra_sharp_cheddar_cheese', 'low-fat_cheese', 'muenster_cheese', 'fresh_ricotta_cheese', 'provlone_cheese', 'monterey_jack_pepper_cheese', 'cold_cream_cheese', 'low-fat_cream_cheese', 'barrel_cheese', 'blanco_cheese', 'ground_parmesan_cheese', 'ozcream_cheese', 'whipped_cream_cheese', 'sprinkling_of_shredded_cheese', 'italian_cheese', 'milk_cheese', 'soy_cheese', 'kasseri_cheese', 'recipe_cheese', 'cube_cheese', 'leicester_cheese', 'free_cheese', 'easy_cheese_cream_cheese', 'marscarpone_cheese', 'emmentaler_cheese', 'cream-style_cottage_cheese', 'milk_mozzarella_cheese', 'individual_cheese', 'yellow_cheese', 'taleggio_cheese', 'graded_cheese', 'low-fat_swiss_cheese', 'brick_reduced-fat_cream_cheese', 'pecorino-romano_cheese', 'shredded_irish_cheddar_cheese', 'taco_cheese', 'english_cheese', 'philadelphia_whipped_cream_cheese', 'philadelphia_cinnamon_brown_sugar_cream_cheese', 'parmasean_cheese', \"goat's_cheese\", 'philadelphia_dark_chocolate_cream_cheese', 'freshtake_italian_parmesan_cheese', 'tasty_chedder_cheese', 'dheddar_cheese', 'pecorino_cheese', 'grated_nonfat_parmesan_cheese', 'halloumi_cheese', 'freshly_grated_pecorino_parmesan_cheese', 'hard_cheese', 'block_cheese', 'containers_ricotta_cheese', 'chili_cheese', 'white_cheese', 'farmer_cheese', 'roll_goat_cheese', 'containerphiladelphia_cream_cheese', 'yogurt_cheese', 'montrachet_goat_cheese', 'maytag_farms_blue_cheese', 'amercan_cheese', 'baked_cheese', 'fresh-grated_parmesan_cheese', 'wheel_brie_cheese', 'low-fat_low-sodium_monterey_jack_cheese', 'light_ricotta_cheese', \"'s_cheese\", 'tostitos_cheese', 'pimento_cheese', 'jarragu_cheese', 'harvati_cheese', 'gruere_cheese', 'pecorriono_cheese', 'sandwich_cheese', 'chopped_cheese', 'curd_cheese', 'creamy_cheese', 'fresh_mottzarella_cheese', 'fluid_cream_cheese', 'garlic_cream_cheese', 'dry-curd_cottage_cheese', 'fresh_goat_cheese', 'curd_cottage_cheese', 'farmers_cheese', 'soft_cheese', 'colby-monterey_jack_cheese', 'julienne_strips_of_swiss_cheese', 'burrata_cheese', 'kraft_monterey_jack_cheese', 'pack_of_cream_cheese', 'mixed_cheese', 'curd_style_cottage_cheese', 'parmessan_cheese', 'velveta_cheese', 'jarlsberg_cheese', 'fresh_grated_parmesan_cheese', 'jalapeno_cheese', 'nacho_cheese', 'pepperjack_cheese', 'aged_white_cheddar_cheese', 'mozzerella_cheese', 'polly-o_natural_part_skim_ricotta_cheese', 'parmesan_reggiano_cheese', 'stilton_cheese', 'singles_cheese', 'oaxaca_cheese', 'weight_white_cheddar_cheese', 'appenzeller_cheese', 'powdered_cheese', 'ligh_ricotta_cheese', 'parmigiano-reggiano_cheese', 'low-fat_cottage_cheese', 'liveactive_cream_cheese', 'mozallera_cheese', 'parm_cheese', 'fresh_farmers_cheese', 'vasterbotten_cheese', 'shredded_chedder_cheese', 'shredded_sharp_white_cheddar_cheese', 'of_cheese', 'fetta_cheese', 'bagsheared_cheese', 'deli_cheese', 'cantal_cheese', 'carton_curd_cottage_cheese', 'fiordilatte_cheese', 'freshly_shaved_parmesan_cheese', 'freshly_grated_gruyere_cheese', 'whipping_cream_cheese', 'cubed_cheese', 'tillamook_cheese', 'xinomyzithra_cheese', 'motzarella_cheese', 'flavored_cheese', 'lots_cheddar_cheese', 'emmental_cheese', 'freshly_grated_romano_cheese', 'chevre_goat_cheese', 'freshly_grated_parmigiano-reggiano_cheese', 'lemon-mint_cream_cheese', 'mozarella_cheese', 'scarmoza_cheese', 'chedar_cheese', 'freshly_grated_pecorino-romano_cheese', 'philadelphia_olive_cream_cheese', 'crumble_cheese', 'reggeano_cheese', 'wisconsin_cream_cheese', 'mozzraella_cheese', 'fresh_smoked_mozzarella_cheese', 'philadelphia_neufchatel_cheese', 'italian-blend_cheese', 'vegan_cheese', 'fresh_cheese', 'freshly_grated_mozzarella_cheese', 'shred_cheese', 'whole-milk_ricotta_cheese', 'marble_cheese', 'quesadilla_cheese', 'cream_style_cottage_cheese', 'n_cheese', 'mozrila_cheese', 'diced_cheese', 'salad_dressing_blue_cheese', 'motzerella_cheese', \"'_cheese\", 'bella_lodi_cheese', 'packagekraft_philadelphia_cream_cheese', 'barilla_three_cheese', 'ricotta_salata_cheese', 'type_cheese', 'emendal_cheese', 'refrigerated_cheese', 'shredded_sharp_cheddar_cheese', 'shredded_white_cheddar_cheese', 'thin_slice_cheddar_cheese', 'smooth_ricotta_cheese', 'nonfat_ricotta_cheese', 'philadelphia_cheese', 'thin_slices_swiss_cheese', 'low-fat_parmesan_cheese', 'soy_cream_cheese', 'fritos_chili_cheese', 'parmesian_cheese', 'grate_parmesan_cheese', 'continental_cheese', 'roquefort_cheese', 'crumbled_maytag_blue_cheese', 'packagefrozen_cheese', 'friendly_cheese', 'freshly_grated_pecorino_cheese', 'cheese_pasteurized_process', 'mayer_cheese', 'and_cheese', 'roman_cheese', 'white_american_cheese', 'philadelphia_bacon_cream_cheese', 'ricata_cheese', 'vegetarian_blue_cheese', 'condensed_cheese', 'freshly_grated_cheddar_cheese', 'mozarellla_cheese', 'crumbling_cheese', 'fresh_ovolini_mozzarella_cheese', 'beaufort_cheese', 'kasar_cheese', 'fat_cheese', 'munster_cheese', 'casserole_cheese', 'orange_cheese', 'wasabi_cheese', 'packagesshredded_cheese', 'cow_cheese', 'chocolate_cream_cheese', 'silton_cheese', 'crumbled_reduced_fat_feta_cheese', 'thin_slices_baby_swiss_cheese', 'minced_cheese', 'blu_cheese', 'fresco_cheese', 'vein_cheese', 'cedder_cheese', 'salad_cheese', 'roqueford_cheese', 'panela_cheese', 'rindless_goat_cheese', 'cheddar/jack_cheese', 'cubes_of_cheddar_cheese', 'jalapeno_pepper_cheese', 'pecorini_cheese', 'velvetta_cheese', 'kashkaval_cheese', 'bocconcini_cheese', 'fresh_soft_goat_cheese', 'mature_cheese', 'strawberry_cream_cheese', 'packagebuitoni_three_cheese', 'provalone_cheese', 'light_garden_vegetable_cream_cheese', 'containers_cream_cheese', 'veleveta_cheese', 'boursin_cheese', 'romano_parmigiano_cheese', 'bricks_cream_cheese', 'fresh_soft_goats_cheese', 'fresh_grate_parm_cheese', 'moz_cheese', 'cheadder_cheese', 'extra_shard_cheddar_cheese', 'idiazabal_cheese', 'garlic_cheese', 'parmigiano_cheese', 'low-fat_goat_cheese', 'mozzarella-cheddar_blend_cheese', 'grated_white_cheddar_cheese', 'veleeta_cheese', 'cake_philadelphia_cream_cheese', 'monterey_cheese', 'cojita_cheese', 'crumbled_cheese', 'candy-shaped_cheese', 'regular_cream_cheese', 'process_cheese', 'sugar_mozzarella_cheese', 'asadero_cheese', 'velvet_cheese', 'easy_cheese', 'queso_blanco_cheese', 'primula_cheese', 'shredded_nonfat_cheddar_cheese', 'grated_swiss_cheese', 'swiss_provolone_cheese', 'havard_cheese', 'greek_style_feta_cheese', 'string-ums_string_cheese', 'favorite_provolone_cheese', 'chedddar_cheese', 'mozzarela_cheese', 'grating_cheese', 'mix_cheese', 'california_blue_cheese', 'mexican_style_shredded_cheese', 'raclette_cheese', 'grated_chedder_cheese', 'quark_cheese', 'deli_provolone_cheese', 'other_cheese', 'aged_provolone_cheese', \"firm_goat's_cheese\", 'bel_paese_cheese', 'melted_cheese', 'wisconsin_mascarpone_cheese', 'season_cheese', 'full-fat_cream_cheese', 'white_mozzarella_cheese', 'goats_cheese', 'freshly-grated_parmesan_cheese', 'fantastic_cheese', 'parmasian_cheese', 'pumpkin_cream_cheese', 'cheese_shaved', 'shredded_young_pecorino_cheese', 'mahon_cheese', 'jar_cheese', 'rindless_soft_goat_cheese', 'locatelli_cheese', 'cheddae_cheese', 'jarisberg_cheese', 'extra_old_cheddar_cheese', 'low-fat_soft_cheese', 'cream_of_mushroom_soup_ritz_crackers_grated_cheese', 'semi-soft_goat_cheese', 'onion_cream_cheese', 'slc_cheese', 'firm_cheese', 'white_cheddar_cheese', 'kefalograviera_cheese', 'freshly_shaved_parmigiano-reggiano_cheese', 'helper_cheese', 'freshly_grated_imported_parmesan_cheese', 'brick_cream_cheese', 'low_fat_cheddar_cheese', 'packets_cream_cheese', 'bagshredded_cheese', 'locatelli_romano_cheese', 'semihard_cheese', 'mennonite_cheese', 'polly-o_all_natural_shredded_low-moisture_whole_milk_mozzarella_cheese', 'brick_cheese', 'greek_cheese', 'quesillo_cheese', 'swiss_au_gratin_cheese', 'powdered_dry_parmesan_cheese', 'mizithra_cheese', 'weight_creme_cheese', 'favourite_cheese', 'anejo_cheese', 'vegetable_cream_cheese', 'fribourgeois_cheese', 'menonita_cheese', 'cooked_cheese', 'shredded_nonfat_mozzarella_cheese', \"rindless_soft_goat's_cheese\", 'hajdu_cheese', 'favorite_bleu_cheese', 'roamano_cheese', 'marscapone_cheese', 'additional_cheese', 'or_cheese', 'imperial_cheese', 'macaroni_cheese', 'jarlesburg_cheese', 'melt_cheese', 'pavolone_cheese', 'preferred_cheese', 'shredded_cheese_of_choice(i', 'rutland_cheese', 'additional_goat_cheese', 'creamed_cheese', 'grams_cheese', 'soy_mozzarella_cheese', 'philatelphia_cheese', 'state_cheese', 'rigotta_cheese', 'fontanalla_cheese', 'fresh_grated_romano_cheese', 'asadero_mexican_quesa_cheese', 'wensleydale_cheese', 'package_cheese', 'sheredded_cheese', 'haloumi_cheese', 'pamesan_cheese', 'fresh_white_cheese', 'fresh_asiago_cheese', 'tangy_cheese', 'whipped_philledelphia_cream_cheese', 'white_cream_cheese', 'grinded_cheese', 'mascapone_cheese', 'paneer_cheese', 'cheddar_cheese_american_cheese', 'deli_cream_cheese', 'cabrales_cheese', 'romano_parmesan_cheese', 'salt_cheese', 'grated_monterrey_jack_cheese', 'pot_cheese', 'philadelphia_chipotle_cream_cheese', 'philadelphia_light_brick_cream_cheese', 'cheese_nips', 'herb_cheese', 'bruxelles_cheese', 'abondance_cheese', 'mascarpone_italian_cheese', 'cheez_its_cheese', 'bernsteins_cheese', 'shredded_italian_five_cheese', 'bleu-vein_cheese', 'packages_cheese', 'thin_slices_mozzarella_cheese', 'shredded_italian_blend_cheese', 'mozzorella_cheese', 'pecorina_cheese', 'monterey_jack_or_pepperjack_cheese', 'thin_strips_swiss_cheese', 'sharp_white_cheddar_cheese', 'italian_style_cheese', 'shaving_of_parmesan_cheese', 'liveactive_cheese', 'sargento_monterey_cheese', 'shredded_cracker_barrel_monterey_jack_cheese', 'extra_cheese', 'crontese_cheese', 'amul_cheese', 'cheddar-style_cheese', 'flavourful_cheese', 'low-fat_white_cheddar_cheese', 'curd_cream_style_cottage_cheese', 'salad_dressing_cheese', 'american_monterey_jack_cheese', 'caciocavallo_cheese', 'non-fat_ricotta_cheese', 'sheeps_cheese', 'thin_slices_fontina_cheese', 'shredded_italian_mix_cheese', 'rofumo_cheese', 'white-cheddar_cheese', 'jarsfour_cheese', 'sheats_cheese', 'your_favorite_pizza_cheese', 'semisoft_cheese', 'nonfat_cream_cheese', 'rancharo_cheese', 'triple_cheese', 'containers_goat_cheese', 'stracchino_cheese', 'robust_cheese', 'robusto_cheese', 'pavalone_cheese', 'burata_cheese', 'parmesam_cheese', 'ramano_cheese', 'grated_italian_fontina_cheese', 'ounce_cheese', 'broccoli_cheese', 'parmesan/romano_cheese', 'mascarpone_cream_cheese', 'caerphilly_cheese', 'cheddar_of_monterey_jack_cheese', 'mascaporne_cheese', 'dashes_cheese', 'pack_cheese', 'philadelphia_pineapple_cream_cheese', 'pats_cream_cheese', 'onion_cheese', 'limburger_cheese', 'savoie_cheese', 'mix_four_kind_of_favorite_cheese', 'freshly-crumbled_goat_cheese', 'fontinella_cheese', 'shredded_smoky_cheddar_cheese', 'valveeta_cheese', 'valveeta_shells_and_cheese', 'cheese_farmer', 'white_vegan_cheese', 'blanca_cheese', 'dolce_cheese', 'low_fat_cream_cheese', 'chive_and_onion_cream_cheese', 'freshly_grated_asiago_cheese', 'shreded_cheese', 'weight_cheese', \"fresh_goat's_cheese\", 'kraft_cheese', 'montasio_cheese', 'ranchero_cheese', 'parmesan-romano_cheese', 'parmigiana-reggiano_cheese', 'mediterranean_cheese', 'packagesphiladelphia_light_cream_cheese', 'packagemild_velveeta_mexican_cheese', 'gallon_cheese', 'goat_cheese_cheese', 'fiesta_blend_cheese', 'swiss_lorraine_cheese', 'mozzrella_cheese', 'pound_cracker_barrell_cheese', 'paresean_cheese', 'packagegoat_cheese', 'epoisses_cheese', 'good_shaved_parmesan_cheese', 'corn_chips_cheese', 'alfredo_cheese', 'red_pepper_cream_cheese', 'mottzarella_cheese', 'freshly_grated_locatelli_cheese', 'matured_cheese', 'monterrey_cheese', 'fresh_spanish_cheese', 'mozerralle_cheese', 'thin_slices_of_swiss_cheese', 'chihuahua_cheese', 'rubella_cheese', 'american-cheddar_cheese', 'blocks_of_paneer_cheese', 'brick_sharp_yellow_cheddar_cheese', 'mozerella_cheese', 'honey_nut_flavor_cream_cheese', 'horn_cheese', \"campbell's_cheddar_cheese\", 'mexican_style_taco_cheese', 'low-fat_mexican_cheese', 'french_cheese', 'light_monterey_jack_cheese', 'containers_velveeta_cream_cheese', 'pepato_cheese', 'campbells_cheese', 'frzn_cheese', 'philadelphia_light_strawberry_cream_cheese', 'paese_cheese', 'thin_slices_american_cheese', '+_cheese', 'aged_goat_cheese', 'buffalo_flavored_cheese', 'italian_style_shredded_cheese', 'packagemild_goat_cheese', 'italian_mascarpone_cheese', 'firm_brie_cheese', 'thin_slices_low-fat_white_cheddar_cheese', 'cheedar_cheese', 'mozz_cheese', 'shreadded_cheese', 'crushed_cheese_nips', 'squeezy_cheese', 'desired_cheese', 'chavrie_goat_cheese', 'flavor_cheese', 'non-fat_yogurt_cheese', 'handful_of_freshly_grated_parmesan_cheese', 'recuced-fat_ricotta_cheese', 'handful_pizza_cheese', 'low-fat_quark_cheese', \"l'eveque_cheese\", 'fresh_cream_cheese', 'lindberg_cheese', 'roitta_cheese', 'color_cheese', 'leichester_cheese', 'containercream_cheese', 'squirtable_cheese', 'robiola_cheese', 'some_cheese', 'aged_cheese', 'freshly_ground_parmesan_cheese', 'grated_white_american_cheese', 'favorite_grated_cheese', 'sheeps-milk_cheese', 'kiri_cheese', 'thin_slices_havarti_cheese', 'dill_cheese', 'nonfat_cheese', \"d'affinois_cheese\", 'bagsshredded_cheese', 'low-fat_monterey_jack_cheese', 'italian_five_cheese', 'fume_cheese', 'italian_blend_cheese', 'packagemild_soft_fresh_goat_cheese', 'medium_cheese', 'jareither_sharp_cheddar_cheese', 'cured_cheese', 'honey_goat_cheese', 'extra-light_cream_cheese', 'squerty_cheese', 'shredded_cheese_-', 'thin_slices_provolone_cheese', 'neufcatel_cheese', 'compliments_light_cream_cheese', 'asagio_cheese', 'mozzeralla_cheese', 'truffle_cheese', 'containers_blue_cheese', 'fresh_herb_goat_cheese', 'phillidelphia_cream_cheese', 'freshly_grated_parmigiano_reggiano_cheese', 'soy_parmesan_cheese', 'thin_slices_gouda_cheese', 'savoury_cheese', 'scamorozza_cheese', 'natural_swiss_cheese', 'lancashire_cheese', 'velvet_a_cheese', 'light_soft_cheese', 'baby_cheese', 'buttermilk_blue_cheese', 'cheetos_cheese', 'cream_cottage_cheese', 'all-natural_hot_pepper_cheese', 'mozza_cheese', 'cheese_smoked', 'non-fat_skim_lowfat_milk_ricotta_cheese', 'freshly_grated_fontina_cheese', 'tubs_philadelphia_cream_cheese', 'grated_aged_gouda_cheese', 'monterey-jack_cheese', 'crema_cheese', 'portuguese_cheese', 'monzarella_cheese', 'parmegian_cheese', 'canbroccoli_cheese', 'packagejalapeno_cheese', 'reese_cheese', 'camenbert_cheese', 'bagsfrozen_cheese', 'bitters_lettuce_cheese', 'white_chedder_cheese', 'andre_cheese', 'cheeder_cheese', 'philadephia_cheese', 'red_cheese', 'cubed_monterey_jack_pepper_cheese', 'grated_new_york_white_cheddar_cheese', 'wheel_of_brie_cheese', 'mozzerella_string_cheese', 'leftover-_cheese', 'chedderr_cheese', 'pkgs_cream_cheese', 'parmesan_style_cheese', 'block_of_velveeta_cheese', 'gm_cheese', 'tomato_cream_cheese', 'liquid_cheese', 'myzithra_cheese', 'freshly_grated_swiss_cheese', 'packagetomato_basil_feta_cheese', 'bitto_cheese', 'soy_provolone_cheese', 'saint-paulin_cheese', 'containerfresh_ricotta_cheese', 'vecchio_cheese', 'castelmagno_cheese', 'mediterranean_flavored_feta_cheese', 'mascarpone_italian_sweet_cheese', 'casino_swiss_cheese', 'italian_romano_cheese', 'quality_cheese', 'cheese_wiz', 'dolcelatte_cheese', 'chevre-style_goat_cheese', 'mountain_cheese', 'soya_cheese', 'cheddard_cheese', 'cheddar_jack_cheese', 'parmsean_cheese', 'shredded_velveeta_mexican_cheese', 'philadelphia_chocolate_cream_cheese', 'snappy_cheese', 'reblochon_cheese', 'topping_cheese', 'mozzarrella_cheese', 'philadelphia_black_cherry_cream_cheese', 'doritos_nacho_cheese', 'gloucester_cheese', 'castelli_cheese', 'italian-style_cheese', 'monterry_cheese', 'stravecchio_cheese', 'supremo_queso_fresco_mexicano_cheese', 'powdered_kraft_macaroni_cheese', 'graded_parmesan_cheese', 'wisconsin_gouda_cheese', 'horseradish_cheese', 'mozzella_cheese', 'block_philadelphia_cream_cheese', 'provelone_cheese', 'much_cheese', 'commercial_cheese', '*_cheese', 'provilone_cheese', 'parmansen_cheese', 'wisconsin_cheese', 'quality_store-bought_ricotta_cheese', 'chardder_cheese', 'fresh_romano_cheese', 'non-fat_cream_cheese', 'jalepeno_cheese', 'cheddar_cool_pack_cheese', 'pack_camembert_cheese', 'casein-free_cheese', 'rocchetta_cheese', 'fresly_grated_parmesan_cheese', 'shreddecd_cheese', 'nonfat_vanilla_yogurt_cheese', 'pack_of_philadelphia_cream_cheese', 'low-fat_mozzarella_cheese', 'packagespimento_cream_cheese', 'rice_parmesan_cheese', 'natural_cheese', 'norwegian_brown_cheese', 'bulgarian_cheese', 'parsley_flakes_american_cheese', 'mozzerela_cheese', 'were_cheese', 'colby_monterey_cheese', 'grated_light_cheddar_cheese', 'sheep_cheese', 'colby-jack_cheese', 'parmesan_romano_cheese', 'vinny_cheese', 'parmezan_cheese', 'philadelphia_italian_cheese', 'weight_watchers_cream_cheese', 'light_goat_cheese', 'lite_cream_cheese', 'natural_yellow_cheddar_cheese', 'shredded_jarlsberg_cheese', 'jarlesberg_cheese', 'shredded_canadian_cheddar_cheese', 'mexican_style_finely_shredded_cheese', 'packagesphiladelphia_light_brick_light_cream_cheese', 'grated_swiss_gruyere_cheese', 'parnesan_cheese', \"campbell's_condensed_broccoli_cheese\", 'semi-hard_italian_cheese', 'containers_whipped_cream_cheese', 'brick_of_mozzarella_cheese', 'kraft_cheese_vegie', 'ranch_cheese', 'shredded_warm_pepper_cheese', 'fancy-shred_mozzarella_cheese', 'cream-style_small_curd_cottage_cheese', 'g_cheese', 'romaino_cheese', 'turkish_cheese', 'low-fat_feta_cheese', 'freshly_grated_parmiggiano-reggiano_cheese', 'chunky_bleu_cheese', 'generous_amount_cheese', 'cashew_cheese', 'welsh_white_cheddar_cheese', 'process_cheese_produce', 'shedded_cheese', 'queso_fresco_cheese', 'mre_cheese', 'dairylee_cheese', 'queso_cheese', 'cubes_of_cheese', 'cheddar_cream_cheese', 'robiolina_cheese', 'mozzarella_italian_cheese', 'italian_fontina_cheese', 'strong_cheese', 'montegrappa_cheese', 'country_style_cottage_cheese', 'coconut_cream_cheese', 'nonfat_parmesan_cheese', 'itailan_cheese', 'chive_cream_cheese', 'gauda_cheese', 'mozzaraella_cheese', 'kaval_cheese', 'bite_sized_cubes_mozzarella_cheese', 'spanish_tetilla_cheese', 'philly_cheese', 'harvarti_cheese', 'sorrento_ricotta_cheese', 'oka_cheese', 'extra_sharp_white_cheddar_cheese', 'lemon_juice_parmesan_cheese', 'halumi_cheese', 'handful_of_parmesan_cheese', 'meltable_cheese', 'cacciocavallo_cheese', 'freshly-grated_cadiz_cheese', 'brick_philadelphia_cream_cheese', 'cubed_monterey_jack_cheese', 'fresh_italian_mozzarella_cheese', 'white_shredded_cheddar_cheese', 'thin_slice_swiss_cheese', 'samsoe_cheese', 'irish_cheese', 'spreadable_cheese', 'crushed_cheese', 'gold_cheese', 'purchased_cheese', 'kefalotyri_cheese', 'cool_maytag_blue_cheese', 'low-fat_monterey_jack_pepper_cheese', 'ouncescream_cheese', 'parmigiana_cheese', 'stilchester_cheese', 'cheddar_cheese_mozzarella_cheese', 'veggie_shreds_cheese', 'pack_snack_cheese', 'mixed_italian_cheese', 'abbey_cheese', 'cram_cheese', 'o_lakes_swiss_cheese', 'mascrapone_cheese', 'style_cheese', 'chadder_cheese', 'container_of_flavored_cream_cheese', 'regular_cheese', 'piave_cheese', 'pack_cream_cheese', 'sliced_cheese', 'bit_cheese', 'your_choice_cheese', 'jars_cheese', 'parmsan_cheese', 'fresh_lowfat_mozzarella_cheese', 'pharmesan_cheese', 'philadelphia_whipped_chive_cream_cheese', 'dried_cheese', 'lemon_cream_cheese', 'lemon_stilton_cheese', 'thin_shavings_fresh_parmigiano-reggiano_cheese', 'low-fat_tasty_cheese', 'mozzarella_part_skim_cheese', 'boxkraft_deluxe_amerian_cheese', 'scamorza_cheese', 'more_cheese', 'three-pepper_cheese', 'cakes_of_philadelphia_cream_cheese', 'hot_pepper_cheese', 'cream_cheese_cream_cheese', 'lots_cheese', 'italian_shredded_cheese', 'grueyere_cheese', 'port_wine_cheese', 'gramms_cheese', 'handful_of_cheese', 'montereyjack_cheese', 'calzone_cheese', 'mozerrella_cheese', 'crackers_cheese', 'shredded_monterey_cheese', 'freshly_grated_parmagiano-reggiano_cheese', 'handful_of_cheddar_cheese', 'almond_cheese', 'bavaria_cheese', 'fontal_cheese', 'mozzarella/provolone_cheese', 'jarlsburg_cheese', 'shredded_sharp_american_cheese', 'cojack_cheese', 'tubs_soft_cream_cheese', 'flavorful_cheese', 'state_goat_cheese', 'containerphiladelphia_whipped_cream_cheese', 'low_fat_mozzarella_cheese', 'manori_cheese', 'queso_blanco_velveta_cheese', 'asadero-style_cheese', 'assertive_blue_cheese', 'kind_cheese', ':_cheese', 'co-jack_cheese', 'packagepiladelphia_cream_cheese', 'crumbled_soft_fresh_goat_cheese', 'mozorella_cheese', 'light_soft_goat_cheese', 'fresh_shaved_parmesan_cheese', 'low-fat_shredded_mozzarella_cheese', 'montery_cheese', 'aged_asiago_cheese', 'chunk_cheese', 'black_parmesan_cheese', 'manouri_cheese', 'cheddar_cheese_string_cheese', 'cheese_chadder', 'grated_light_mozzarella_cheese', 'assorted_cheese', 'leftover_cheese', 'quesito_columbiano_cheese', 'italian-style_ricotta_cheese', 'artisanal_cheese', 'shredded_monterrey_jack_cheese', 'vegetarian_parmesan_cheese', 'paresan_cheese', 'whichever_cheese', 'white_swiss_cheese', 'shredded_white_american_cheese', 'dubliner_cheese', 'fave_cheese', 'garden_vegetable_cream_cheese', 'cream_brie_cheese', 'regular_pkg_cream_cheese', 'no_cheese', 'desoto_cheese', 'barilla_cheese', 'low_fat_ricotta_cheese', 'aged_caerphilly_cheese', 'gjetost_cheese', 'shreded_red_leichester_cheese', 'packetcontinental_cheese', 'farms_cheese', 'apple_smoked_gruyere_cheese', 'domestic_maytag_blue_cheese', 'italian_gorgonzola_blue_cheese', 'brown_sugar_cream_cheese', 'requeson_cheese', 'graded_romano_cheese', 'longhorn_style_cheddar_cheese', 'mozeralla_cheese', 'cameros_cheese', 'packets_paneer_cheese', 'italian_mozzarella_cheese', 'gated_cheese', 'shell_cheese', 'slice_cheese', 'jarsharp_cheese', 'shredded_yellow_american_cheese', 'nuefchatel_cheese', 'low-fat_gouda_cheese', 'parmensan_cheese', 'grisons_cheese', 'ricottia_cheese', 'cotswold_cheese', 'cheshire_cheese', 'etivaz_cheese', 'packageprocess_cheese', 'thin_shavings_of_parmesan_cheese', 'loaf_cheese', 'lf_cheese', \"hard_goat's_cheese\", 'old_cheese', 'philadelphia_caramel_white_chocolate_cream_cheese', 'disk_washed-rind_cheese', 'dachsteiner_cheese', 'mozterella_cheese', 'freshly_shredded_parmesan_cheese', 'velveetta_cheese', 'italian_grated_cheese', 'quickmelt_cheese', 'packagesneufchafel_cheese', 'easy-melt_cheese', 'riccota_cheese', 'salvadorian_cheese', 'deschamps_cheese', 'muster_cheese', 'preference_cheese', 'cracker_barrel_cheddar_cheese', 'friulano_cheese', 'shavings_of_parmesan_cheese', 'parmesan_soy_cheese', 'italian_provolone_cheese', 'recipe_cream_cheese', 'calorie_cheese', 'mouth_cheese', 'colby_monterey_jack_cheese', 'creme_cheese', 'monterey_jack_or_mozzarella_cheese', 'mozzarella_shredded_cheese', 'velveeta_style_cheese', 'bottled_cheese', 'saganaki_cheese', 'gratted_cheese', 'finger_cheese', 'mozzarell_cheese', 'cheddsr_cheese', 'merlot_cheese', 'logs_goat_cheese', 'enough_cheese', 'pecarino_cheese', 'anthotyro_cheese', 'mexican_style_cheese', 'grated_romano_parmesan_cheese', 'containers_soft_cream_cheese', 'shredded_ramano_cheese', 'shredded_cheese_cheddar_cheese', 'fresh_white_goat_cheese', 'valley_blue_cheese', 'shredded_tillamook_cheese', 'auribella_cheese', 'teleme_cheese', 'fresly_grated_parmesa_cheese', 'fresh_reduced-fat_ricotta_cheese', 'shredded_wisconsin_cheddar_cheese', 'wisconsin_brie_cheese', 'shredded_mozerella_cheese', 'fatfree_cheese', 'handful_cheese', 'nondairy_cheese', 'packagefresh_cheese', 'parmesan_and_romano_cheese', 'grated_reduced_fat_cheese', 'parmasen_cheese', 'freshly-ground_parmesan_cheese', 'white_sharp_cheddar_cheese', 'aged_irish_cheddar_cheese', 'grated_red_leicester_cheese', 'weight_nrvind_cheese', 'chihuaua_cheese', 'uncooked_cheese', 'hot_cheese', 'pasturized_cheese', 'packet_cheese', 'fresh_lightly_salted_mozzarella_cheese', 'plus_cheese', 'pineapple_cream_cheese', 'full-fat_cottage_cheese', 'havarti-dill_cheese', 'salmon_cream_cheese', 'packets_cheese', 'five_cheese', 'buttered_sharp_cheddar_cheese', 'ravioli_cheese', 'parmagian_cheese', 'containers_imperial_cheese', 'shredded_cheese_any', 'bresse_cheese', 'pinches_cheese', 'mozzarella_cheese_/_cheese', 'bagmozzarella_cheese', 'kefer_cheese', 'fresh_soft_mozzarella_cheese', 'ementaler_cheese', 'allouette_cheese', 'pack_philly_cheese', 'crumpled_goat_cheese', 'rondele_cheese', 'handful_of_vegan_cheese', 'cheddar-jack_cheese', 'package_cracker_barrel_cheese', 'parmeasan_cheese', 'cranberry_cheese', 'grates_parmesan_cheese', 'bacon_cheese', 'freshly-grated_monterey_jack_cheese', 'pack_plain_cream_cheese', 'other_brie_like_cheese', 'shrredded_monterey_jack_cheese', 'sweet_gorgonzola_cheese', 'culinary_cheese', 'cheddar-mozzarella_cheese', 'colbyandmontereyjack_cheese', 'romando_cheese', 'chedard_cheese', 'brick_of_cheddar_cheese', 'merkts_cheese', 'thin_slices_of_cheese', 'packagebroccoli_cheese', 'veleveeta_cheese', 'government_cheese', 'bulk_cheese', 'fiesta_cheese', 'pumpkin_spice_cream_cheese', 'microplane_cheese', 'freshly_grated_caciocavallo_cheese', 'deli_white_american_cheese', 'extra_sharp_yellow_cheddar_cheese', 'white_jalapeno_pepper_cheese', 'strawberry_neufchatel_cheese', 'weight_non_dairy_cream_cheese', 'containerlow-fat_cottage_cheese', 'warm_goat_cheese', 'scattering_of_feta_cheese', 'ground_kefalograviera_cheese', 'freshly_grated_idiazabal_cheese', 'freshly_grated_caciotta_cheese', 'honey_nut_cream_cheese', 'tuna_cheese', 'flavoured_cheese', 'blended_cheese', 'shredded_fiesta_blend_cheese', 'pound_cheese', 'containers_soy_cream_cheese', 'torgotta_cheese', 'shredded_monterey/jack_cheese', 'guda_cheese', 'velveeta(or_cheese', 'other_chedder_cheese', 'lite_cheese', 'freshly_grated_jarlsberg_cheese', 'brick_style_cream_cheese', 'amount_cheese', 'julienne_strips_swiss_cheese', 'greek_goat_feta_cheese', 'full_of_ricotta_cheese', 'garden_cream_cheese', 'chredded_italian_blend_cheese', 'shredded_light_cheddar_cheese', 'borden_small_curd_cottage_cheese', 'mozzarellissima_cheese', 'mixed_white_cheese', 'bite_size_reduced-fat_cheese', 'mexican_style_cheddar_cheese', 'pamassan_cheese', 'havarati_cheese', 'provolone_orie_mozzarella_cheese', 'part-skin_mozzarella_cheese', 'reserve_cheese', 'cheddar_style_cheese', 'extra_blue_cheese', 'parmiggiano_reggiano_cheese', 'provoline_cheese', 'lactose_free_swiss_cheese', 'sour_cherry_cream_cheese', 'freshly_grated_parmigiano_cheese', 'vegetarian_gruyere_cheese', 'sprinkling_of_parmesan_cheese', 'desire_cheese', 'italian_hard_cheese', 'pamisano_cheese', 'non_fat_cottages_cheese', 'freshly_grated_cotija_cheese', 'glocester_cheese', 'crescenza_cheese', 'paso_cheese', 'parmesan_sprinke_cheese', 'freshly_grated_parmeasan_cheese', 'handful_of_shredded_cheese', 'low-fat_shredded_cheese', 'caso_blanca_cheese', 'tur_cheese', 'white_string_cheese', 'cheese_dip']}\n",
      "{'elbow_macaroni': 923, 'american_cheese': 957}\n",
      "7506\n"
     ]
    }
   ],
   "source": [
    "from itertools import islice\n",
    "\n",
    "print(dict(islice(cluster_ingrs.items(), 0, 2)))\n",
    "print(dict(islice(cluster_ingrs.items(), 0, 3)))\n",
    "\n",
    "print(dict(islice(ingrs.items(), 0, 2)))\n",
    "print(len(cluster_ingrs))"
   ]
  },
  {
   "cell_type": "markdown",
   "metadata": {},
   "source": [
    "### Enhanced preprocessing"
   ]
  },
  {
   "cell_type": "code",
   "execution_count": 11,
   "metadata": {},
   "outputs": [
    {
     "name": "stdout",
     "output_type": "stream",
     "text": [
      "1435\n",
      "1435\n",
      "['elbow_macaroni', 'macaroni', 'deluxe_macaroni', 'whole_wheat_elbow_macaroni', 'favourite_macaroni', 'shell_macaroni', 'pasta_elbow_macaroni', 'short_macaroni', 'whole_wheat_macaroni', 'salad_cooked_macaroni', 'packagekraft_deluxe_macaroni', 'spiral_macaroni', 'barilla_macaroni', 'ring_macaroni', 'weight_macaroni', 'macaroni_cooked', 'wagon_wheel_macaroni', 'multi-grain_elbow_macaroni', 'elbo_macaroni', 'bowl_of_macaroni', 'salad_macaroni', 'trio_macaroni', 'cooked_shell_macaroni', 'whole_grain_elbow_macaroni', 'orzo_macaroni', 'colored_macaroni', 'boxwhite_cheddar_macaroni', 'fibre-enriched_elbow_macaroni', 'boxvelveeta_macaroni', 'boxof_uncooked_elbow_macaroni', 'baby_shell_macaroni', 'cooled_salad_macaroni', 'acini_macaroni', 'penne_macaroni', 'pasta_shell_macaroni', 'packagekraft_macaroni', 'cooked_spiral_macaroni', 'cork_screw_macaroni', 'velveeta_macaroni', 'seashell_macaroni', 'creamettes_macaroni', 'packagemulti-colored_corkscrew_macaroni', 'multi-colored_macaroni', 'cheeseburger_macaroni', 'golden_brown_grain_macaroni', 'packagevelveeta_macaroni', 'favorite_macaroni', 'multi-colored_spiral_macaroni', 'mostaciolli_macaroni', 'brown_rice_macaroni', 'broccoli_macaroni', 'corkscrew_macaroni', 'packagedry_shell_macaroni', 'cool_cooked_macaroni', 'shelled_macaroni', 'of_spiral_macaroni', 'medium_shell_macaroni', 'packagedeluxe_macaroni', 'elbo_roni_macaroni', 'cavatappi_macaroni', 'creamette_macaroni', 'tiny_shell_macaroni', 'cook_macaroni', 'alphabet_macaroni', 'boxbox_elbow_macaroni', 'macaroni_anicini', 'dried_wagon_wheel_macaroni', 'multi-grain_macaroni']\n"
     ]
    }
   ],
   "source": [
    "print(ingrs[\"macaroni\"])\n",
    "print(ingrs[\"macaroni\"])\n",
    "print(cluster_ingrs[\"macaroni\"])"
   ]
  },
  {
   "cell_type": "code",
   "execution_count": 12,
   "metadata": {},
   "outputs": [],
   "source": [
    "#  add typo handling\n",
    "\n",
    "from textblob import TextBlob\n",
    "\n",
    "typos = {} # key- typo; value- corrected word\n",
    "\n",
    "def fix_ing(word):\n",
    "    word = str.split(word, \"_\")\n",
    "    corrected = []\n",
    "    for w in word:\n",
    "        if w in typos.keys():\n",
    "            w = typos[w]\n",
    "        else:\n",
    "            gfg = TextBlob(w) \n",
    "            w = gfg.correct()\n",
    "        corrected.append(str(w))\n",
    "    return \"_\".join(corrected)\n",
    "\n",
    "def fix_typos(l):\n",
    "    new_l = []\n",
    "    for word in l:\n",
    "        word = fix_ing(word)\n",
    "        new_l.append(word)\n",
    "    return new_l"
   ]
  },
  {
   "cell_type": "code",
   "execution_count": 13,
   "metadata": {},
   "outputs": [],
   "source": [
    "def remove_special_characters(input_string):\n",
    "    pattern = re.compile('[^a-zA-Z0-9_]')\n",
    "    result_string = re.sub(pattern, '_', input_string)\n",
    "    \n",
    "    return result_string"
   ]
  },
  {
   "cell_type": "code",
   "execution_count": 14,
   "metadata": {},
   "outputs": [],
   "source": [
    "# special characters check (delete e.g. \"/\" next to words)\n",
    "\n",
    "# Remove all the characters from the beginning and the end of the word that are not letters\n",
    "# Replace all - with _ in the ingredients\n",
    "# Handle typos\n",
    "\n",
    "def clean_ingrs(ingrs, cluster_ingrs):\n",
    "    for key in cluster_ingrs.keys():\n",
    "        cluster_ingrs[key] = fix_typos([re.sub(r'^[^a-zA-Z]+|[^a-zA-Z]+$', \"\", x).replace(\"-\", \"_\").replace(\"__\", \"_\").replace(\"__\", \"_\") for x in cluster_ingrs[key]])\n",
    "        key = remove_special_characters(re.sub('^[^a-zA-Z]*|[^a-zA-Z]*$','', key).replace(\"-\", \"_\").replace(\"__\", \"_\").replace(\"__\", \"_\"))\n",
    "    ingrs = {remove_special_characters(re.sub('^[^a-zA-Z]*|[^a-zA-Z]*$','', key).replace(\"-\", \"_\").replace(\"__\", \"_\").replace(\"__\", \"_\")): ingrs[key] for key in ingrs.keys()}\n",
    "    return ingrs, cluster_ingrs\n",
    "\n",
    "ingrs, cluster_ingrs = clean_ingrs(ingrs, cluster_ingrs)"
   ]
  },
  {
   "cell_type": "code",
   "execution_count": null,
   "metadata": {},
   "outputs": [
    {
     "name": "stdout",
     "output_type": "stream",
     "text": [
      "Len ings before:  6745\n",
      "Len ings after:  6745\n",
      "Len cluster ings before:  7506\n",
      "Len cluster ings after:  7506\n"
     ]
    }
   ],
   "source": [
    "from copy import deepcopy\n",
    "\n",
    "# fast solution- adding similar ingredients to the cluster and then combining these clusters\n",
    "def combine_similar_ingrs(ingrs, cluster_ingrs):\n",
    "    cluster_ingrs_comb = deepcopy(cluster_ingrs)\n",
    "    ingrs_comb = deepcopy(ingrs)\n",
    "\n",
    "    for i in ingrs.keys():\n",
    "        occurences = [ing for ing in ingrs.keys() if i in ing and i != ing]\n",
    "\n",
    "        # Combine the ingredients from the first cluster with the similar ingredients\n",
    "        if occurences != []:\n",
    "            if i in cluster_ingrs.keys():\n",
    "                cluster_ingrs_comb[i] = cluster_ingrs[i] + occurences\n",
    "                \n",
    "                # Combine first cluster with the clusters of similar ingredients \n",
    "                for ing in occurences:\n",
    "                    if ing in cluster_ingrs.keys():\n",
    "                        cluster_ingrs_comb[i] += cluster_ingrs[ing]            \n",
    "\n",
    "    for ii in cluster_ingrs_comb.keys():\n",
    "        cluster_ingrs_comb[ii] = list(set(cluster_ingrs_comb[ii]))\n",
    "        if len(cluster_ingrs_comb[ii]) > len(cluster_ingrs[ii]):\n",
    "            print(cluster_ingrs[ii], \"\\n\", cluster_ingrs_comb[ii], \"\\n\")\n",
    "\n",
    "    print(\"Len ings before: \", len(ingrs))\n",
    "    print(\"Len ings after: \", len(ingrs_comb))\n",
    "    print(\"Len cluster ings before: \", len(cluster_ingrs))\n",
    "    print(\"Len cluster ings after: \", len(cluster_ingrs_comb))\n",
    "\n",
    "    return ingrs_comb, cluster_ingrs_comb\n",
    "\n",
    "ingrs, cluster_ingrs = combine_similar_ingrs(ingrs, cluster_ingrs)"
   ]
  },
  {
   "cell_type": "code",
   "execution_count": null,
   "metadata": {},
   "outputs": [],
   "source": [
    "# Add methods for better coverage check, such as:\n",
    "# too short/too long names handling\n"
   ]
  },
  {
   "cell_type": "code",
   "execution_count": null,
   "metadata": {},
   "outputs": [],
   "source": [
    "#  filtering of brand names\n",
    "food_brands = [\"cheerios\", \"cini_minis\", \"heinz\", \"kelloggs\", \"nestle\", \"general_mills\", \"quaker\", \"coca_cola\", \"pepsi\", \"campbells\", \"pringles\", \"ritz\", \"oreo\", \"nutella\", \"jif\", \"skippy\", \"smuckers\", \"pillsbury\", \"betty_crocker\", \"mccormick\", \"hellmanns\", \"kraft_heinz\", \"dole\", \"del_monte\", \"chobani\", \"yoplait\", \"danone\", \"tropicana\", \"minute_maid\", \"pepperidge_farm\", \"sara_lee\", \"breyers\"]\n"
   ]
  },
  {
   "cell_type": "code",
   "execution_count": null,
   "metadata": {},
   "outputs": [],
   "source": [
    "# print covered items\n"
   ]
  },
  {
   "cell_type": "markdown",
   "metadata": {},
   "source": [
    "## Kaggle dataset"
   ]
  },
  {
   "cell_type": "markdown",
   "metadata": {},
   "source": [
    "https://www.kaggle.com/datasets/thedevastator/now-with-more-nutrients/"
   ]
  },
  {
   "cell_type": "code",
   "execution_count": 79,
   "metadata": {},
   "outputs": [],
   "source": [
    "kaggle = pd.read_csv(\"data/kaggle/cleaned_ingredients.csv\")"
   ]
  },
  {
   "cell_type": "code",
   "execution_count": 80,
   "metadata": {},
   "outputs": [
    {
     "data": {
      "text/html": [
       "<div>\n",
       "<style scoped>\n",
       "    .dataframe tbody tr th:only-of-type {\n",
       "        vertical-align: middle;\n",
       "    }\n",
       "\n",
       "    .dataframe tbody tr th {\n",
       "        vertical-align: top;\n",
       "    }\n",
       "\n",
       "    .dataframe thead th {\n",
       "        text-align: right;\n",
       "    }\n",
       "</style>\n",
       "<table border=\"1\" class=\"dataframe\">\n",
       "  <thead>\n",
       "    <tr style=\"text-align: right;\">\n",
       "      <th></th>\n",
       "      <th>NDB_No</th>\n",
       "      <th>Descrip</th>\n",
       "      <th>Energy_kcal</th>\n",
       "      <th>Protein_g</th>\n",
       "      <th>Saturated_fats_g</th>\n",
       "      <th>Fat_g</th>\n",
       "      <th>Carb_g</th>\n",
       "      <th>Fiber_g</th>\n",
       "      <th>Sugar_g</th>\n",
       "      <th>Calcium_mg</th>\n",
       "      <th>...</th>\n",
       "      <th>VitC_mg</th>\n",
       "      <th>Thiamin_mg</th>\n",
       "      <th>Riboflavin_mg</th>\n",
       "      <th>Niacin_mg</th>\n",
       "      <th>VitB6_mg</th>\n",
       "      <th>Folate_mcg</th>\n",
       "      <th>VitB12_mcg</th>\n",
       "      <th>VitA_mcg</th>\n",
       "      <th>VitE_mg</th>\n",
       "      <th>VitD2_mcg</th>\n",
       "    </tr>\n",
       "  </thead>\n",
       "  <tbody>\n",
       "    <tr>\n",
       "      <th>0</th>\n",
       "      <td>1001</td>\n",
       "      <td>butter with salt</td>\n",
       "      <td>717.0</td>\n",
       "      <td>0.85</td>\n",
       "      <td>51.368</td>\n",
       "      <td>81.11</td>\n",
       "      <td>0.06</td>\n",
       "      <td>0.0</td>\n",
       "      <td>0.06</td>\n",
       "      <td>24.0</td>\n",
       "      <td>...</td>\n",
       "      <td>0.0</td>\n",
       "      <td>0.005</td>\n",
       "      <td>0.034</td>\n",
       "      <td>0.042</td>\n",
       "      <td>0.003</td>\n",
       "      <td>3.0</td>\n",
       "      <td>0.17</td>\n",
       "      <td>684.0</td>\n",
       "      <td>2.32</td>\n",
       "      <td>0.0</td>\n",
       "    </tr>\n",
       "    <tr>\n",
       "      <th>1</th>\n",
       "      <td>1002</td>\n",
       "      <td>butter whipped w salt</td>\n",
       "      <td>718.0</td>\n",
       "      <td>0.49</td>\n",
       "      <td>45.390</td>\n",
       "      <td>78.30</td>\n",
       "      <td>2.87</td>\n",
       "      <td>0.0</td>\n",
       "      <td>0.06</td>\n",
       "      <td>23.0</td>\n",
       "      <td>...</td>\n",
       "      <td>0.0</td>\n",
       "      <td>0.007</td>\n",
       "      <td>0.064</td>\n",
       "      <td>0.022</td>\n",
       "      <td>0.008</td>\n",
       "      <td>4.0</td>\n",
       "      <td>0.07</td>\n",
       "      <td>683.0</td>\n",
       "      <td>1.37</td>\n",
       "      <td>0.0</td>\n",
       "    </tr>\n",
       "    <tr>\n",
       "      <th>2</th>\n",
       "      <td>1003</td>\n",
       "      <td>butter oil anhydrous</td>\n",
       "      <td>876.0</td>\n",
       "      <td>0.28</td>\n",
       "      <td>61.924</td>\n",
       "      <td>99.48</td>\n",
       "      <td>0.00</td>\n",
       "      <td>0.0</td>\n",
       "      <td>0.00</td>\n",
       "      <td>4.0</td>\n",
       "      <td>...</td>\n",
       "      <td>0.0</td>\n",
       "      <td>0.001</td>\n",
       "      <td>0.005</td>\n",
       "      <td>0.003</td>\n",
       "      <td>0.001</td>\n",
       "      <td>0.0</td>\n",
       "      <td>0.01</td>\n",
       "      <td>840.0</td>\n",
       "      <td>2.8</td>\n",
       "      <td>0.0</td>\n",
       "    </tr>\n",
       "    <tr>\n",
       "      <th>3</th>\n",
       "      <td>1004</td>\n",
       "      <td>cheese blue</td>\n",
       "      <td>353.0</td>\n",
       "      <td>21.40</td>\n",
       "      <td>18.669</td>\n",
       "      <td>28.74</td>\n",
       "      <td>2.34</td>\n",
       "      <td>0.0</td>\n",
       "      <td>0.50</td>\n",
       "      <td>528.0</td>\n",
       "      <td>...</td>\n",
       "      <td>0.0</td>\n",
       "      <td>0.029</td>\n",
       "      <td>0.382</td>\n",
       "      <td>1.016</td>\n",
       "      <td>0.166</td>\n",
       "      <td>36.0</td>\n",
       "      <td>1.22</td>\n",
       "      <td>198.0</td>\n",
       "      <td>0.25</td>\n",
       "      <td>0.5</td>\n",
       "    </tr>\n",
       "    <tr>\n",
       "      <th>4</th>\n",
       "      <td>1005</td>\n",
       "      <td>cheese brick</td>\n",
       "      <td>371.0</td>\n",
       "      <td>23.24</td>\n",
       "      <td>18.764</td>\n",
       "      <td>29.68</td>\n",
       "      <td>2.79</td>\n",
       "      <td>0.0</td>\n",
       "      <td>0.51</td>\n",
       "      <td>674.0</td>\n",
       "      <td>...</td>\n",
       "      <td>0.0</td>\n",
       "      <td>0.014</td>\n",
       "      <td>0.351</td>\n",
       "      <td>0.118</td>\n",
       "      <td>0.065</td>\n",
       "      <td>20.0</td>\n",
       "      <td>1.26</td>\n",
       "      <td>292.0</td>\n",
       "      <td>0.26</td>\n",
       "      <td>0.5</td>\n",
       "    </tr>\n",
       "    <tr>\n",
       "      <th>5</th>\n",
       "      <td>1006</td>\n",
       "      <td>cheese brie</td>\n",
       "      <td>334.0</td>\n",
       "      <td>20.75</td>\n",
       "      <td>17.410</td>\n",
       "      <td>27.68</td>\n",
       "      <td>0.45</td>\n",
       "      <td>0.0</td>\n",
       "      <td>0.45</td>\n",
       "      <td>184.0</td>\n",
       "      <td>...</td>\n",
       "      <td>0.0</td>\n",
       "      <td>0.070</td>\n",
       "      <td>0.520</td>\n",
       "      <td>0.380</td>\n",
       "      <td>0.235</td>\n",
       "      <td>65.0</td>\n",
       "      <td>1.65</td>\n",
       "      <td>174.0</td>\n",
       "      <td>0.24</td>\n",
       "      <td>0.5</td>\n",
       "    </tr>\n",
       "    <tr>\n",
       "      <th>6</th>\n",
       "      <td>1007</td>\n",
       "      <td>cheese camembert</td>\n",
       "      <td>300.0</td>\n",
       "      <td>19.80</td>\n",
       "      <td>15.259</td>\n",
       "      <td>24.26</td>\n",
       "      <td>0.46</td>\n",
       "      <td>0.0</td>\n",
       "      <td>0.46</td>\n",
       "      <td>388.0</td>\n",
       "      <td>...</td>\n",
       "      <td>0.0</td>\n",
       "      <td>0.028</td>\n",
       "      <td>0.488</td>\n",
       "      <td>0.630</td>\n",
       "      <td>0.227</td>\n",
       "      <td>62.0</td>\n",
       "      <td>1.30</td>\n",
       "      <td>241.0</td>\n",
       "      <td>0.21</td>\n",
       "      <td>0.4</td>\n",
       "    </tr>\n",
       "    <tr>\n",
       "      <th>7</th>\n",
       "      <td>1008</td>\n",
       "      <td>cheese caraway</td>\n",
       "      <td>376.0</td>\n",
       "      <td>25.18</td>\n",
       "      <td>18.584</td>\n",
       "      <td>29.20</td>\n",
       "      <td>3.06</td>\n",
       "      <td>0.0</td>\n",
       "      <td>0.00</td>\n",
       "      <td>673.0</td>\n",
       "      <td>...</td>\n",
       "      <td>0.0</td>\n",
       "      <td>0.031</td>\n",
       "      <td>0.450</td>\n",
       "      <td>0.180</td>\n",
       "      <td>0.074</td>\n",
       "      <td>18.0</td>\n",
       "      <td>0.27</td>\n",
       "      <td>271.0</td>\n",
       "      <td>0</td>\n",
       "      <td>0.0</td>\n",
       "    </tr>\n",
       "    <tr>\n",
       "      <th>8</th>\n",
       "      <td>1009</td>\n",
       "      <td>cheese cheddar</td>\n",
       "      <td>404.0</td>\n",
       "      <td>22.87</td>\n",
       "      <td>18.867</td>\n",
       "      <td>33.31</td>\n",
       "      <td>3.09</td>\n",
       "      <td>0.0</td>\n",
       "      <td>0.48</td>\n",
       "      <td>710.0</td>\n",
       "      <td>...</td>\n",
       "      <td>0.0</td>\n",
       "      <td>0.029</td>\n",
       "      <td>0.428</td>\n",
       "      <td>0.059</td>\n",
       "      <td>0.066</td>\n",
       "      <td>27.0</td>\n",
       "      <td>1.10</td>\n",
       "      <td>330.0</td>\n",
       "      <td>0.71</td>\n",
       "      <td>0.6</td>\n",
       "    </tr>\n",
       "    <tr>\n",
       "      <th>9</th>\n",
       "      <td>1010</td>\n",
       "      <td>cheese cheshire</td>\n",
       "      <td>387.0</td>\n",
       "      <td>23.37</td>\n",
       "      <td>19.475</td>\n",
       "      <td>30.60</td>\n",
       "      <td>4.78</td>\n",
       "      <td>0.0</td>\n",
       "      <td>0.00</td>\n",
       "      <td>643.0</td>\n",
       "      <td>...</td>\n",
       "      <td>0.0</td>\n",
       "      <td>0.046</td>\n",
       "      <td>0.293</td>\n",
       "      <td>0.080</td>\n",
       "      <td>0.074</td>\n",
       "      <td>18.0</td>\n",
       "      <td>0.83</td>\n",
       "      <td>233.0</td>\n",
       "      <td>0</td>\n",
       "      <td>0.0</td>\n",
       "    </tr>\n",
       "  </tbody>\n",
       "</table>\n",
       "<p>10 rows × 29 columns</p>\n",
       "</div>"
      ],
      "text/plain": [
       "  NDB_No                Descrip  Energy_kcal  Protein_g  Saturated_fats_g  \\\n",
       "0   1001       butter with salt        717.0       0.85            51.368   \n",
       "1   1002  butter whipped w salt        718.0       0.49            45.390   \n",
       "2   1003   butter oil anhydrous        876.0       0.28            61.924   \n",
       "3   1004            cheese blue        353.0      21.40            18.669   \n",
       "4   1005           cheese brick        371.0      23.24            18.764   \n",
       "5   1006            cheese brie        334.0      20.75            17.410   \n",
       "6   1007       cheese camembert        300.0      19.80            15.259   \n",
       "7   1008         cheese caraway        376.0      25.18            18.584   \n",
       "8   1009         cheese cheddar        404.0      22.87            18.867   \n",
       "9   1010        cheese cheshire        387.0      23.37            19.475   \n",
       "\n",
       "   Fat_g  Carb_g  Fiber_g  Sugar_g  Calcium_mg  ...  VitC_mg Thiamin_mg  \\\n",
       "0  81.11    0.06      0.0     0.06        24.0  ...      0.0      0.005   \n",
       "1  78.30    2.87      0.0     0.06        23.0  ...      0.0      0.007   \n",
       "2  99.48    0.00      0.0     0.00         4.0  ...      0.0      0.001   \n",
       "3  28.74    2.34      0.0     0.50       528.0  ...      0.0      0.029   \n",
       "4  29.68    2.79      0.0     0.51       674.0  ...      0.0      0.014   \n",
       "5  27.68    0.45      0.0     0.45       184.0  ...      0.0      0.070   \n",
       "6  24.26    0.46      0.0     0.46       388.0  ...      0.0      0.028   \n",
       "7  29.20    3.06      0.0     0.00       673.0  ...      0.0      0.031   \n",
       "8  33.31    3.09      0.0     0.48       710.0  ...      0.0      0.029   \n",
       "9  30.60    4.78      0.0     0.00       643.0  ...      0.0      0.046   \n",
       "\n",
       "   Riboflavin_mg  Niacin_mg  VitB6_mg  Folate_mcg  VitB12_mcg  VitA_mcg  \\\n",
       "0          0.034      0.042     0.003         3.0        0.17     684.0   \n",
       "1          0.064      0.022     0.008         4.0        0.07     683.0   \n",
       "2          0.005      0.003     0.001         0.0        0.01     840.0   \n",
       "3          0.382      1.016     0.166        36.0        1.22     198.0   \n",
       "4          0.351      0.118     0.065        20.0        1.26     292.0   \n",
       "5          0.520      0.380     0.235        65.0        1.65     174.0   \n",
       "6          0.488      0.630     0.227        62.0        1.30     241.0   \n",
       "7          0.450      0.180     0.074        18.0        0.27     271.0   \n",
       "8          0.428      0.059     0.066        27.0        1.10     330.0   \n",
       "9          0.293      0.080     0.074        18.0        0.83     233.0   \n",
       "\n",
       "   VitE_mg  VitD2_mcg  \n",
       "0     2.32        0.0  \n",
       "1     1.37        0.0  \n",
       "2      2.8        0.0  \n",
       "3     0.25        0.5  \n",
       "4     0.26        0.5  \n",
       "5     0.24        0.5  \n",
       "6     0.21        0.4  \n",
       "7        0        0.0  \n",
       "8     0.71        0.6  \n",
       "9        0        0.0  \n",
       "\n",
       "[10 rows x 29 columns]"
      ]
     },
     "execution_count": 80,
     "metadata": {},
     "output_type": "execute_result"
    }
   ],
   "source": [
    "kaggle.head(10)"
   ]
  },
  {
   "cell_type": "code",
   "execution_count": 81,
   "metadata": {},
   "outputs": [],
   "source": [
    "import ast\n",
    "from scripts.ingredient import *\n",
    "\n",
    "def kaggle_dict(kaggle, ingredient_parser: IngredientParser):\n",
    "    ingr_proteined = {}\n",
    "    for name, protein in zip(kaggle['Descrip'], kaggle['Protein_g']):\n",
    "        protein_f = float(protein)\n",
    "        # preprocess ingr\n",
    "        ready_ingr = ingredient_parser.parse_entry(name)\n",
    "        ingr_proteined[ready_ingr] = protein_f\n",
    "\n",
    "    return ingr_proteined"
   ]
  },
  {
   "cell_type": "code",
   "execution_count": 82,
   "metadata": {},
   "outputs": [],
   "source": [
    "kaggle_prot = kaggle_dict(kaggle, ingredient_parser)"
   ]
  },
  {
   "cell_type": "code",
   "execution_count": 83,
   "metadata": {},
   "outputs": [
    {
     "name": "stdout",
     "output_type": "stream",
     "text": [
      "{'butter_with_salt': 0.85, 'butter_whipped_w_salt': 0.49, 'butter_oil_anhydrous': 0.28}\n"
     ]
    }
   ],
   "source": [
    "print(dict(islice(kaggle_prot.items(), 0, 3)))"
   ]
  },
  {
   "cell_type": "code",
   "execution_count": 84,
   "metadata": {},
   "outputs": [],
   "source": [
    "def coverage_strict(cluster_ingrs, kaggle_prot):\n",
    "    count = 0\n",
    "    for ingr in kaggle_prot.keys():\n",
    "        for possible_names in cluster_ingrs.values():\n",
    "            if ingr in possible_names:\n",
    "                count += 1\n",
    "    return count / len(cluster_ingrs)\n",
    "\n",
    "\n",
    "def coverage_chill(cluster_ingrs, kaggle_prot):\n",
    "    count = 0\n",
    "    used = set()\n",
    "    for ingr in kaggle_prot.keys():\n",
    "        first_part_of_ingr = ingr.split(sep=\"_\")[0]\n",
    "        if first_part_of_ingr in used:\n",
    "            continue\n",
    "        else:\n",
    "            for possible_names in cluster_ingrs.values():\n",
    "                if first_part_of_ingr in possible_names:\n",
    "                    count += 1\n",
    "                used.add(first_part_of_ingr)\n",
    "    return count / len(cluster_ingrs)\n",
    "\n",
    "\n",
    "def not_covered(cluster_ingrs, kaggle_prot):\n",
    "    count = 0\n",
    "    kaggle_set = set()\n",
    "    not_covered = set()\n",
    "    for ingr in kaggle_prot.keys():\n",
    "        first_part_of_ingr = ingr.split(sep=\"_\")[0]\n",
    "        kaggle_set.add(first_part_of_ingr)\n",
    "    for ingr in cluster_ingrs.keys():\n",
    "        if ingr not in kaggle_set:\n",
    "            not_covered.add(ingr)\n",
    "    return not_covered"
   ]
  },
  {
   "cell_type": "code",
   "execution_count": 20,
   "metadata": {},
   "outputs": [
    {
     "name": "stdout",
     "output_type": "stream",
     "text": [
      "0.023048228084199308\n",
      "0.07633892885691447\n"
     ]
    }
   ],
   "source": [
    "print(coverage_strict(cluster_ingrs, kaggle_prot))\n",
    "print(coverage_chill(cluster_ingrs, kaggle_prot))"
   ]
  },
  {
   "cell_type": "code",
   "execution_count": 85,
   "metadata": {},
   "outputs": [
    {
     "name": "stdout",
     "output_type": "stream",
     "text": [
      "0.10511590727418066\n",
      "0.2841726618705036\n"
     ]
    }
   ],
   "source": [
    "print(coverage_strict(cluster_ingrs, kaggle_prot))\n",
    "print(coverage_chill(cluster_ingrs, kaggle_prot))"
   ]
  },
  {
   "cell_type": "code",
   "execution_count": 22,
   "metadata": {},
   "outputs": [
    {
     "name": "stdout",
     "output_type": "stream",
     "text": [
      "{'pistacios', 'shortcakes', 'labneh', 'bracken-starch', 'wahoo', 'petite-', 'unsprayed', 'crabapple', 'crabmeat', 'loads_clothes', 'stomach', 'parmesan-garlic', 'kaipen', 'cap', 'pernod', 'spinich', 'craisin', 'walla_walla', 'chiffonnade', 'sunchoke-kale', 'togarashi', 'note', 'all-bran', 'cherry-flavored', 'farinha', 'alamang', 'toasties', \"tostada's\", 'nuttella', 'stelline', 'appreciation', 'brusselsprouts', 'krispies', 'latte', 'marshmellow', 'monterey', 'oakra', 'masa', 'oregnano', 'rogan', 'potoatoes', 'dashi-no', 'quarter', 'cuminseed', '-bone', 'selery', 'keebler-', 'stretch', 'boullion', 'one-', 'pitted', 'submerine', 'ancho-cherry', 'poulrty', 'gator', 'master', 'mango-pineapple', 'tubular', 'lemonaid', 'triggerfish', 'sorrel', 'cals', 'chocalate_syrap', 'moleassas', 'basting', 'gasoline', 'packetstrawberry_pop_rocks', 'mary', 'isolate', 'bacalhoada_portuguese', 'non-aluminum', 'treats', 'cardoons', 'awamori', 'corn/', 'combos', 'dried_sun-dried', 'or', 'decofuri', 'corn-', 'strega', 'biscs', \"apple's\", 'mould', 'piperade', 'cranberry-apple', 'plaice', 'quesillo', 'keilbasa', 'kebob', 'linguini', 'fedelini', 'substitue', 'sazan', 'thread', 'sugr', 'bulger', 'katchup', 'hotter', 'puckers', 'colriflower', 'lechem', 'tahini', 'sesame-ginger', 'cooled', 'tilefish_steaks', 'locatelli', 'ration', 'single-malt', 'finnish', 'sushiage', 'packagealouette', 'rice-noodles\">noodles', 'maple-pecan', 'three-finger', 'saluyot_;)', 'akvavit', 'akamiso', 'biber', 'skyline', 'rapadura', 'pita', 'ready-cooked', 'sumach', 'sone-ground', 'roquefort', 'tuong', 'patato', 'reyes', 'pechay_baguio', 'figlets', 'tbspbasil', 'also', 'leicester', 'jl', 'bun', 'marcrum', 'crisp', 'sirloing', 'herbal', 'no', 'cultures', 'room', 'stripe', 'ruffles', 'temarifu', 'california-blend', 'flageolets', 'brussle', 'jonkanoo', 'chili-style_stewed', 'cilantrillo', 'cajun-style', 'edgell', 'pick', 'guys', 'marchemellow', 'keahole', 'aquavit', 'urchins', 'coriander-mint', 'euryale_ferox', 'onaga', 'numeg', 'amontillado', 'squirt', 'catup', 'carrotsticks', 'cannellini', 'choplets', \"dana's\", 'vitatops', 'counter', 'takuan', 'condimento', 'hoagie', 'crumble', 'oleo', 'kilo', 'beater', 'chili-o-mix', 'crescent-moon', 'squach', 'grow_soil', 'sachet', 'sandfgp', 'canssolid_albacore', 'hollers', 'shoyu', 'naam', 'buglur', 'aaejo', 'smen', 'fruitcocktail', 'cold', 'cambels', 'chive-ginger', 'puy', 'roughtly', 'env', 'kabayaki', 'cornichon', 'barrel-aged', 'hominey', 'thinley', 'cumino', 'zirbenz', 'enveople', 'halfandhalf(milk', 'moong', 'slenda', 'forgarnish', 'gemelli', 'atsu', 'redondo', 'boston_style_is_best', 'mozzerla_shredded', 'optional)oatmeal', 'zafrig', 'empire', 'farms', 'mahleb', 'coccochino', 'lighter', 'traders', 'brown-butter', 'muscle', 'baconnaise', 'beaf', 'bix', 'aubergine', 'bagschocolate', 'herbe', 'washed', 'seasonimg', 'blood-orange', 'fresh)', 'prociutto', 'spaguetti', 'description', 'recipelemon', 'tatsoi', 'lightly', 'rasberries', 'lady', 'cappuccino-mocha', 'saunf', 'whorshire', 'eggd', 'realemon', 'fields-_kentuckiana', 'mathilde', 'yema', 'sheeps-milk', 'article', 'all-porpose', 'bottleof', 'sauer_kraut', 'cerignola', 'pinole', 'nougat', 'craft', 'seconds', 'puppadums', 'helper', 'lebanese', 'raspberry-kiwi', 'mayonniase', 'packetsugar', 'romano', 'sanding', 'ones', 'cheeseshredded', 'chicken/beef', 'atsuage', 'maragine', 'semi-sweet', 'again', 'rocket', 'chevril', 'galingale', 'multi-colored', 'envelope', 'pepperoncini', 'avocadoswashed', 'local', 'tandori', \"strawberry's\", 'greasing', 'better', 'chipotle-flavored', 'burgendy', 'soprassata', 'boomsma', 'packagemacoroni', 'milperos', 'dried_longon', 'coloring', 'cube', 'lamingtons', 'fennel-saffron', 'roasted-vegetable', 'tabasco', 'tripe', 'bistecca_fiorentina', 'orange-flavored', 'kirby', 'colorado_yukon', 'nagaimo', 'chimay', 'hom_daeng', 'thank-you', 'macys_melting_romano_cheesecrips', 'meslun', 'ronzoni', 'choose', 'l', 'weds', 'version', \"sergento's\", 'cappacola', 'cai', 'total', 'bucatini', 'stick', 'maasbankers', 'lime-halved', 'skinless', 'crispbread', 'piquins', 'cucuzzapeeled', 'grapeseed', 'pasley', 'hanout', 'cilanto', 'crush', 'kabu', 'gwawk-a', 'roll-', 'worcesterhsire', 'maderia', 'old_portuguese', 'dry-cured', 'darjeeling', 'lemon-flavored', 'mead', 'appetizer', 'mochiko', 'coursley', 'poblano', 'hashbrown', 'monger', 'piecrust', 'glucose', 'gin', 'tegel', 'cubanelle', 'tops', 'puntarella', 'pudina', 'maarshmallows', 'lime-aid', 'finally_chopped', '/juice', 'fufu', 'carapelli', 'crawfish', 'radiatori', 'raccoon', 'cheese(your', 'habanero-peach', 'twizzlers', 'napkin', 'hake', 'stock', 'semonila', 'kalbasa', 'juiced', 'aromatics', 'kvass', '-up', 'crockpot', 'young', 'kejibeling', 'corn-muffin', 'texmati', 'freshly-', 'sarticious', 'eyeballs', 'broccli', 'crust', 'watch', 'carrrots', 'paperthin', 'ciabatta', 'finley_chopped', 'passata', 'coke', 'concentrate', 'intrigue', 'peppercorn', 'applemint', 'pepperoncino', 'khatai', 'mild-flavored', 'lifesavers', 'frisee', 'lambtrimmed', 'vera', 'pisseli', 'flower', 'saladisi', 'rasions', 'squeezer', 'minute', 'parmezan', 'cornmeal(i', 'nutrasweet', 'papika', 'crackling', 'tsps', 'rotell', 'anhovies', 'fins', 'kg', 'fench_dresing', 'lungini', 'trays', 'incredi-melts', 'bone-in', 'supple', 'chicken-of-the-', 'kikkoman', 'chitterlings', 'extra-firm', 'crumbled_valdeon', 'kintsay', 'size', 'grated_cracker_barrel_old', 'asafetida', 'canvacuum_packed', 'popping', 'ai', 'gandules', 'obha', 'reserved', 'wash', 'patis', 'kabocha', 'tangerine-orange', 'dinni', 'scrod', 'kibbeh', 'sable', 'christophine', 'microgreens', 'canning', 'thumb', 'ginger-flavored', 'mosto', 'sparkling', 'morel', 'kraft_sweetand', 'whisk', 'tilipia', 'codfish', 'tomato/beef', 'favorite', 'caribbean', 'tortalini', 'chardonnay)', 'watson', 'skordalia', 'packageswelsh', \"bob's\", 'liqeuer', 'garnis', 'de', 'gout', 'sucro', 'truck', 'vadouvan', 'flavourites', 'goblet', 'metal_pie_tin', 'time', 'anchovey', 'rawa', 'prawn', 'bavette', 'khmeli', 'nocellara', 'virgin', 'thompson', 'galliano', 'amazake', 'sofirto', 'khaki', 'ramen', 'skewer', 'gruenkern', 'pumkin', 'margirine', 'drink', 'fettuccini', 'passing', 'ditalini', 'joushinko', \"bird's\", 'frankfurts', 'egg\">egg', 'mincedginger', 'sassolino', 'giardiniera', 'aged', 'edible_wildflowers', 'maida', 'onikon', 'nutmeats', 'seedless_watermelonrind', '*japanese', 'noyaux', 'qater', 'cutlet', 'pastel-colored', 'gbutter', 'legs', 'udder', 'hi', 'olive-oil', 'asil', 'sweet)', '-potatoes', 'boxbetty_crocker', 'serrano', 'saly', 'csugar', 'black-skinned', 'pancheta', 'low-sugar', 'tbsconfectionerssugar', 'spaghetti\">linguini', 'caradamom', 'crepe', 'chedder', 'sometimes', 'entrecote', 'baby-spinach', 'aspirin', 'gonion', 'victorian_epicure_poudre_douce', 'mexico', 'syrup-preserved', 'quiles', 'rattles', 'bob_evans', 'marshmallow', 'fingeroots', 'dei', 'preference', 'roamery', 'kabana', 'equal', 'canrecipe-style_stewed', 'disc', 'seaoning', 'nyafat', 'okra\">okra', 'semiforte', \"cancampbell's\", 'conserve', 'checkerboard_shaped', 'tongari', 'ghiradelli', 'tail', 'prime', 'zuccini', 'state', 'sharper', 'coconut-pecan', 'preservative', 'julienne-sliced_sun-dried', 'dessertspoons_creme_fra\"che', 'tartlett', 'twang_with', 'chardstems', 'home', 'boboli', 'find', 'belgian', \"canallen's\", 'butterhead', 'strap', 'multigrain_sunchips', 'blackcurrants', 'nescafe', 'vegetables:-----', 'scalions', 'canary', 'bagles', 'shredding_method', 'wholewheat', 'termuric', 'mayonaisse', 'kentjur', 'smoking', 'minimarshmallows', 'katakuriko', 'reeeses', 'country-type', 'waxpaper', 'tuiles', 'gallic', 'unbleached', 'burnet', 'ptblueberries', 'erythritol', 'twine', 'packagefast', 'cherrystone', 'red-chile', 'parlour', 'sofito', 'pinnapple', 'foot-long', 'cream/milk', 'sunrise', 'vin', 'seasoned_breadcrubs', 'rucola', 'garlic+onion+salt', 'bufala', 'honeygar', 'coppa', 'sandwich-sliced', 'pretzles', 'chioptles', 'mexi-corn', 'saurerkraut', 'marnier', 'generous', 'orecchiette', 'potatoez', 'cappelini', 'stork', 'tmilk', 'oz)butter', 'slaw', 'peperoni', 'xo', \"cankern's\", 'amarettinis', 'jerk_sauce/marinade', 'shape', 'hinly', 'last', 'mozzarella(one', 'estate', 'brisket', 'striper', 'shallow', 'tamari', 'misua', 'european', 'crumbing', 'tribe', 'serve', 'pecans(or', 'fini', 'slicevginger', 'piloncillo', 'toffee-flavored', 'picholine', 'muffens', 'crushed_ritz', 'onaga-hawaiian', 'fels_naptha', \"cupslaxmi's\", 'mayo(miracle', 'japapeo', 'finger', 'sprout', 'according', 'brandewijn', 'flowerets', 'aligote', 'court-bouillon', 'bbq', 'spectrum', 'lomboks', 'jamon', 'non-irritating', 'greening', 'weed', 'seckel', 'dill-pickle_slices', 'chip', 'mozuku', 'toffee', 'cinammon', 'barry', 'ventresca', 'invertase', 'mirch', 'cubebs', 'chocolatte', 'bernardin', 'halloween-colored', 'all-natural', 'cantelope', 'black-pepper', 'petite', 'fettuccine', 'feuilletine', 'poundcake', \"zataran's\", 'sweet-n', '(cheese', 'red-ripe', 'approximately', 'gralic', 'anaise', 'vermont', 'fronds_from', 'johnny_jump', 'eighth', 'mist', 'country-style', 'alfredo', 'klauson', 'cider', 'kecthcup', 'poulet', 'boulion', 'measquite_smoke-flavored', \"bramley's\", 'caramel/toffee', 'joy', 'vine', 'humus', 'drops', 'bacardi', 'teeth', 'jello', 'yabbies', 'stirring', 'vinsanto', 'steam-um', 'sichimi', 'flat-parsley', 'brunoise', 'cansswanson', 'bulb', 'suagr', 'achilleos', 'enough', 'muffuletta', 'instead)', 'keblers', 'qty', 'shredded_iceberg', 'altos', 'horns', 'eggwhits', 'bing', 'flameproof_casserole', 'sofroito', 'wings', 'camote', 'dead', 'marmite', 'ouncesmizuna', 'ml)oil', 'salcha', 'hennessy', 'reconstituted', 'whelks', 'full-fat', 'skinny', 'candy-coated_licorice_pieces', 'pounder', 'pepepr', 'tear', 'labne', 'baggie', 'containeraustralian', 'elbow-roni', 'prefer_becks)', 'peri-peri', 'ostera', 'ornament', 'confit', 'parched', 'kumquat', 'antipasto', 'mesclun', 'choce', 'omit', 'chevre', 'cavatelli', 'oil-cured', 'sparerib_racks', 'lenghwise', 'mediumdry', 'oregon', 'nutrition', 'masoor_dhal', \"renee's\", 'chili-ready', 'cangreen', 'whippi', 'dalt', 'n', 'bifun', 'carry', 'parsnip', 'porkchop', 'refill', 'brodo', 'hellmans', 'bream', 'tradizionale', 'if', 'clump', 'kahlua', 'lavendar', 'praprika', 'linqiuni', 'totally', 'supercenter', 'challot', 'noodeles', 'citarella', 'arugala', 'cilantro-lime', 'papaya-lime', 'cornflour/cornstarch', 'mezzetta_sun-dried', 'lee', 'psyllium', 'please', 'strawberry-moscato', 'couliflower', 'following', '>', 'sauce-', 'breadcrumb', 'lard/shortening', \"z'houg\", 'rock', 'choppes', 'estimate', 'whtie_miniature', 'ca-venders', 'almondmilk', 'containerdannon', 'jarlsberg', \"lawry's-salt\", 'sesoning', 'cast', 'myers', 'tomatoes\">tomatoes', 'tuttarosa_crushed', 'flavoring', 'use', 'measuring', 'canmedium_rotel', 'kalamate', 'kerns', 'broccolini', 'sungold', 'goatscheese', 'pouch', 'matzzlarella', 'cuitlacoche', 'achar', 'fine-quality', 'kokam', '(apples', 'nuttela', 'fritostm', 'garbanzo-', 'cyninum', 'soubise', 'hab', 'soppresatta', 'brown)', 'chipolate', 'diy', 'lauki', 'pods', 'under', 'much', 'sen', 'cylinders', 'vitamin', 'xante', 'ripen', 'tahina', 'braising', 'spam', 'type', 'devilsfood', 'straw', 'piccalilli', 'nut', 'watemelon', 'drill', 'retsina', 'floury', 'salary', 'montrachet', 'frylite', 'culiantro', 'joyoko', 'malanga', 'phyllo-pastry', 'containersbetty_crocker', 'cover', 'tablespoonslemon_juice_optional', 'fishsauce', 'crunched-', 'canpear', 'rice-corn', 'groundnuts', 'krill', 'velveta', 'barbecued-flavored', 'links', 'scallion', 'chicken-broth', 'gem', 'flings', 'granadine', 'tablet', 'vanillla', 'cinnamon-swirl', 'fleshed', 'vegeta', 'lengua', 'montgomery', 'raisin', 'crumpets', 'lebneh', 'length', 'balm', 'comstock', 'canscans', 'cauliflowe', 'garlic\">garlic', 'nice', 'ripe', 'bugle-shaped', 'although', 'ntakos', 'pailette', 'philadelphia', 'slc', 'spatula', 'shives', 'argo-kingsford', 'quince', 'cansolid_albacore', 'echalion', 'rome', 'welsh', 'garden-style', 'mandarine', 'chevrai', 'capper', 'mizuno', 'packagebasil', 'bragg', 'weighing', 'cheddar', 'jarmushroom', 'people', 'basil-flavored', 'chow', 'broil', 'marjarom', 'masoor_dal', 'compote', 'loose', 'hatch', 'either', 'vinegarette', 'glayva', 'fructose', 'noir', 'staples', 'chicken/bouillon', 'buttermints', 'lite', 'court', 'red-fleshed', 'towards', 'basel', 'cone', 'rice-wine', 'spaghetti\">vermicelli', 'grown-up', 'apricot-pineapple', 'pre_heat', 'fluffy_dumplets', 'online', 'funky', 'charcuterie', 'dot', 'noodlew', 'pementon', 'steak', 'amoun', 'bottleorville_redenbacher', 'potaotes', 'stollen', 'scampi', 'cuarenta', 'toblerone', 'poupon', 'preparation', 'lolipop', 'crusty', 'non-flavored', 'halfway', 'etc', 'pbr', 'banana-flavor', 'rod', 'birthday', 'brioche', 'sandlewood', 'bailey', 'scratch', 'monde', 'looseleaf', 'butterschotch', 'sel', 'particles', 'pinking_shears', 'soaked_alder', 'jet-puffed', 'armadillo', 'compte', 'amaretti', 'beet-carrot', 'pino', 'chunky-chopped', 'bolios', 'paddles', 'wish-bone', 'acai', 'greek_vanilla_yogurt(or', 'fresh/frzn', 'slim', '(wheat', 'kahula', 'scallons', 'pencil', 'flute', 'nutneg', '*basic', 'w/', 'victoria', 'kaukauna_smokey', 'peak', 'cup(s', 'warm', 'small-curd', 'cornoil', 'blackeyed', 'aniseseed', 'komachibu', 'elixir_g', 'peri', 'sabudana', 'skirt', 'arabic', 'tabascoa', 'pattypan', 'cornstarch(if', 'lollipops', 'donut', 'madeira', 'blackend_old', 'erythriol', 'loganberry', 'letuce', 'lsa', 'mezzania', 'harusame', 'canella', 'udon', 'julian', 'savoiardi', '+', 'borscht', 'evergreen_boughs', 'boards', 'bot_good', 'greggs', 'nitrous', 'port', 'cotecchino', 'passion', 'aalborg', 'boiron', 'rotal', 'cobasan', 'tout', 'fine-ground', 'brautwursts', \"chef's\", 'leaf', 'shrim', 'fontina', 'tots', 'extract', 'melinjo', 'rella', 'wheaties', '(texturized', 'hollandaisse_sauce_from', 'medium-hot_madras', 'jeremiah', 'microwave', 'kai', 'bacalhau', 'bucati_lunghi', 'rosewater', 'shio', 'bagmicrowave-in', 'profile', 'duckling', 'teaspoonful_of_celery_seed', 'cheddar-monterey', 'bird', 'kinome', 'peeky', 'substitution', 'ito', 'meatball', 'cabanosi', 'chocoholic', 'kalmata', 'broccoli)', 'moritas', 'hearty', 'cappicolla', 'concentrations', 'nabob_summit', 'cauldron', 'addition', 'sacramento', 'breakstones', 'example', 'outer', 'goya~_con', 'snapple', 'stracciatella', 'triangles', 'cocoanut', 'konyaku', 'pet-', 'mei', 'regular', 'marain', 'petite-diced', 'zuccinni', 'crumbled_already', 'packagesgreen_giant_pasta_accent_primavera', 'coarse-med', 'umeshu', 'matter', 'ketchup', 'chunky', 'way', 'sultana', 'vieja', 'out', 'sause', 'peg', 'tenderflake', 'wick', 'venison', 'phoran', 'cilintro', 'galcream', 'pastilles', 'tomatohalved', 'non-veggie', 'slightly', 'anchovies', 'late', 'paula_deens', 'acrylic', 'semolino', 'coco', 'cantomato', 'lustau', \"penzey's\", 'thai', 'cross-grain', 'tubs', 'manzanilla', 'uffin', 'liquer', 'pambazos', 'pommelo', 'mikk', 'limes-', 'ginger-pickled', 'cinnamom', 'about', 'oatmel', 'non-acidic', 'alcohol', 'siphon', 'beadcrumbs', 'masher', 'lowerys', 'worcestshire', 'callaloo', 'hodgson', 'cardmom', 'cbutter', 'demiglace', '*mentsuyu', 'chloride', 'cholesterol-free', 'amout', 'fruitcake', 'warabi', 'oregan', 'many_supermarkets', 'sumedang', 'breading', 'citron', 'licqueour', 'cornstartch', 'creamo', 'canlucky', 'spoonful', 'vannila', 'strawberties', 'sweetpotatoes', 'longjing', 'hollandaise', 'roccos', 'korset', 'chipotle', 'chilipowder', 'stix', 'sec', 'salada', 'boysenberries(optional', 'white-chocolate', 'koji', \"calvert's\", 'skin', 'limo', 'chart', 'gelato', 'cheddar)', 'ossobuco', 'tater', 'hibiscus', 'hrs', 'mozarrella_cheesl', \"costanzo's_sub\", 'crasins', 'honeycrisp', 'tre', 'brocolinni', 'company', 'marmelade', 'apricot-honey', 'rice-a-roni', 'tics', 'microcelery', 'offal', 'roobios', 'nancys', 'whiter', 'centre', 'home-style', 'peel', 'broth\">broth', 'flour-_divided', 'colouring', 'btl', 'brewed_gevalia', 'pototos', 'saucee', 'cheerios', 'butte', 'matzo', 'vertically_packed', 'cangarlic', 'ladleful', 'cream-style', 'cream-filled', 'xanthum', 'ready-to', 'hijiki', 'ruce', \"li'l\", 'spoon', 'starchy', 'black-', 'red-bell-pepper', 'chirizo', 'golf-ball', 'no-knead', 'spinige', 'sterilized', 'packetmccormick', 'mescal', 'aparagus', 'sambal*must', 'cremini', 'mase', 'hito', 'perrins', 'of(cilantro', 'cornkernels', 'packageonion', 'grams/', 'tirsch', 'tempe', 'canno-salt', 'pimenteos', 'of', 'belle', 'honeu', 'scaloppine', 'holibasil', 'vanillastick', 'cannelini', 'decorator_sugars', 'nduja', 'baby-greens', 'rockmelon', 'grasshopper', 'spaghetti\">capellini', 'crockers', 'boxbran', 'heats', 'guillaumette', 'siftings', 'cloud', 'triple', 'fibre-enriched', 'risen', 'tablepoons', 'apricot/pineapple', 'maxwell', 'salad)', 'breadstick', 'awesome', 'galic', 'gummy_worm', 'marbles', 'honeycomb-shaped', 'tejocotes', 'bel_paese', 'tarmarind_piece', 'gellatin', 'a', 'balsamic', 'monaco', '-or-', 'packagescook', 'raspberry', 'sugar(can', 'width', 'robiola', 'buffalo-milk', 'handful', 'cenamon', 'yolk', 'brown', 'hubbard', 'fungus', 'carasau', 'pandanus', 'crescent-roll', 'mutsu', 'kapucijners', 'buy', 'cranraisins', 'san', 'pig', 'bourbon', 'queso', 'sobrito', 'kurumabu', 'packageready', 'crumbly-style', 'tea-infused', 'vinevar', 'rotini', 'refrigerate', 'chcolate', 'shortening\">crisco', 'dried_navy', 'lupini', 'verjuice', 'average', 'cran-raisins', 'aji-mirin', 'bigoli', 'mediterannean', 'sprite', 'chocolate-coated', 'boerewors', 'gochu_jang', 'vino', 'chablis', 'blancas', 'trust', 'casino', 'ketcup', 'packetno', 'added', 'vegeburger', 'sichuan', 'ajvar', 'cognac/brandy', 'rollettes', 'zaatar', 'lacquer', 'scollops', 'television', 'canhunts', 'onio', 'skittles', 'cochineal', 'chocolat', 'paramashsn', \"onion's\", 'pennette', 'karela', 'tomatoestomatoes', 'tenderisizer', 'unflavored', 'mayonnais', 'momiji_oroshi', 'peeps', 'distilled_wheat_mesh', 'bread-crumbs', 'tender', 'arancello', 'submarine', 'molson_canadian', 'lemmon', 'moutarde', 'narazuke', 'townline', 'kalpasi', 'luxardo_amaretto_(enough', 'piri', 'tampico', 'sauuce', 'canschicken', 'snowpeas', 'classico_di_capri_sun-dried', 'tinned', 'liebstoeckl', 'swai', 'cupmilk', 'major', 'throughly', 'boysenberry', 'philladelphia', 'pomegranite_vinegrette', 'grillmasters', 'determination', 'ahi', 'dainagon', 'pelion', 'canwhole_litchis', 'dripping', 'chocolate-cream', 'pomodoro', 'pequin', 'baccala', 'everyday', 'hari', 'spleen', 'cranberry-pomegranate', 'browning', 'meatballs-chicken', 'raclette', 'maze', 'crackera', 'fusilli', 'monzerella', 'carmelized', 'andrew', 'katsuobushi', 'hpnotiq', 'unsweetened_applesause', 'plantation', 'i', 'carrott', 'lambchops', 'mexicorn', 'butterscotch', 'tannin', 'toppings-chicken', 'slider', 'covering', 'oinion', 'litchees', 'omelette', 'closed', 'gocce', 'envelopes_sweetand', 'lechon', 'barley-malt', 'uni', 'canmaple', 'birch', 'waffle-shaped', 'pumpernickel', 'crumb-type', 'lamd', 'membrane', 'cheesse', 'faster', 'decorate', 'ham)', 'rivels', 'skin-on', 'open', 'canwell', 'strawberry-_sliced', 'non-dairy', 'forward', 'oconut', 'ears', 'mountin', 'bluffton', 'cuphazelnuts', 'mozzaraella', 'bite', 'cilantro(to', 'gardening_magazine', 'veganaise', 'reggigano', 'flounder', 'bulbstrimmed', 'kaleji', 'muscavado', 'bangus', 'tbspspatis', 'stem', 'object', 'head', 'hickory', 'mallet', 'multi-color', 'cu', 'penne', 'capful', 'nebaneba', 'flour-filling', 'batata', 'confetti', 'demi-glaze', 'panfrying', 'thing', 'has', 'meatloaf', 'zuzzhini', 'grooves', 'oatcakes', 'ceramic', 'broilers', 'dallo', 'veltliner', 'children', 'other', 'blemished', 'corn)', 'tomatoeshalved', 'tamer', 'bulbhalved', 'bits', 'eggwhite', 'packagesmori', 'picolini', 'vadi', 'kidney', 'perciatelli', 'vigi', 'soynuts', '(juice', 'flangeolet', 'tomaoes', 'ginger-grnd', 'lotion', 'brut', 'picka', 'cremora', 'jalopenos', 'hard', 'baba_ghanoush', 'mascapone', 'triple-sec', 'recaito', 'pinenuts', 'smalll', 'canready-to-spread', 'butternutsquash', 'cojita', 'salers', 'pimpentos', 'brisee', '*carrot', 'mozarella', 'marshmellos', 'mcintosh', 'shredded_havarti', 'balsamico', 'wasabi-zuke', 'ku', 'bowlful', 'chardonay', 'cabernet', 'sponge', 'preferrer', 'ammonia', 'crown_royal', 'bon', 'ind', 'elephant', 'purple', 'dicegarlic', 'choppedfine', 'tomtatoes', 'cancarnation', 'lakatan', 'rigate', 'gula', 'romanian', 'galangal', 'curd', 'film', 'peck', 'whole-wheat-blend', 'broccolli', 'metaxa', 'opt', 'veg-all', 'orcebollitas_asadas', 'freshly-minced', 'wazabi', 'rawburst', 'ham\">ham', 'conchiglie', 'raita', 'cerery', 'tajin', 'scoops', 'italian-blend', 'low-carb', 'nectar', 'nu-salt', 'bordelet', 'backstrap', 'ammonites', 'salchichon', 'roll', 'cauloflower', 'pepeper', 'rind', 'butch', 'emplex', 'whiz', 'soyrizo', 'meltaway', 'caynenne', 'moisturizing', 'screwpine', 'eggs(i', 'cantaloupe', 'wedge', 'remember', 'nutella', 'pardey', 'chopped_kimchi', 'jicima', 'bear-shaped', 'oxtail', 'truly_sweet_applications', 'serano', 'palmful', 'person', 'mandarin', 'lobsterettes', 'nova', 'canprogresso', 'crispy_fried', 'brewery', 'casa', 'low-salt', 'mandarino', 'threadfin', 'granola-type', 'wakame', 'tough_opaque', 'bittersweet-chocolate', 'give', 'seasonall', 'chili)', 'zante', 'oatrim', 'marg', 'persian', 'gallon', 'victorian_epicure_all_purpose', 'rumplemintze', 'carrtos', 'bechamel', 'mix(gold', 'hanburger', 'ciantro', 'tbsketchup', 'filini', 'marzipan', 'lopez', 'janes_krazy_mixed-up', 'mimolette', 'tsuyu', 'rolling', 'iron', 'mava', 'batch', 'cassia', 'scallions/', 'envelopeschicken', 'shengchou', 'fettecine', 'gemfish', 'zinc', 'lunchmeat', 'polly-o', 'porkers', 'gooseneck_barnacles', 'canheavy', 'sterile_half-pint', 'ml)salt', 'kretschmer', 'medallions', 'gris', 'deepfrying', 'orzo', 'shari', 'popaa', 'fribourgeois', 'stalk', 'bar', 'solid_albacore', 'mancini', 'mold', 'leafed', 'stove', 'flavor', 'calfs', 'gravymaster', 'vanilla-extract\">vanilla', 'bandaids', 'tomatoe', 'coarse-grained_dijon', 'ale', 'boxessugar_free', 'kiwano', 'mastic', 'masarepa', 'preserving', 'separate', 'majoram', 'brie', 'deli-thin', 'box', 'harina', 'crown_pavlova', 'corn-salad', 'veggiescarrots', 'ginger-infused', 'xing', 'tomato-flavored', 'sq', 'soysauce', 'prik', 'pistaccio', 'excellent_site', 'joyu', 'canblueberries', 'bananad', 'ovaltine', 'sofrito', 'gravlax', 'rusty_nails', 'lettace', 'hachiya', 'power', 'citrate', 'ramon', 'albarino', 'frozen-ready', 'mighty', 'chipoltes', 'eagles', 'dice', 'equator', \"chive's\", 'cueritos', 'shortbread', 'easy', 'tomatocored', 'cucumberhalved', 'fullbodied_red_wtne', 'vegoil', 'direction', 'tardio', 'cut_asparagas', 'feta/mozarella', 'muesli', 'freans', 'streusel', 'misson', 'hydrox', 'germ', 'bake', 'fork', 'sours_squirms', 'tosazu', 'julienne-', 'pastries', 'pareve', 'joshinko', 'hornitos', 'ung', 'bugs', 'tagliatelle', 'hellmanns', 'feathery', 'ginger-other-rhizomes\">ginger', 'mixing', 'anglaise', 'barracuda', 'weiners', 'kinako', 'union', 'portobello', 'ml', 'smooth', 'grater', 'all-', 'testa', 'soy-free', 'dirt', 'cubano', 'black:', 'bruise', 'center', 'boletus', 'quadruple', 'chapati', 'brianna', 'ognori', 'milder', 'best_bought', 'alchoholic', 'bell-shaped', 'berry', 'baguette', 'crumbly', 'borden_half-', 'by', 'dumplings', 'non-vintage', 'xanthan', 'cornbeef', 'hotdog', 'kirschwasser', 'broccoli-', 'jicama', 'cebollitos', 'lollo_rosso', 'woodruff', 'dorito', 'butterbuds', 'nector', 'jammers', 'giovanni', 'quatre_epices', 'angelhair', 'grissini', 'cupcassis', 'native_pepperberries', \"bell's\", 'kamut', 'sangrita', 'chickpeasrinsed', 'cusp', 'using', 'appetite', 'mushed', 'bergamot', 'urhad_dal', 'spy', 'packagesugar', 'sticky', 'works', 'ziplock', 'three-cheese', 'hock', 'nuggets', 'crunch', 'amchoor', 'assam_keping', 'pound', 'muskmelon', 'blueberry', 'packagesroads', 'picon', 'bijol', 'bath_soap', 'cipolline', 'peper', 'apple-juice', '*cream', 'flour', 'eenchada', 'chillipowder', 'gewurztraminer', 'brats', 'busquick', 'teaspoonpaprika', 'glog', 'lillet', 'ons', 'black-bean', '¼', 'coaco', 'carnaroli', 'glutamate', 'original', 'nuoc', 'lacianto', 'carboy', 'tri', 'dinner', 'papper', 'waffers', 'mibuna', 'raising', '*sugar', 'lwater', 'eas', 'yeast\">yeast', 'mccormicks', 'methi', 'noodle', 'nettles', 'wood-fire', 'pars-ley', 'gram', 'llinquine', 'ideal_acres_north_beaver', 'macapuno', '/wrap', 'cantal', 'kind', 'macademia', 'acid', 'redpepper', 'carnitas', 'chiltepin', 'grated_kasseri', 'saurkraut', 'sashimi', 'panforte', 'tidbits', 'rangpur', 'been', 'pingerale', 'slat', 'ounze', 'matjes', 'saddles', 'soy/tamari', '/also', 'ac_cent', 'dolce', 'tempperature', 'kampyo', 'flesh', 'rangoons', 'envelopelemon-lime', 'buena', 'chilli', 'grands', 'any_good', 'chayote*mexican', 'asfoetida', 'cflour', 'offcuts', 'cherrytomatoes', 'cassis', 'sambhaar', 'macarroni', 'elatchi', 'cuervo_margarita', 'apricos', 'cross', 'jus', 'shiromiso', 'burrata', 'bayleaves', 'waverly', 'strong_gevalia', 'johnnys_jamaica', 'dish', 'capon', 'drizzle', 'kiesbasa', 'short-dough', 'stoffers', 'packagechocolate', 'quebrado', 'jalpeno', 'lay', 'hoisin', 'courtesy_michael', 'fresco', 'lemon-limeade', 'canspillsbury', 'broccoflower', 'provolone', 'asiago', 'arak', 'neutral', 'farfallini', 'somen', 'five-color', 'rosado', 'toast', 'anaheim', \"quatre_d'epices\", 'bagof', 'cantyson_premium', 'count', 'beans-vegetarian', 'sourcream', 'landp', \"kellog's\", 'friutcocktail', 'chipolatas', 'corguette', 'crosswise', 'pizzella_maker', 'skate', 'yagermeister', 'cynar', 'zucchinni', 'bandb', 'aonori', 'revolucion', 'proseco', 'pepper-', 'possibly-', 'jet', 'recao', 'grated_dry', 'cacao', 'giffard', 'flaxseed', 'crayons', 'packages', 'aikins_endulge', 'kernal', 'fand', 'ready-dough', 'ipa', 'pwdr', \"frank's\", 'cappuccino', 'accompaniment', 'cornstrach', 'bruce_aidells', 'autumn', 'coating', 'natural-style', 'cloth', 'calcium-enriched', 'old-fashion', 'flavour', 'culinary', 'yucca', 'geera', 'chocolate-banana', 'kiwi-lemon', 'boxuncle', 'ounce_zucca', 'bleach', 'makers', 'pinneapple', 'tie', 'vnailla', 'gudda', 'banans', 'sherbert', 'harissa', 'chicago', 'manathakkali', 'tablespoonss', 'range', 'spice', 'macroni', 'cola', 'non-fat', 'vanillia', 'punchbowl', 'cheeseburger', 'turkeytm', 'shichimi-togarashi', 'kerupuk', 'atta', 'passion-orange-guava', 'generic', 'ketsup', 'hannout', 'chicharron', 'tspsalt', 'non-alcoholic', 'velvetta', 'linquine', 'diameter', 'instead', 'x', 'white', 'sandfish', 'ceral', 'ingrediants', 'eggfruit', 'zinger', 'khoya', 'cured', 'tunafish', 'agar', 'rum', 'blackpepper', 'javantri', 'arbequina', 'kiabasa', 'otafuku', 'guessing_mine', 'tid', 'pepircinni', 'spagghetti', 'panfish', 'cilandro', 'wattleseedz', 'banane', 'chex-type', 'line', 'eschalots', 'bisquik', 'bottlegourd', 'sweeten', 'pepp', 'kids', 'sheeps', 'glogg', 'shrmp', 'wrap', 'hickory-flavored_liquid_smoke*', 'zuchinni(courgette', 'spirulina', 'decoration', 'leben', 'heirloom', 'robust', 'crisco', 'pepparicini', 'chili-pepper', 'spaghettoni', '/slice', 'trinity', 'rich', 'farfel', 'squeezing', 'boil-', 'stone-ground', 'ocra', 'petrale', 'banged', 'paper', 'raspberies', 'five-', 'packagefresh', 'daenchang', '-pepper', 'cornflower', 'selfraisingflour', 'pressed', 'wonderslim_fat_and', 'quality', 'lingonberries', 'buttetbutter', 'canmild', 'must', 'hole', 'whitebread', 'bruna', 'sucanat', 'marscapone', 'panettone', 'unpeeled_orangescrubbed', 'pansy', 'gigante', 'horizontally', 'japalenos', 'random', 'tiramisu', 'whole-grain', 'oatmeal', 'appeles', 'sandwich-size', 'great', 'chianti', 'coriandor', 'rotella', 'suji', 'parkay', 'decorator_frostings', 'puries', 'regina', 'muhrooms', 'comfort', 'linseed', 'colonel', 'peacheshalved', 'veins', 'through', 'soboro', 'dome', 'bulion', 'kalamansi', 'liking', 'stir-fry', 'porgies', 'myron', 'paella', 'peewee', 'cicadas', 'pineapple-coconut', 'zipper', 'julienne-cut_sun-dried', 'tostitos', 'preztels', 'choclate', 'non-sparkling', 'become', 'boxsuper', 'anywhere', 'antica', 'tropical_jam', 'carne', 'dangoko', 'campari', 'mochi', 'outside', 'ox', 'red)', 'cinnnamon-sugar', 'snaps', 'tonnarelli', 'garlic-buttered', 'shaohsing', 'regiano', 'niblet', 'relish', 'mozzarella-cheddar', 'saronno', 'adductor', 'russett', 'color', 'pinnaple', 'pepperocini', 'tempura', 'freeze', 'rosella', 'scatter', 'habichuela', 'corkscrews', 'chex', 'mariscos_seafood_mix*shrimp', 'powder', 'timur', 'honeydew', 'parsleya', 'picle', 'jalapeno', 'mystery', 'almost', 'marinera', 'uneeda', \"o'lemon\", 'recipe', 'them', 'adds', \"fourme_d'ambert\", 'sauteing', 'cotto', 'jd', 'ribena', 'pack', 'parmigiano-reggiano', 'nine_inch', 'all-ready', 'aioli', 'morning_glory', 'saviordi', 'fingroots', 'panchetta', 'tipo', 'chef_paul', 'carcass', 'vegall', 'fukinotou', 'semi_sun-dried', 'cannelloni', 'amarreto', 'candles', 'ancini', 'platter', 'same', 'cucs', 'apfelkorn', 'monterery', 'bhindi', 'approximateley', 'canof_pre', 'attractive', 'tonight', 'pierna', 'clergy', 'serloin', 'worchestershire', 'bullet_standard_sized_large', 'shichimi', 'seabear_northwest_smoked', 'knuckles', 'san-j', 'guajillo', 'suar', 'health', 'tagliarini', 'averna', 'dissaronno', 'lisce', 'chackalaka', 'chinese', 'horseradiash', 'faro', 'flour\">flour', 'mragarine', 'leeks-washed', 'spider', 'well-shaken', 'appleaice', 'yagen', 'usuyaki', 'halaan', 'baumkuchen', \"canhunt's\", 'wattleseed', 'caramel', 'algae', 'passatta', 'pkts', 'matzot', 'sr', 'fashion', 'mentaiko', 'pilsberry', 'danials', 'pepperandsalt', 'maracuja', 'bagelettes', 'rutabaga', 'lollies', 'bluefin', 'chili-', 'parseley', 'kyoho', 'avacvados', 'cholula', 'worcestishire', 'blind', 'up', 'denbu', 'bento', 'quick-cooking', 'baccon', 'oregeno', 'gumbo', 'tools', 'sugur', 'afoesida', 'bluecheese', 'mahi-mahi', 'unstuffed', 'food', 'kickin', 'non-oil', 'ajinomoto', 'ricard', 'dukkah', 'unketchup', 'calorie', 'springonions', 'todu', 'kokum', 'moons', 'foster', 'calpico', 'satandpepper', 'coffeemate', 'soft', 'otak_otak', 'vaseline', 'millers', 'opnion', 'shorting', 'stalls', 'curaco', 'panko', 'salam', 'thinkly', 'katsuo_bushi', 'cannon', 'pints)water', 'cuccumbers', 'schnitzels', 'raffia', 'horchata', 'nushrooms', 'shrip', 'rice-a-', 'picalese', 'gran', 'caravella', 'laurel', 'tomstoes', 'franco-american', 'zip', 'sasuage', 'shellfish', 'laos', 'thin-baguette', 'enchiladas', 'vanlla', 'crenshaw', 'wholemeal', 'kefalotyri', 'packagesuper', 'grams_manjarblanco', 'blanket', 'crosscut_marrowbones', 'tators', 'tomtoe', 'cow-milk', 'mange-tout', 'beetroot', 'chopper', 'nitrogen', 'liter', 'greek_joghurt', 'wiener', 'ginger-chop', 'grbeef', 'whip', 'comfiour', 'containerchocolate', 'bucatoni', 'maceroni', 'pacharan', 'palak', 'silken', 'milkybar', 'hardbread', 'bananaa', 'harry', 'smarties', 'thymus', 'baharat', 'brick', 'siracha', 'icing-anything', 'oloroso', \"lys_d'or\", 'chocolate-flavor', 'meal', 'appricots', 'bucheron', 'parley', 'mozzeralla', 'countries', 'macadamias', 'vegemite', 'muskrat', 'grm)low-fat', 'rashers', 'cadbury', 'refresher', 'cran-tangerine', 'd', 'provence', 'sheet', 'husk', 'apple-raisin_stuffing_see', 'bakers', 'crisptm', 'califlower', 'four-cheese', 'bottarga', 'javin', 'norwegian', 'minni', 'fresca', 'risoni', 'borlotti', 'roaster', 'lemon-garlic', 'spagetti', 'chamomile', 'containerbib-dairy', 'yell', 'fleur', 'chilean', 'lett', 'strippers', 'chopd', 'graham', 'chocolate-hazelnut', 'mousseline', 'block', 'crema', 'solution', 'moisten', 'sago', 'purpose)flour', 'gingerbread', 'collins', 'thawed', 'onions--very', 'possum', 'canno-sugar', 'caper', 'sottilette', 'pale', 'meyses', 'fresh-from', 'canton', 'sprat', 'crescent', 'sofrito(ginger', 'muskego', 'raisinswalnuts', 'carlic', 'malta', 'poire', 'packagestovetop', 'elbow', 'barenjager', 'avovado', 'shredd_chesee', 'ready-to-bake', 'mousse', 'omani', 'vermicelle', 'quesadilla', 'tarragon', 'bpack_b', 'roti', 'swede', 'audouille_-', 'lanolin', 'zeera', 'discos', 'vichyssoise', 'cob', 'semi-soft', 'macaroons', 'toolangi', 'tenderizer', 'wacky', 'pringles', 'pellets', 'nutela', 'kept', 'hundreds', 'soppressata', 'crystaline', 'vinagrette', 'koolwhip', 'bean-thread', 'bengalgram', 'cleaned_taylor', 'pot', 'blended_contents', 'loose-packed', 'feet', 'fresh-made', 'tarts', 'fu', 'babyback', 'vache_qui_rit', 'ground-beef', 'creations', 'mutmeg', 'lemon-caper', 'vermouth', 'chimichurri', 'chillie', 'orange-flower', 'rayu', 'caponata', 'elmers', 'garilic', 'progresso_minestrone', 'smashed', 'double-concentrate', 'pasado', 'yams-white', 'clementine', \"lori's\", 'cranberry-flavored', 'foley', 'bartlett', 'origins', 'daisy', 'pectinase', 'boiling', 'ml)pepper', 'sparkles', 'oregono', 'cramberries', 'phoron', 'rubber', 'skor', 'tomoato', 'lgonion', 'shreddedcheese', 'basily', 'turkish', 'buttter', 'sweetpeas', 'hydrogen', 'morsel', 'grnd_round', 'kwa', \"avocado's\", 'chowder', 'djion', 'tart_appl', 'breyers', 'caribbean-style', 'amount', 'fraise', 'blender', 'pionono', 'valley', '/shoulder', 'carl_budding', 'sogogi_dashida', 'mori', 'cucambers', 'fineliy_diced', 'amberjack', 'artichoke', 'natureggtm', 'colossal', 'grated_lemnon', 'paddlefish', 'homemade', 'ghirardelli', 'courvoisier', 'jardell_alpe', 'canwild_alaska', 'louisianna', 'vanillaextract', 'vinger', 'sarsaparilla', 'framboise', 'coffee', 'pilsbury', 'thermometer', 'pappadums', 'kishke', 'pimiento', 'vegetable-flavor', 'lager', 'leak', 'santo', 'fingerling', 'startch', 'grated_red_leichester', 'thieves', 'magnesium_sulphate', 'wrapper', 'chopstick', 'caution', 'canssalt', \"all'istriana\", 'live', 'reisings', 'berbere', \"lil'smokes\", 'from_iceberg', 'measure', 'low-sodium', 'confectioners', 'magarine', 'beef-tomato', 'kazunoko', 'increase', 'coors', 'tri-colored', 'potherb', 'beaufort', 'ancho', 'sargento', 'semi-circles', 'paris', 'pict-sweet', 'fiori', 'johnny-jump', 'mix(i', 'injection', 'three-vegetable', 'filiz', 'ginger-garlic', 'equivalent', 'cane', 'crepinette', 'bag', 'bay', 'frangelico', 'big-time', 'sriacha', 'ginger-jalapeno', 'kipper', 'sheboygan', 'richelieu', 'iogurt', 'paasi_parupu', 'greek_yogurth', 'ready-to-eat', 'zested', 'items', 'raspbery', 'q', 'three-quarters', 'snook', 'rough', 'flax', 'dusting', 'greensstems', 'wire', 'marinara', 'lightlife', 'cafe_louisianne', 'lgtomotoes', 'asian', 'lemomgrass', 'bolillo', 'personally', 'base', 'chrevre', 'coya', 'parsley\">parsley', 'panca', 'mediun', 'freshly-poached', 'laurentiis', 'absinthe', 'takana', 'cayenne(or', 'gari_julienned', 'moscato', 'maries', 'all-purpose', 'pre-seasoning', 'chukars', 'letter-shaped', 'cooker', 'extra_strength_lavender_infusion', 'hero', 'peach-bourbon', 'leche', 'cauliflowerettes', 'canpillsbury', 'sandies', 'chili-garlic', 'penna', 'merlot', 'zataran', 'kats', 'cotton', 'bhel', 'limone', 'stale', 'envelopeshake', 'pair', 'lime-freshly_squeezed', 'packagejell-o', 'piping', 'seppie', 'pearl', 'no-sugar', 'own', 'thinsations', 'amaro', 'grease', 'korean', 'oragano', 'free-range', '*oil', 'medgarlic', 'ailoi', 'parmingiano-reggiano', 'tahu', 'rasins', 'citric', 'ginger/garlic', 'screen', 'greenpepper', 'purchased_sun-dried', 'termeric', 'shirmp', 'nesle', 'sucaryl', 'peppadew', 'chickpease', 'crunchie', 'kaas', 'grouse', 'bluing', 'atkins', 'absente', 'taleggio', 'gplainflour', 'cup/', 'red-cabbage', 'chuncks', 'horseradi', \"welch's_grape_jelly_-\", 'melts', 'sufficient', 'juniper', 'three', 'fries', 'muskox', 'swans', 'branca', 'methocel', 'pureed', 'snoek', 'injectable', 'packettomato-garlic', 'daniels', 'packageof_swansons', 'meassures-like-sugar', \"canshunt's\", 'panini', 'continental', 'quart', 'estragon', 'long-grain', 'reames', 'sargeno', 'quahogs', 'rosemarino', 'vegenaise', 'avocadoshalved', 'masur', 'prohibition', 'mian_jiang', 'stuff', 'watchers', 'fluffbutter', 'cornbread', 'shal-lots', 'garbanzo', 'pepperika', 'bulky', 'there', 'lapsang', 'raspberry-cranberry', 'opion', 'forester', 'ml/', 'havana', 'fiber-enriched', 'crustless_good', 'saltanas', 'tastes-like', 'make-', 'tartaric', 'cinnamon-raisin', 'mexicano', 'wondra', 'finishing-quality', 'philsbury', 'anci', 'lily_bulbs', 'irish', 'hamburger', 'mashmallow', 'italian', 'worstershire', 'coriander-cumin', 'thank_you', 'pillers', 'boxbutter', 'loosley-packed', 'tormicelli', 'sangria', 'extra_virgine', 'tennessee', 'strands', 'poppadoms', 'griottes', 'mayonnise', 'rejuvelac', 'figures', 'canitalian-style_stewed', 'shalllots', 'cutter', 'shredded_cavolo_nero', 'punnet', 'sourmilk', 'calabrese', 'tequila', 'teacuup', 'japanese', 'all', 'neem', 'gan', 'cilantra', 'boule', 'joe', \"bull's-eye\", 'frenchbread', \"ida_hash_brown_potatoes_o'brian\", 'chilled', 'poacher', 'percent', 'tortillias', \"hoffman's\", 'tbsn_half-and-half', 'branzino', 'willow_pond_farm', 'cookin', 'wasabe_to', 'morrow', 'trenette', 'stead', 'vineger', 'tomatilla', 'perfection', 'kacang', 'nigari', 'colour', 'toban_jan', 'casing', 'charms', 'simple', 'heavy', 'bulbtrimmed', 'mche', 'pcs', 'blossom_leaves_preserved', 'firewood', 'cream-top', 'hebs', 'pal', 'empanada', 'mild-tasting', 'evenly', 'chcken', 'store', 'piquant', 'bananna', 'philidelthia', 'fully', 'parmasean', 'pet-ritz', 'suet', 'singles', 'tspsoda', 'popsicle', 'gorgonsola', 'lap_cheong', 'soju', 'sweet-tart', 'chilantro', 'pds', 'pancetta', 'giardinera', 'kefalograviera', 'rosenborg', 'langostino', 'christmas_ribbon', 'sugary', 'stewing', 'bucket', 'lambic', 'munster', 'panir', 'natvia', 'quick-cook', 'atomizer', 'italy', 'cocomalt', 'jennie-o', 'belvedere', 'cedar', 'cucumbet', 'apf', 'petit_chebra', 'corn-on-the-cob', 'creme', 'buter', 'three-grain', 'balm-mint', 'lamb-leg_steaks', 'morron', 'tripple', 'jif', 'lentilles', 'always', 'toor', 'breaf', 'suger', 'fortunes', 'jumbo', 'nelly', 'fabric_ribbon', 'cachous', 'cranberry-raspberry', 'fatback', 'skipjack', 'whole-kernel', 'days', 'mulukhiyya', 'mushrrom', 'verjus', 'vodka', 'canmanwitch', 'lemon-thyme', 'pickling', 'lettice', 'pinapple', 'popcicle', 'mizuna', 'ingredients', 'torch', 'chang', 'tiger)prawns', 'doubanjiang', 'pennsylvania-dutch', 'manual', 'trumpet_royal', 'evaporated_mil', 'cointreau', 'cord', 'onion-_dived', 'cheap', 'stonehill', 'canolope', 'apache', 'fresher', 'caperberry', 'dried_ginseng', 'tinfoil', 'caprino', 'leek', 'turpentine', 'reg', 'tablespoos', 'rolos', 'ganoush', 'cayene', 'canmuir_glen', 'crappie', 'vegettables', 'plain', 'trennette', 'nonpareil', 'gently', 'egg-whites', 'marjorin', 'medshell', 'christophene', 'chachere', 'clamato', 'manauea', 'ckicken', 'veganais', 'ethmix', 'cupmirin', 'yoghourt', 'orval', 'ben', 'kovbasa', 'sweetening', 'bleached', 'pickled)-', 'aburaage', 'shank', 'jalapenostemmed', 'no-stick', 'draught', 'a-', 'cigar', 'spearment', 'kurau', 'between', 'curls', 'via', 'lettus', 'my', 'sauage', 'mixer', 'beanshoots', 'ravoli_one_lb', 'fusion', 'wehani', 'chille', 'weipa', 'cubbed', 'biscotti', 'tomato-horseradish', 'gen', 'together', 'thing---depends', 'icing:', 'massala', 'tikka', 'recipegnocchi', 'cilantro', 'noodels', 'x-virgin', 'conversation', 'canbutter', 'melone', 'jarmarinate', 'poultry-seasoning', 'jell-o', 'evo', 'ferik', 'each', 'stale-bread', 'cheesecloth', 'beefeater', 'zahtar', 'tamagoyaki', 'soul', 'packagebakers', 'five-ounce', 'poussin', 'scissors', 'green-chile', 'halves', 'tomillo', 'american-style', 'brooks', 'basket', 'thickly', 'being_cooked', 'breakcrumbs', 'kuro-mitsu', 'fry', 'xantham_gum', 'caperberries', 'pottoes', 'schweppes', 'tspsugar', 'crescenza', 'waterchesnuts', 'cajeta', 'suckers', 'plank', 'pachages', \"bailey's\", 'chunk', 'drizzling', 'agua', 'tins', 'cheeder', 'lacinato', 'amour', 'prumes', 'tobasco', 'enclosed', 'pineappe', 'jicamaa', 'sultans', 'tehina', 'region', 'veggie-licious_you', 'chanterelle', 'blackpaper', 'world', 'snails', 'o-c', 'calamansi', 'falernum', 'rouille', 'non-pocket', 'herb', 'champagne', 'cashews/almonds', 'cansready-to-spread', 'briquettes', 'potholders', 'glue', 'sturdy', 'red-skinned', 'pineapple\">pineapple', 'party', 'himono', 'carott', 'luffa_acutangula', 'carciofini', 'raisons', 'marshamallows', 'basill', 'mollasses', 'toasted_macadamia', 'ovolini', 'galettes', 'calendula', 'saury', 'mojo', 'packageronzoni', 'cadamon', 'santa', 'mini-mozzarella', 'yoghurt', 'stawberry', 'mix/match', 'replace', 'spaetzel', 'pistachio-caper', 'casava', 'mauritian', 'ogonori', 'brine', 'point', 'breaded_cooked', 'komezu', 'arnolds', 'chipoltles', 'peyniri', 'assortment', 'oriental-flavor', \"banana's\", 'frank', 'cinnamin', 'corriender', 'caciocavallo', 'ready-to-', \"french's\", 'tobassco', 'steam', 'demi-glace', 'amasu', 'yellowtail_snappers', 'grappa', 'packagedirections', 'chicken-flavor', 'taragon', 'buricotta', 'pper', 'tojolote', 'personal', 'butterbeans', 'light-colored', 'shoulder', 'parma', 'vinergar', 'spheres', 'amadine', 'orange-blossom', 'cocount', 'basil-garlic', 'extra_large', 'orange-peel', 'powdered', 'witch', 'peppe', 'bits-o-barley', 'sebago', 'lock', 'sauteeing', 'gruyandegrave', 'spumante', 'tyson', 'strutto', 'whitewine', 'brush', 'pices', 'dairy_cheese_processing', 'wavy', 'aldi_flavoursome', 'pancake', 'castile_soap', 'marojam', 'boxpillsbury', 'rolled', 'jarcheesy', 'borax', 'nonalcoholic', 'prosciuttini', 'posole', 'cayanne', 'inger', 'paperbark', 'miso-tamari', 'appropriate', 'spritzes', 'onoin', 'starter', 'jarwater', 'kimchee', 'qunioa', 'bam', 'packageold', 'wildfire', 'chiffonade', 'drummettes', 'non-filtered', 'approximate', 'proportionate', 'sydney', 'kosher', 'salt(or', 'colavita', 'gorgeous', 'oelek', 'light-tasting', 'scaleon', 'knackebrot', 'clam-tomato', 'ground/', 'paso', 'chiletepin', 'shroom', 'bluefish)', 'pill', 'pkg', 'option', 'alba', 'chicketta', 'babytomatoes', 'pork-n-beans', 'bananas(about', 'polenta', 'favourite', 'strawberry-banana', 'black-tea', 'creek_chili_potters', 'al', 'bed', 'shredded_mozzarela', 'paintbrush', 'sprinz', 'cous_cous', 'bratworst', 'meanwhile', 'ramakins', 'unjury', 'parprika', 'niter', 'puffed-rice', 'cansro-tel', 'silverbeet', 'almond-flavor', 'adding', 'softner', 'claret', 'unbroken', 'samosas', 'aspragus', 'these', 'shrimp\">shrimp', 'parsley/rosemary', 'calabrian_bomb', '/soda', 'calvados', 'maitake', 'sweeter', 'carot', 'mocha', 'comet', 'gochugaru', 'meringue', 'vert', 'thinky', 'mirin', 'italian-syle', 'truffle', 'origanum', 'vsnallia', 'maggi', 'slivered', 'tubettini', 'neatea', 'gobble-bolognese', 'aojiru', 'active', 'eastern', 'grarlic', 'shops', 'tbspvanilla', 'reduction', 'freshly', 'conchigliette', 'fritos', 'basa', 'fiesta', 'tositos', 'asst', 'msg', 'lemon-ginger_zapper', 'trans-fat', 'twinkie', 'kummel', 'strawberies', 'cadburydark', 'manwhich', 'mediterranean', 'szechuan', 'bottlenalley', 'equis', 'gizzard', 'home-preserved', 'tomatoesthickly', \"newman's\", 'cranberry-mango', 'suace', 'so', 'lemonzest', 'culantro', 'aisle', 'ikan_bilis', 'plah', 'duncan', 'black-eyed', 'maple-flavor', 'owens', 'five-pound', 'plate', 'mustsrd', 'fame_mountain', 'creamcorn', 'slow', 'good-tasting', \"l'anglaise\", 'shout', 'cherrios', 'pimenta', 'marrianara', 'cachaca', 'cheaper', 'okra(ladies', 'bluestone', 'mizuma', 'shredded_very_fine', 'hammer', 'pomonas_universal', 'eight', 'baschamel', 'home-candied', 'caciotta', 'vegan', 'coliflower', 'marlin', 'apple/grape/', 'orgreno', 'tecate', 'glace', 'cava', 'cardomom', 'boston_lettuce\">lettuce', 'stracci', 'tabbouleh', 'radiatore', 'khalua', 'cornflour', 'tendons', 'corainder', 'perfectoms', 'pink', 'asake', 'corriander', 'pickled', 'maseca', 'nitrite-free', 'canwhole-berry', 'peperoncini', 'calcium_sulfate', 'biscuts', 'muster', 'applehalved', 'rooibus', 'container', 'chickenstock', 'nocello', 'graham-cracker', 'mashroom', 'belly', \"durkee's\", 'milk(i', 'nuoc-mam', 'avacodes', 'burgundy', 'matchstick', 'gnoochi', 'perry', 'cabrillas', 'dofu', 'caerphilly', 'slurry', 'opossum', 'trinidadian', 'applesider', 'bolognaise', 'chewing_gum', 'perrier', 'bread-eaters', 'deco-furi', 'wooden', 'pretzel', 'packagemori', 'glycern', 'wolfberry', 'haba', 'containerlite_real', 'lapchang', 'carpenter', 'kitchenaid', 'ferina', 'kochukaru', 'pepitos', 'vienna', 'ricotta', 't', 'bechamela', \"cachere's\", 'kumquatshalved', 'magners', 'parsey', 'pandanas', 'packageschicken', 'low-moisture', 'haggis', 'breast', 'eye', \"hellmenn's\", 'benedictine', 'hokkaido', 'vinigar', 'karo', 'topping:', 'snowshoe', 'pls_refer', 'cycynvers', 'frozen-broccoli', 'parmesan)', 'capocollo', 'thinslicesofbacon', 'fucus', 'licorice', 'packagesgarlic', 'cansmild', 'zachary', 'worcestisire', 'panco', 'avalible', 'epper', 'coffe', 'rack', 'rotelli', 'pistou', 'canister', 'ig', 'carrageenan', 'egg(beaten', 'tbps', 'ranch-flavored_salad_spritzer', '/yoghurt', 'mirliton', 'culotte', 'bananas-sliced', 'later', 'gingko', 'basilicum', 'bangers', 'curling_ribbon', 'butt', 'bind', 'kernel', 'proof', 'persimmon', 'sotol', 'ratafia', 'six-', 'pico', 'chinaco', 'thin', 'grated_good', 'fels-naptha', 'pimente', 'blaeberries', 'rau_ram', 'orange-flavor', 'creamcheese', 'jasmine', 'wagyu', 'tianmianjiang', 'oval', 'groundbeef', 'buttermilk', 'nest', 'pastina', 'sambal', 'mostaccioli', 'gorgonzola', 'hazelnut-flavored', 'nori', 'roles', 'onigiri', 'shirasu-boshi', 'canrecipe-ready', 'lemon(big', 'valila_flavouring', 'rigotoni', 'kumamotos', 'choppedparsley', 'gnocchi', 'perfect', 'zombie_gummies', 'gravey', 'late-harvest', 'creme-filled', 'mother_stallard', 'torino', 'boiled_bunya', 'boeuf', 'ether', 'tazo', 'spinatch', 'mozzarella-style', 'sprinkling', 'caesar_fat-free', 'ume', 'crinkles', 'ketch', 'hikiwari_natto', 'strawwberries', 'saltine', 'frozenchoppedspinach', 'pampero_aniversario', 'cornstrch', 'inariage', 'eggy_yokes', 'sniff', 'poatoes', 'cormicks', 'lid', 'department', 'keep', 'mascarpone', 'neck', 'choy', 'grainy', 'shaomai', 'sweetvermouth', 'requeson', 'crunchy', 'tosadas', 'capicola', 'morning_delight;store_bought', 'bicarbonate', 'miod', 'wickles', 'canitalian', 'carrotfinely', 'cooking', 'fermentation', 'apart', 'seasalt', 'depot', 'silicon', 'canregular', 'milnot', 'paprica', 'rosemarin', 'bagged_pre-washed', 'cascadian', 'pork-n', 'beurre', 'cansrecipe-ready', 'sleeves', 'jalepeno', 'azafran', 'worcestershireshshchestshire', 'cancastleberry', 'yellowfin', 'banana-', 'adoble', 'shake-n', 'at', 'lower', 'parker', 'roblochon', 'momoya', 'ater', 'ketuchup', 'lilikoi_concentrtate', 'vinegar\">balsamic', 'bite-sized', 'parmesean', 'create', 'cheval', 'coins', 'mini-loaves', 'chevil', 'old-fashioned', 'lachoy', 'venigar', 'cillantro', 'aguardiente', 'rusk', 'piment', 'spring', 'beer', 'fudge', 'blade', 'marshamellow', 'mop', 'vainilla_essense', 'oz)pumpkin', 'rectangles', 'tester', 'oveltine', 'aburage', 'noddles', 'canfranco-american', 'gernadine', 'alchermes_liquore', 'oregano\">oregano', 'cracklins', 'chester', 'romate', 'instruction', 'rolled-paper', 'pinecones', 'crudite', 'oilves', 'crottin', 'manggo', 'reactions', 'stuffing', 'cipollini', 'whopper', 'condiment', 'mayer', 'rasgullas', 'bread(i', 'nutria', 'brownie', 'pretzels(i', 'combination', 'ssuce', 'hilopites', 'kennel', 'kadipatta', 'ruply', 'zacapa', 'cheater', 'newtons', 'sockeye', 'nissui', 'rioja', 'americano', 'ratio', 'shredded_cotija', 'penuts', 'buniato', 'citrusy', 'wright', \"campell's\", 'shiso', 'tentacle', 'pista', 'blanched', 'soy-honey', 'saltfish', 'winelime_froth', 'crouton', 'parafin', 'angelica', 'renee', 'yest', 'katsup', 'gratin', 'called_regas', 'safe_pan_:)', 'pecan', 'setsubun', 'deglet', 'cabrales', 'puree', 'sirachia', 'parmaham', 'lbbutter', 'appls', 'fennel-garlic', 'cast-iron', 'copycat_lipton', 'nanohana', 'miniatures', 'caldo', 'garlic(salt', 'vinilla', 'breadcrums', 'section', 'baget', 'course', 'gingersnaps', 'namafu', 'jagermeister', 'wip', 'tindas', 'kailan', \"egg's\", 'something', 'thinning', 'pawpaw', 'benedectine', 'rolletes', 'thigh', 'tomalley', 'bhut_jolokia', 'alapeno', 'springwater', 'cervelat', 'cinnamon-flavored', 'gluten/egg', 'crushed_weetbix', 'midori', 'whole-wheat', 'horehound', 'matcha', 'comes', 'substitute', 'vingear', 'kharda', 'calamint', 'deluxe', 'porchetta', 'century', 'vinaigrette', 'chile', 'imperial', 'sizzles', 'tasty', 'colemans', 'pomelo', 'gluten-', 'pocky', 'soft-shell', 'neeses', 'cupquinoa', 'litter', 'chocolate-covered', 'coil', 'pimiento-stuffed', 'snow', 'flavoured', 'heeng', 'skinner', \"packagesstouffer's\", 'mentsuyu', 'seafood', 'bottlebutter', 'unsweetened_alkalized', 'racha', 'vegitables', 'four', 'mostaciolli', 'eighteen', 'necessary', 'farfalline', 'dressing-', 'step', 'containerbetty_crocker', 'canola', 'wlanuts', '-chicken', 'stout', 'richer', 'whipped_reduced-fat', 'rompope', 'amchur', 'clery', 'riesling', 'soysause', 'benas', 'boil', 'vermuth', 'buttermaple', 'whole-berry', 'dry_navy', 'chiote', 'tsukudani', 'marionberries', 'parmesian', \"d'anjou\", 'longbean', 'mickey_gilley', 'benzoate', 'sriracha', 'cime', 'meyers', 'fresh', 'cake/_shop_bought', 'shell-on', 'light-coloured', 'thoor_dhal', 'cobnuts', 'aunt_jemimas', 'lowry', 'triscuits', 'furikake', 'big', 'well-trimmed', 'cold-pressed', 'co', 'glycerine', 'cajun', 'jelly', 'benzoin', 'roux', 'mezzi-rigatoni', 'nasturtiumblossoms', 'chicpeas', \"eating_well's\", 'godiva', 'american', 'lemon-infused', 'pakoras', 'they', 'texas', 'vegtables', 'thirds', 'fords', 'vegit', 'oatbran', 'jigger', 'mulukhiya', 'marcarpone', 'mahi', 'pattern', 'sauerkrautt', 'ro', 'eucalyptus', 'cuke', 'gms/', 'dijonnaise', 'williamsburg_winery', 'frzn', 'fill', 'sweetchocolate', 'chesse', 'life', 'raisinets', 'beckey', 'capicolla', 'rabe', 'nunaturals', 'creese', 'beefies', 'junipero', 'pepitas', 'blend', 'for', 'caesar-flavor', 'frankfuaters', 'cauliflour', 'loaves', 'nipitella', 'kirsch', 'terrine', 'cippolline', 'spies', 'fowl', 'frozen-pepper', 'moderate', 'littleneck', 'pepporoni', 'classico_marinara_with', 'raspberry-flavored', 'rasberry', 'paraffin', 'craisens', 'jolly_rancher', 'gordons', 'wasa', 'parsley(optional', 'anymore', 'wax', 'shery', 'tomato-roughly', 'toubanjiang', 'jalapeo', 'specifically', 'medium_grind', 'terragon', 'follow', 'ascorbic', 'english_puddings', 'kalamatta_olves', 'metts', 'takanotsume', 'rammakins', 'tri-color', 'slivers', 'bonnett', 'chill', 'pch', 'have', 'scotch', 'island', 'indian', 'unripe', 'shampoo', 'margaritas', 'garlic-', 'opposite', 'champignons', 'campagne', 'colby', 'lychee', 'genever', 'omelet', 'parisian', 'farfalle', 'monosodium', 'quite', 'wheatmeal', 'brown-n', 'valrhona_le', 'jalapenos(or', 'several_grindings', 'ganmodoki', 'river', 'rindless', 'bullion', 'eels', 'wheatberries', 'kalamata', 'doritios', 'looks', 'tomatoslices', 'bottles', 'lge', 'pluots', 'then', 'peroxide', 'frucose', 'zhi', 'looking_away', 'sapporo', 'super', 'rosmary', 'roman', 'porcelain', 'tenderion', 'boned_quails', 'norwood', 'pull', 'level', 'athens', 'm', 'save', 'cresents', 'kinishes', 'segment', 'matzoh', 'evoo', 'sociables', 'garmish', 'grade', 'poblanocored', 'mazzaher', 'muscovy', 'bricks_wrapped_twice', 'tallow', 'gumdrop', 'jalenpenos', 'thaw', 'shio-koji', 'zesty', 'reserving', 'dijion', 'nishime_konbu_soaked', 'nonesuch', 'frogs', 'clay', 'chives;fresh_snipped', 'store-bough', 'longaneza', 'babana', 'farro', 'spitzer', 'milk\">milk', 'camembert', 'canstiny', 'expresso', 'zucchines', 'growers', \"johnson's\", 'fineley', 'liq', 'tabouli', 'vanaspati', 'shaving', 'lemon-pineapple', 'kelp', 'sealegs', 'colby-monterey', 'linguia', 'rimmed', 'rough-chopped', 'prepackaged', 'processor', 'spray', 'friut', 'corneal', 'beef-mushroom', 'macoroni', 'club', 'jell', 'sorbitol', 'gingerroot', 'urad_dal', 'dl', 'vegitarian_refried', 'mirepoix', 'lemon-freshly_squeezed', 'bakery', 'want', 'tapenade-rosemary', 'hamachi', 'secc', 'wages', 'moss', 'motzerella', 'pollen', 'tonguefish', 'tel', 'chourico', 'limon', 'lovers', 'lovage', 'peanutoil', 'wolfgang', 'polisk', 'op', 'mozzerela', 'bow-tie', 'sweet-', 'sunday', 'parlsey', 'boxchocolate', 'cordial', 'stirfry', 'baby', 'shirasu', 'coarsley-minced', 'willow_run', 'layer--', 'consistency', 'four-bean', 'vinailla', 'dagoba_chocodrops', 'nectarine', 'literally_heat', 'solid-pack', 'chilibeans', 'memmi', 'youghurt', 'bok', 'mat', 'espresso', 'merguez', 'cansorange-flavored', 'kikoman', 'chervil/chives', 'porcini', 'possible', 'pumpkin-seed_brittle', 'chickepeas', 'nasturtiums', 'martini', 'mangetout', 'spatchcock', 'chick-pea', 'almost-empty', 'banyuls', 'elixir_combier', 'saltandpepper', 'scouring_pad', 'non-metallic', 'shito', 'beansprout', 'garlicpowder', 'arepa', '-to', 'persimons', 'bresaola', 'girards', 'ginger-ale', 'lakanto', 'perri', 'applejack', 'andes', 'passionfruit', 'greater', 'thoroughly', 'vanillin', 'fluff', 'scorpion', 'crossways', 'canellini', 'kaffe', 'shovel', 'cabg', 'drains', 'blackening', 'mccormick_produce_partners', 'thin-skinned', 'quark', 'lox-style_smoked', 'eg', 'fire', 'bows', 'appleflappen', 'packagecake', 'cornflake', 'muenster', 'katchap', 'mozzarella)', 'venila', 'kalabasa', 'becky', 'zuchini', 'lan', 'julep', 'kreations', 'pencil-thin', 'bell', 'guinness', 'certo', 'crushed_arare', 'containerfresh', 'larger', 'moushrooms', 'majonaise', 'tortillini', 'chiourico', 'rattlesnake', 'crainsins', 'cutoffs', 'lump', 'crimini', 'dropper', 'beef-flavor', 'calville', 'anizette', 'halo-halo', 'meuni`ere', 'peppersalt', 'blackberri', 'brambles', 'tepins', 'another', 'low', 'porter', 'budweiser', 'glitter', 'sold', 'packaged', 'packqge', 'keebler_individual', 'domino', 'avokado', 'goat-milk', 'cabage', 'sweetleaf', 'pork/beaf', 'digestive', 'orders', 'foccasia', 'serving', 'packagecherry', 'pads', 'loquat', 'burgel', 'rotisserie', 'immitation', 'bacon(i', 'spiniche', 'longways', 'cmolasses', 'adobados', 'flying-fish', 'chachers', 'oval-shaped', 'wedged', 'jeleapneos', 'atsuaage', 'duxelle', 'cartons', 'haribo', 'saltpeter', 'tomales', 'amarula', 'tamatillo', 'worcestershire', 'cajun/', 'cook', 'tabsaco', 'recado', 'enova', '/ground', 'jowl', 'chile-pepper', 'saot', 'swiss', 'crumbled_cotija', 'mitsuba', 'lancelot', 'piri-piri', 'pocket', 'grapenuts', 'loose-pack', 'white-', 'taggiasca', 'muslin', 'morsals', 'camp', 'packageonion-garlic', 'butterball', 'idahoan', 'morocon', 'sliced_portuguese', 'urid_dal', 'canpineapple', 'fish-shaped', 'cazuela', 'stawberrries', 'ganthia_masalas', 'celber', 'cocunut', 'nutrient', 'taramasalata', 'rava', 'hiram_walker', 'orgeat', 'raddish', 'sunbutter', 'raisen', 'calif', 'catalan', 'coulis', 'extra-lean', 'truroots_organic_sprouted', 'corn-bran', \"assorted_color_beets_stems_trim'd\", 'chorico', 'huitlacoche', 'hamhock', 'quakers', 'ghee', 'shredded_reduced-fat', 'buttercream', 'fifth', 'del', 'striploin', 'chilie', 'altogether', 'bourghul', 'pickels', 'cans', 'g_wheat_floura', 'when_supplies', 'zwack', 'g_hoa', 'rats', 'non-', 'chopoed', 'some', 'liqueur', 'active-dry', 'patas', 'channa', 'bruised', 'campfire_miniature', 'tart_sherries', 'beaver_tails', 'kirshwasser', 'backfin', 'granolacereal', 'acacados', 'president_choice_memories', 'sharon', 'coarse-grain', 'choice(garlic', 'sc', 'coca-cola', 'potatoe', 'spaghetinni', 'bologni', 'chironji', 'cumcumber', 'pesto', 'bannana', 'cantuna', 'saf', 'shitake', 'scottish', 'oregao', 'bold', 'cansmuir_glen', 'cheesier', 'calcic', 'cottage', 'tomato-free', 'peach-passion', 'while', 'z', 'dukka', 'pea', 'strips', 'imagination', 'farval', 'ready-to-use_chicken_broth_-', 'cinnamon-sugar', 'arborio', 'green-onion', 'chutney', 'violette', 'rice(i', 'lumpia', 'grilling', 'warning_its_kind_of_messy', 'connecticut', 'hersery', 'whole', 'smart_beat_fat-free', 'gronions', 'rhodes', 'belacan', 'multi', 'ranchers', 'fraiche', 'flatiron', 'vegetibles', 'argan', \"ac'cent\", 'farfelle', 'canblack', 'jalepinos', 'butter/margarine', 'steamer', 'paparika', 'moyashi', 'edensoy', 'presentation', 'sweetcorn', 'reeses', 'ham/chicken', 'adjust', 'pcscardamom', 'reposado', 'tamarindo', 'force', 'tostadoes', 'lebkucken', \"wiley's\", 'turbinado', 'canmexican', 'brandy', 'brothers', 'lemonjuice', 'fiscalini_bandage', 'reggianito', 'celantro', 'curaao', 'taurine', 'peanutbutter', 'grate', 'sorbet', 'grenadine', 'rounding', 'rosehips', 'soda', 'lengthwise', 'molassas', 'prosciutto', 'canmushrooms', 'soyasauce', 'longan', 'yuzu', 'blowfish_tails', 'sabra', 'wheatbran', 'six-pack', 'toscano', \"cachery's\", 'strawberrry', 'dog', 'marcona', 'farmers', 'alla', 'gras', 'ramekins', 'jallapenos', \"m's\", 'romaine', 'variation', 'pasty', 'corbett_canyon', 'avoid', 'fettucine', 'colored', 'broccolette', 'sanbitter', 'cornmeal-topped', 'cornflour/starch', 'walleye', 'lomein_noodles-', 'slice', 'fancy', 'itailan', 'beeswax', 'presunto', 'wine', 'osetra', 'tablespoonsmirin', 'nibblers', 'low-calorie', 'cocktail', 'pallini', 'tawny', 'gelatine', 'handfull', 'bokchoy', '*sauce-recipe', 'hlavaty', 'kencur', 'johnson', 'garkic', 'bonito', 'genger', 'mixture', 'envelopechunk_albacore', 'twirls', 'starch', 'spear', 'ozvanilla', 'treviso', 'pecan-cranberry', 'pullman', 'skin-', \"bottlebreanna's\", 'scamorza', 'butter(mine_was', 'sepen', 'cheesybite', 'slow-cooking', 'shake-n-bake', 'yeild', 'maragrine', 'zester', 'glucomannan', 'gorganzola', 'peanuts/walnuts', 'cabagge', 'tail-on', 'almendrado', 'canzucchini', 'inulin', 'melonhalves', 'preservative-free', 'orata', 'collage', 'sunchokes', 'multi-bran', 'habenero', 'butternut', 'thin-crust', 'occasion', 'blini', 'volume', 'never_even', 'rounded_tablespoons', 'louise', 'lemonds', 'sharp', 'julienne', 'shirojoyu', 'shiraz', 'creamer', 'strawberry-pineapple', 'hermetically', 'couple', 'marsmallows', 'ras-', 'ina', 'tenkasu', 'cask-aged', 'puffed', 'geranium', 'melting', 'larry', 'chocolate-dipped', 'dipping', 'cupschicken', 'broth', 'knife', 'creativity', 'tunna', 'armagnac', 'bears', 'wasabi-yuzu', 'procuitto', 'lattice', 'astragal', 'ramona_wachter', 'floour', 'spread', 'saccharum', 'mix-up', 'tube', 'bone', 'orange;', 'smirnoff', 'ring', 'witlof', 'linguine', 'lemon-flavor', 'brewers', 'purple-basil', 'cucumber-thyme', 'jarrobusto', 'peprica', 'glen_organic', 'coarse-chopped', 'mince', 'taken', 'heckers', 'konnyaku', 'cannelli', 'fumet', 'fructevia', 'good_albacore', 'orange-juice', \"next_hallowe'en\", 'guacamole', 'teaspoonfuls', 'piper', 'international', 'marscepone', 'fryer/chicken', 'emulsifier', 'orgeno', 'yougurt', 'dreamfields_elbow_macaroni(or', 'willians', 'serai', 'berries', 'lavosh', 'canilla', 'yogart', 'cbuttermilk', 'cleaner', 'tsukemono', 'sherry', 'brooklyn', 'turn', 'mini', 'microplane', 'peacans', 'salvadorian', 'ml)milk', 'choise', 'stronger', 'butter-flavor', 'galanga', 'suckin', 'groundmeat', 'bodies', 'chicken/', 'solidly_packed', 'artifical_sweetner_granulues', 'expeller-pressed', 'caraibe', 'hair', 'mount', 'suah', 'nitrate', 'shortning', 'bracelets', 'redpack', 'knob', 'mesquite', 'rennet', 'enhancers', 'crackets', 'filberts', 'cocao', 'feuille', 'snickers', 'ladyfinger', 'fischer_and_wieser', 'watermelom', 'kumara', 'garli', 'contrast', 'boondi', 'refrigerator-cold', 'chicche', 'flatbread', 'colander', 'chacheries', 'china', 'kukicha', 'pared', 'rumple', 'all-purporse', 'bock', 'bugles', 'shaker', 'cavender', 'emmentaler', 'wish', 'gherkin', 'pitcher', 'cheez_wiz', 'viniger', 'coleslaw', 'buttet', 'hobnobs', 'nestles', 'curacao', 'white-fleshed', 'yansoon', 'guasacaca', 'clement', 'your', 'charentais', \"'s\", 'mashed', 'genepy', 'micowave', 'sereh', 'dhall', 'lower-salt', 'kaiser', 'daikon', 'cepes', 'cappellini', 'souffle', 'kudzu', 'crispix', 'artificially', \"goat's\", 'cinnnamon', 'boniato', 'hambone', 'pistacho', 'shedd', 'firm-ripe', 'mangarine', 'griddle', 'cheek', 'sansho', 'choco-bake', 'secret', 'crystalized', 'results', 'nut-quick_grnd_fine', 'onionpowder', 'garllic', 'chestnut', 'vanilla-cardamom', 'jonah', 'mix', '*doubanjiang', 'red-leaf', 'mint-coriander', 'ored', 'steel-cup', 'orenago', 'proscuito', 'nacon', 'elderflower', 'yogourt', 'comino', 'moderna', 'kombucha', 'packagebutterscotch', 'farina', 'ozportion', 'stove-top_smoker/cooker', 'vinaigrette(or', 'chickpeas)', 'thin-rolled', 'colada', 'pilaf', 'clippings', 'nachos', 'marinate', 'cool', 'target', 'dr', 'olallieberries', 'perogies', 'aperitif', 'lemon-lime', 'speck', 'sardin', 'lrg', 'rogue_creamerys_smokey', 'freekeh', 'packagepeanut-shaped', 'bulgogi', 'panang', 'kroger', 'ao-nori', 'andouille', 'ml)walnuts', 'vinager', 'myoga', 'bacala', 'branzini', 'imagine', 'varnish', 'abbeycheese', 'date_jam', 'crackes', 'torillas', 'beldi', 'loose-leaf', 'vermicilli', 'greenery', 'bagsapple-cinnamon', 'chocolate-chips\">chocolate', 'fgbp', 'mandoline', 'uncle', 'buccatini', 'condensed', 'pemento', 'take_care', 'ideas', 'skinned', 'multi-grain', 'wilk', 'cobbler', 'packageloose-pack', 'pepricca', 'sugat', 'robiolla', 'becherovka', 'levka', 'style', 'petit-', 'thicken', 'nocino', 'cansalt', 'dende', 'granule', 'carmel', 'scuds', 'fisher', 'cardamon', \"o'brien\", 'tbutter', 'habanaro', 'toovar', 'rotelle', 'chile-garlic', 'mess', 'fraction', 'peppermill', 'pasteurized', 'croissant', 'hambuger', 'butterlied', 'mozzarella-mozzarella', 'packagesstella_doro', 'catnip', 'brocolli', 'season', 'earl_gray', 'prepared_cevice', 'gribenes', 'picante', 'stawberries', 'gm', 'semisweet', 'mascato', 'harvard', 'mister', 'deli', 'full-', 'colby)', 'frenchs_chili-o', 'seashell', 'hallabong', 'garrotxa', 'porterhouse_steaks', 'no-sodium', 'kasundi', 'enoki', 'selection', 'grandma', 'chickpeans', 'kiebasa', 'orchid', 'copha', 'liquid(water', 'parmigiano', 'gala', 'lardo', 'maytag', 'konbu', 'all-fruit', 'lavion', 'ataulfo', 'giblets', 'pettite', 'microwave-safe', 'molukhia', 'viegar', 'cinnamion', 'salsa', 'raisins\">raisins', 'wisconsin', 'capand', 'yucatan-style', 'cambazola', 'restaurant-style', 'zucchlini', 'sieve', 'topper', 'jyako', 'broiler-fryer', 'metallic', 'wheylow_granular', 'fast-rising', 'upper', 'low-fat', 'dragee', 'grocers', 'alum', 'epsom_salts', 'ginepro', 'mcbutter', 'prosecco', 'bluepoint', 'sap', 'florida', 'betty_crocker', 'butcher', 'pre-made', 'canro', 'shiro', 'egg-substitute', 'boodles', 'crostoni', 'kalestems', 'mastika', 'lots', 'commission', 'edges_slashed', 'bellar', 'salt-free', 'tumeric', 'manis', 'linguica', 'gazpacho', 'salsa-style', 'all-american', 'gremolata', 'octopi', 'baconrashers', 'granulated_sigar', 'three-pepper', 'dried_porcinis', 'brsugar', 'ready-to-serve', 'honeycomb', 'spoonable', 'marinade', 'spaetzle', 'pepperjack', 'mole', 'yee', 'ajwain', 'bundle', 'sprinkles', 'seitan', 'gomashio', 'saucers', 'pipian', 'newman', 'chocolate-flavord', 'violets', 'koriander', 'pre-bought', 'fettechini', 'butterfinger', 'melissas', 'tasso', 'assorted_color_jimmies', 'hazelnut-flavoured', 'calamata', 'file', 'scraps', 'velveeta', 'packagesanta', 'cansdel_monte', 'sailor', 'hebrew', 'medonion', 'splenda', 'begin', 'corn-meal', 'rosemary+salt', 'funnel', 'capersrinsed', 'cave-aged', 'lo-salt', 'saussage', 'genorous', 'besan', 'ponzu', 'resh', 'nolet', 'udi', 'crater', 'rib', 'blackberry-flavored', 'usuage', 'bayleaf', '/tau_pok', 'beefsteak', 'cauliflowerets', 'teaspoon~', 'curetons', 'canderel', 'pork/pork', 'cutouts', 'slugs', 'lgtuna', 'dark', 'fluke', 'italion', 'pecorino', 'vanila', 'toban_jiang', 'mayonese', 'coarse', 'dashes', 'comfrey', 'mixed-color', 'ficelle', 'manwich', 'genoa', 'croustade', 'gerber', 'limas', 'cardimom', 'peapods', 'non', 'corals', 'carrets', \"packetmccormick's\", 'classic', 'containernon-fat', 'aid', 'legume', 'byrrh', 'garnishing', 'pineapple-', 'bouquet', 'ikura', 'buds', 'baquette', 'khus_khus', 'containerricotta', 'chive(escallion', 'kisses', 'cardamaro', 'snickerdoodle', 'barberries', 'mild', 'cummin', 'sal', 'grape-nuts', 'calabasitas', 'cheetos', 'flake', 'good-quality', 'golden', 'buttery', 'get', 'bournville', 'goldschlager', 'marasca', 'oven', 'dsh', 'pour', 'choice', 'accent', 'mamey', 'packagerich', 'tapenade', 'crowns', 'walkers', 'lekvar', 'mezcal', 'marsala', 'peeled', 'pasco_chopped', 'medium-coarse', 'origano', 'oxo', 'enzyme', 'crostini', 'melba', 'whisper', 'tightly_packed', 'hushpuppies', 'chedasharp', 'oreo', 'cavatilli', 'lye', 'strozzapreti', 'scraper', 'mayonaise', 'bagboil', 'cheesegarlic', 'sandwich-style_canadian', 'chickoos', 'nashi', 'kanten', 'butterflies', 'canbushes', 'zuchinni', 'branches', 'calves', 'eagle_mills', 'lasagne', 'grain', 'pinkelwurst', 'pedestal', 'satsuma', 'fideo', 'aspargus', 'vegies', 'mrsdash/', 'braeburn', 'ouncecan', 'maragarine', 'weight', 'rounds', 'fondant', \"oreo's\", 'jarmild', 'lemom', 'ientilles', 'custurd', 'dabs', 'overs', 'chose', 'scrambler', 'pancit', 'tomate', 'basmati-style', 'boiler', 'chunky)', 'asada', 'formula', 'jasmine-tea_pearls', 'chuck', 'network_kitchens_suggest', 'omellette', 'hambruger', 'barilla', 'ps', 'ro-tel', \"chang's\", 'roma', 'toban_djan', 'murphys', 'crusts-', 'folgers', 'croutes', 'bianco', 'aroma', 'mosel', 'parmigiano-_reggiano', 'cayenne', 'medium-ground', 'ciliegine', 'sorrento', 'raisingflour', 'tonkatsu', 'tamarillos', 'grand_mernier', 'raviolini', 'eggos', 'rhine', 'buttemilk', 'fritter', 'smoker', 'bayonne', 'chye_sim', 'rosebuds', 'sumac', 'rhubard', 'red-onion', 'mozerella', 'antlers', 'bacon/ham', 'rai', 'seven', 'speghetti', 'shalot', 'ya', 'bottleclear', 'ladelful', 'tzatziki_dip', 'bagsfancy', 'carrorts', 'prowl', 'mostarda', 'depending', 'potpourri', 'shallot', 'package_hillshire', 'kemiri', 'nestea', 'tofurkey', 'ackee', 'spinish', 'cores', 'marinating', 'habenaro', 'cansrefrigerator', 'capel', 'ganache', 'bottleorville_redenbacker', 'mason', 'desire', 'currant', 'tomators', 'caffeine', 'grand_mariner', 'candel_monte', 'snow-pea', 'spicyness', 'cansalaska', 'mini-marshmallows', 'haldi', 'beautiful_destination', 'torrone', 'peppet', 'sacs', 'haagen', 'sunquick', 'gouda', 'cucuber', 'arthur', 'nikujaga', 'wafer', 'vermout', 'briquets', 'saronna', 'crudo', \"pepperoni's\", 'loin', 'robert', 'chirimen_jako', 'cimmamon', 'mustardpowder', 'medium_kumera', 'gravox', 'tapito', 'percatelli', 'prociutti', 'japalanos', '/ramekin', 'pumpking', 'would', 'fetuccine', 'winter', 'dashi', 'ore-ida', 'hawaiian', 'yacon', 'nesquick', 'canscarnation', 'amandelspijs', 'cin', 'avocade', 'mozarlla', 'lolly', 'joint', 'harlem', 'whorchester', 'chikuwa', 'gondules', 'refrigerator', 'canalope', 'choi', 'beefaroni', 'alcaparrado', 'acida', 'peprika', 'olio_piccante', 'palmito', 'categories', 'filippo_berio', 'boneless', 'shiro-', 'taffy', 'cornedbeef', 'zhimajiang', 'peeler', 'achiote', 'asaragus', 'chocolatehazelnut', 'portabella', 'remaining', 'leftover', 'white-skinned', 'nozawana', 'bacteria', 'orivlle_redenbacher', 'manjari', 'chocolate-cookie', 'optionals_include', 'rambutans', 'deseeded', 'rocher', 'column', 'whitebait', 'crocodile', 'potato-onion', 'string', 'okinawan-style', 'tastykitchen', 'breakfast_steaks', 'milo', 'chilly', 'sirloin', 'cobia', 'garni_optional', 'borghese', 'blair', 'mesclum', 'ladopsomo', 'bezns', 'kitchen', 'alphabet', 'jimmy_dean', 'genova', 'boxgarlic', 'butter-', 'further_reduce', 'favas', 'lavender', 'dippers', 'dry_sautern', 'aluminum', 'packagegarlic', 'high-fiber', 'lemon/lime', 'crabstick', 'tomato/peppers', 'shell-shaped', 'lettece', 'brew', 'fri-chik', 'teabag', 'amaretter', 'clove', 'burritos', 'stack', \"handful's\", 'suggar', 'kishmish', 'tomitallo', 'carli', 'vinega', 'love', 'candei', 'linguisa', 'watetchestnut', 'baja_rosa', 'portion', 'pisco', 'fiery', 'craisenes', 'tape', 'kahlanduacute', 'whisky', 'bowtie', 'saison', 'france', 'red-tinted', 'mad', 'chief', 'angel', 'fillet', 'jars', 'only', 'chickenlegs', 'shochu', 'baloney', 'delicious', 'ceam', 'marrowfat', 'tamatoes', 'broc', 'tyme', 'ahead', 'del/pink', 'tamarai', 'short', 'st', 'belachan', \"jd's\", 'tortoline', '/squeezed)', 'slits', 'bub', 'tostados', 'italian-sausage', 'fiesta/taco', 'shoot', 'mix-ins', 'bout', 'escargot', 'hold', 'cansortega', 'ribeye', 'preserve', 'jeera', 'itallion', 'read', 'avacado', 'bagegg-shaped', 'kilogram', 'mediem', 'posto', 'gingerale', '/raspberry', 'zero', 'best-', 'bouillion', 'peperonata', 'crutons', 'canof_campbells', 'kuromitsu', 'its', 'ww', 'weissbier', 'satsuma-age', 'nigana', 'grillers', 'boquerones', 'jeruk_purut', 'chickennuggets', 'chirimenjako', 'pattie', 'pastis', 'doenjang', 'pumpkinseed', 'cachapas', 'crumb', 'manchego', 'shisho', 'filits', 'stig', 'constarch', 'semi-firm', 'shiro-dashi', 'gluten', '*yogurt', 'kick', 'frenchbean', 'knots', 'from_grocery_freezer', 'pomegrante', 'southern-style', 'zest', 'five-spice', 'containerbreyers', 'packagequick-cooking', 'butter\">butter', 'onion\">onion', 'cornish', 'chieve', 'rotilli', 'cashewnuts', 'fregula', 'feijoas', 'long', 'fregola', 'bermuda', 'bowl', 'pantry', 'red-wine', 'cwater', 'natural-flavor', 'bisquick/pioneer', 'shredded_cracker_barrel_old', 'harvati', 'buster', 'cavatappi', 'alpine', 'family_sized', 'check', 'nabana', 'cousous', 'christy', 'question', 'creations-', 'back', 'ridges', 'matsutake', 'smallish', '*crust', 'argo', 'pinches', 'green-fleshed', 'grated_kefalotiri', 'glutemate', 'russet', 'masala/', 'mintleaves', 'chenna', 'flanken', 'kiwi', 'green-tea', 'containersilk', 'rub', 'bird-chilli', 'glowing_embers', 'bondi', 'vidalia', 'burghol', 'lemon-pepper', 'chamoy', 'nayonaise', 'natural', 'wrapping', 'dough', 'draft', 'fillo', 'sides', 'greenbeans', 'consome', 'eggnog/cream', 'pastene', 'chive', 'packagesargento', 'redbean', 'oriental_dry', 'kraft_classic_balsamic_vinaigrette_dressing_made_with', 'collard', 'coconut-flavored', 'plan', 'breadloaf', 'orzata', 'left-over', 'full', 'bottlehiram_walker_original_cinn', 'mapleine', 'kafferlime', 'anisette', 'bordeaux', 'raicilla', 'vannamei', 'cachews', 'squares', 'chocolate-covered-cookie', 'cognac', 'leaven', 'do', 'hop', 'consomme', 'javitri', 'mache', 'siu', 'versatile', 'techniques', 'clean', 'roll/can', 'cape', 'attached', 'anhydrous', 'whole-milk', 'heering', 'veev', 'roni', 'karaage', 'bibb', 'matonnaise', 'perilla', 'clelry', 'baconsalt', 'anahiem', 'hungarian', 'boxescheddar', 'avacodo', 'sweed', \"willingham's\", 'cranberry-pecan', 'milky', 'poha', 'null', 'chickenbroth', 'maltesers', 'milliliter', 'pama', 'pastirma', 'paneer', 'tongs', 'and/or', 'cereal', 'southern', 'knack', 'accomodate', \"confectioners'sugar\", 'citronge', 'pasta-linguine', 'paste', 'cancalifornia', 'glycerin', \"johar's\", 'grill', 'cansold', 'muscat', 'capres', 'swedish', 'shalotts', 'churrasco', 'shortcrust_pastryflan', 'salt/', 'packagesblack_rasp', 'buscuit', 'comte', 'being_served', 'frais', 'home-canned', 'worchester', 'lice', 'butter/', 'kuro-mame', 'yellow-fleshed', 'packagebox', 'log', 'kashawna', 'wurst', 'corvina', 'troll-caught', 'kardemomme', 'pat', 'pet', 'chedar', 'wholegrain', 'beancurd', 'ready-', 'season-all)', 'blowtorch', 'solear', 'arins', 'poppyseed', 'tocino', 'onion-garlic', 'canchicken', 'ladle', 'packagethird', 'margine', \"steen's\", 'sauza', 'oj', 'fruit-n', 'ml)garlic', 'nicoise', 'ovenproof', 'wal-mart', 'packagebuttermilk', 'cliantro', 'ingrediemts', 'premade', 'was_specified', 'tomatillo', 'keeblers', 'middle', 'arame', 'suit', 'litre', 'worms', 'caramon', 'crosiers', 'appleshalved', 'kashkaval', 'coriader', 'weenies', 'brummel_and', \"cansswanson's\", 'wheatgerm', 'praline', 'maggie', 'dimmi', 'seuer', 'stickers', 'shurfine', 'coffee-flavored', 'salflower', 'gourmet_insanity', 'strawberrries', 'james', 'adzuki', 'cotechino', 'crushed_captin', 'johns_extreme', 'mung_dal', 'hing', 'kombo', 'kissables', 'catsug', 'algin_bath', 'fettucini', 'candlenut', 'packageitalian', 'superior', 'pepperonchino', 'blanco', 'gargano', 'rajas', 'crab\">crab', 'amaretto', 'vanilla-flavoured', 'loaf', 'foot', 'maypo', 'acacia', 'campbell', 'market', 'chipits', 'from_brittany', 'maccaroncelli', 'bakingsoda', 'parmesan(or', 'chee', 'toothpicks', 'virginia', 'bolognese', 'cheddar(i', 'maria', 'boxesof_pre', 'mushroom/onion', 'rawspicebar_baltimore', 'nonfat', 'four-pound', 'cow', 'gourmet_sun-dried', 'lemongrass', '-thk', 'toenjang', 'black-currant', 'cento', 'courgette', 'varieties_various', 'garbanzo/chick_peaa', 'cream\">cream', 'cinnimon', 'yama', 'arrack', 'tahong', 'peche', 'aple', 'shell', 'corn-starch', 'unblanched', 'canwater', 'spry', \"joseph's\", 'nib_ramazzotti', 'claws', 'chiradelli', 'baking-soda', 'tenderloin', 'chilli-garlic', 'lime-cumin', 'kilbasa', 'jalenapenos', 'hanger', 'mozza-cheddar', 'optimator', 'avocoto', 'muchrooms', 'snowflake_stencil', 'croakers', 'woody', 'mahlab', 'usually', 'tunip', 'firm', 'touches', 'periwinkles', 'montreal', 'shallott', \"chilli's_birdseye\", 'herbsaint', '@', 'antipasta', 'weigh', 'kit', 'bolllng_onlons', 'layer', 'marsola', 'hg', 'suze', 'chocolate-mint', 'cinnamon(stick_form', 'criollo', 'kapern', 'della', 'tequilla', 'bisto', 'mars', 'zinfandel', 'shredded_chicked', 'hanut', 'pacifiers', 'drumsticks', 'bagswhite_albacore', 'smokies', 'cornhusks', 'sweet-and-sour', 'parsle', 'sukiyaki', 'ok', 'habanero', 'merveille', 'garum', 'backfat', 'sour-cream', 'mashmellows', 'saran', 'root', 'patty', 'lindt', 'jarlsburg', 'sherryjust', 'armour', \"goat's-milk\", 'stone', '/sugar', '/rolls', 'watet', 'foil', 'mushroms', 'blackbeans', 'hazulnuts', 'dubonnet', 'feta', 'yuba', 'broccosprouts', 'crabboil', 'seihakumai', 'juicy_margarita', 'used', 'mallard', 'softer', 'blackeye', 'wildflower', 'canwhite', 'white)', 'margerine', 'webers', 'nahum', 'white-wine', 'casoni', 'buffer', 'pollack', 'caicken', 'ivory', 'medium_sized', 'pierogies', 'leave', 'seasoning:', 'budwiser', 'vingar', 'ginersnaps', 'firm-fleshed', 'ouzo', 'stracchino', 'meet', 'popper', 'cascade', 'brains', 'shutes', '/japanese', 'cornsyrup', 'asian-flavor', 'buillion', 'sack', 'different', 'teaspoonginger', 'carnation', 'tuberous_begonia_fresh_edible', 'michiu', 'mizithra', 'tomotoes', 'packagemesquite', 'ong', 'plainflour', 'closed-cup', 'amazu', 'corstarch', ':_cracker_barrel_old', 'wormwood', 'celary', 'bisquick', 'musketeers', 'purses', 'runny', 'heels', 'fajita', 'saltandpepper(to', 'brunsweiger', 'ryvita', 'canjuice-pack', 'lawrys', 'semangit', 'potaoes', 'niboshi', 'dryed', 'cocchi', 'wee_willy', 'paket', 'shadow-benny', 'champange', 'strachiatella', 'mesculin', 'saucepan', 'hunk', 'linquini', 'season-all', 'cassarecci', 'dawn_liquid_dish_soap', 'planter', 'xylitol', 'olio_nuovo', 'saikyo', 'bought_sun-dried', 'grit', 'packagebone', 'mizuame', 'packagelime', 'packagegreen_giant', 'rainbow_jimmies', 'gingeroot', 'sheese', 'escallion', 'challah', 'torchios', \"knorr's\", 'fino', \"tomato's\", 'micry', 'nonstick', 'boxjell-o_real', 'reddish', 'batard', 'bran\">bran', 'rice-paper', 'sauterne', 'cippolini', 'medium_wide_noodles\">noodles', 'cocco', 'dasheen', 'mahi-', 'bouillon', 'garfish', 'chocolate-', 'chappatis', 'sawmill', 'liempo', 'before', 'except_family', 'eggs/@room', 'buitoni', 'wal', 'boite', 'savers', 'isle', 'basin', 'requeijao', 'deciliters', 'parsly', 'calamari', 'bicarb', 'brocoli', 'blackmpepper', 'sweetner', 'umbrella', 'bubbys', 'e', 'south', 'warka', 'cutting_platform', 'nigori', 'cooked_wagon', 'dust', 'jenni-o', 'eevo', 'chua', 'absolut', 'tentsuyu', 'castille_bath', 'acini', 'trimmings', 'mash', 'fabric_softener', 'doves', 'coarse-ground', 'rapini', 'rosemarry', 'mugs', 'best-quality', 'stouffer', 'orange-jalapeno', 'chardonnay', 'honegar', 'pepperoncillo', 'alligator', 'pois', 'jerry', 'light-brown', 'gheera', 'break', 'spirit', 'puerto', 'garbenzo', 'materials', 'delsunshine', 'resses', 'korn', 'victor', 'worchershire', 'fryer', 'packageof_pre', 'salume', 'australian', 'apricot-dijon', 'red-pepper', 'vanalla', 'plymouth', 'cinnomon', 'bumblebee', 'poppy_seed', 'shea', 'roughly', 'store-bought', 'komatsuna', 'peeling', 'excluding_pits', 'hanover', 'additional_dream', 'tagliolini', 'ichimi', 'twists', 'kg)butter', 'spiral', 'ring-shaped', 'whatever', 'pizzocheri', 'brandy-soaked', 'miracle', 'cellary', 'pirkia', '(salt', 'cutting_board', 'catchup', '*', 'pilsburry', 'bulghur', 'tsap', 'packageathenos', 'motts', 'bulgor', 'caribe', 'rb', 'mallows', 'salted', 'filing', 'oodles', 'cider-vinegar', 'cuts', 'onioin', 'suggestion', 'ombine', 'cantalope', 'chickens-', 'kochujang', 'masoor_ki', 'heapig', 'cili', 'haddie', 'marionberry', 'spike', 'cherry-type', 'strawmushroom', 'm`s', 'kuromame', 'doubanjian', 'three-fourths', 'short-grain', 'chuckie_cooked', 'ditali', '*reserved', 'smoke-flavor', 'canteloupe', 'trident', 'ham/bacon', 'heart', 'tendency', 'char', 'ready-made', 'brinkman', 'blaukraut-cool', 'bob_gibson', 'gochujang', 'werthers', 'all-purpuse', 'red/purple', 'fourth', 'kielbasi', 'romana', 'elmstock', 'multi-bean', 'ponies', 'caster', 'plata', 'crow', 'rustica', 'mexicali', 'pkgchocolate', 'batter', 'ekmegi', 'unsalted', 'floir', 'chicken/turkey', 'bark', 'scallionswhites', 'bulgar', 'inche', 'mozzerella', 'croquette', 'shailots', 'easter', 'espellette', 'burgandy', 'flat', 'chimichuurri', 'lemoncello', 'paprik', 'aspen', 'extras', 'candy', 'shreds', 'no-salt', 'picada', 'tri-colour', 'chicken\">chicken', 'vermicili', 'gloves', 'anis', 'montasio', 'choyote', 'cini', 'unbaked_pie_hell', 'capellini', 'asian-style', 'dales', 'kremelta', 'tb', 'lingonberry', 'after', 'brierind_discarded', 'jalapenas', 'brownberry', 'urad_dall', 'glass', 'maccheroni', 'chickenneck', 'saucenull', 'dhansakmasala', 'parshiment', 'mint-chocolate', 'shell-', 'memes', 'dolcelatte', 'seven-pepper', 'bruschetta', 'ricepaper', \"planter's\", 'benefiber', 'asado', 'peppper', 'garganelli', 'sakekasu', 'garland', 'vanilli', 'canela', 'vegetarian-style', 'carrots-', 'lemon-dill', 'bocconcini', 'cactus', 'tsume', 'koyadofu', 'ready-to-spread', 'choliya', 'balloons', 'tortiglioni', 'gogurt', 'limu_kohu', 'millk', 'hen', '-lengthwise', 'nigella', 'guyre', 'tarama', 'shiratamako', 'malibu', 'fondor', 'fusili', 'bisquits', 'black-cherry', '-water', 'broccoli-cauliflower', 'cardemon', 'calcium-fortified', 'kabob', 'battermix', 'matzah', 'agridulce', 'onglet', 'carriots', 'insalatine', 'shredded_parmesancheese', 'liquid', 'blonde', 'cupcskes', 'buttermilk-mayonnaise', 'hawaij', 'stagg', 'gooseberry', 'quick', 'could', 'cold-brew', '/', 'syrup-sugar', 'doughnut', 'holly', 'containters', 'advocaat', 'mayo', 'beef(better', 'fruity_miniature', 'litehouse', 'spawn', 'tspvanilla', 'apple-fennel', 'several_leaves_crinkly', '*basil', 'apron', 'manicotti', 'pineaple', 'jartaco_bell_home_originals', 'cherry', 'colby-monteray', 'essencia', 'maple', 'panela', 'am', 'fernet-branca', 'hazlenuts', 'packagerefrigerator', 'cavalo', 'banfi', 'tortelloni', 'all-spice', 'ranch', 'finish', 'nam', 'seasining', 'shine', 'mai', 'pinion', \"network's_kitchens\", 'kraft_bonox', 'cheezwhiz', 'margaine', 'skillet', 'shimeji-mushroom', 'tbl', 'aka-miso', 'detergent', 'minutemaid', 'rispbread', 'irvine_spice_supreme', 'pints', 'flank', 'plaster', '*negitoro', 'trans', 'worth', 'yakajirri', 'scrubber', 'packet', 'packagequick-rise', 'zuccgini', 'pippin', 'bottlefamous_daves', 'flatten', 'sale', 'chow-chow', 'bratwirst', 'japelano', 'overnight', 'bittersweet', 'flout', 'potates', 'rocky', 'zaffrani', 'extra_mature', 'sanka', 'will', 'berkswell', 'barlette', 'packetold', 'jarwylers', '*dressing', 'savoy', 'roasting', 'honey-mustard', 'beni', 'spareribs', 'blancmange', 'ribbons', 'letter', 'f', 'amber', 'wwwgreatistcom', 'benne', 'four-pack', 'peanut-butter', 'well', 'briefly', 'paw-paw', 'made', 'plaintains', 'pansies', \"chili's\", 'paper-thin', 'cotechini', 'quorn', 'marshallows', 'both', 'saute', 'ginger-rum', \"tea's_moroccan\", 'blintzes', 'wei', 'neutrally', 'fistful', 'case', 'ancholvies', 'gammon', 'choosing', 'folding_separately', 'peperoncino', 'gioia', 'peace', 'blossoms', 'barrel', 'mako', 'gerkins', 'king', 'earlier', 'grated_cacio', 'lava', 'toes', 'teleras', 'tatrum', 'verde', 'hohos', 'bellpepper', 'lb)chicken', 'brushetta', \"monjuni's\", 'liner', 'halloumi', 'fivespice', 'thsp', 'banana-strawberry', 'ligurian', 'ouncescavatappi', 'beer)', 'cooling', 'filling', 'chese', 'carbonate', 'macoun', 'cheddar-horseradish', 'extact', 'lecithin', 'creamette', 'view', 'dew', 'kalonji', 'california', 'molho_de_caraje', 'mayonesa', 'monster', 'mancego', 'gruyere', 'kitkats', 'chai', 'rigati', 'apple-cinnamon', 'paiche', 'whipcream', 'coarsley', 'gel', 'earl_grey', 'chaurice', 'sprigs', 'rosettes', 'longanisa', 'sake', 'no-bake', 'arrugala', 'broccoil', 'tomaro', 'wheel', 'pomegrant', 'filet', 'bretons', 'carrageen_dried', 'grated_parmesancheese', 'lawery', 'gegg', 'magi', 'orange-grapefruit_juices', 'gummy_body', 'cherchies', 'chapattis', 'swirls', 'grams_an', 'contemporary', 'three-mushroom', 'emmenthal', 'carre', 'cupwater', 'good-', 'combine', 'frieda', 'haloumi', 'vineager', 'basics', 'bulbcored', 'fillers', 'cinna', 'cornbread-muffin', 'chop', 'bellflower', 'niebe', 'kamaboko', 'chunky-style_crushed', 'potatotes', 'ranchdressing', 'buts', 'orange-pineapple', 'home-made', 'asadero', 'pillsbery', 'sopressata', 'fruit(apples', 'broccoli-carrots', 'muscovado', 'grunt', 'mayonise', 'whipping', 'dango', 'piquillo', 'gold-foil', 'pt-', 'cilantro-pepita', 'lowfat', 'housewife', '-apricots', 'crumb-crust', 'jerky', 'sazon', 'cole', 'vanilla-sugar', 'batons', 'anything', 'financier', 'yamaimo', 'suede', 'stringbeans', 'seedy', 'fz', 'durum', 'all-seasons', 'bottoms', 'treacle', 'wagon-wheel', 'glaze', 'rigatoni', 'pilsner', 'handlers', 'valencia', 'in', 'mate', 'manna_croup', 'twelve-pack', 'braunsweiger', \"lloyd's\", 'flat-leaf', 'icing', 'ouananiche', 'tsplemon', 'tomatp', 'char-', 'decorating', 'peter', 'maltodextrin', 'foam', 'italian-style', 'pop', 'still', \"chachere's\", 'age', 'papprika', '-salt', 'palma', 'like', 'collection', 'fetacheese', 'western', 'japchae', 'kombu', 'seedless_jam', 'honey(or_more', 'morcilla', 'burghul', 'black-or', 'sourdough', 'now', 'coarsly', 'parm', 'partridge', 'acholado', 'shao-hsing', 'anardhana', 'canchili-ready', 'nu', 'circle', 'tangelo', 'hamburg', 'blue', 'pepe', 'orkney', 'leek-halved', 'blossom_cherry_blossoms_preserved', 'trim', 'olivada', 'blackened', 'rumpleminz', 'scallopini', 'aguacate', 'turnpis', 'teriyaki', \"ghiradelli's\", 'mozzarella-add_more', 'smuckers', 'extra-virgin', 'combonation', 'lavash', 'gebhardts', 'alsace', 'cannoli', 'containersof_yoplait', 'cupcake', 'gamay', 'stilton', 'honeyed', 'gochuchang', 'schnapps', 'eeg', 'preparing_this', 'arlic', 'pulp', 'packagewild', 'rutabega', 'below', 'vinrgar', 'liquamen', 'tamale', 'egoma', 'boxchicken', 'cocnut', 'crushed_ice)', 'roulades', 'red-', 'chobani', 'opah', 'puntarelle', 'polony', 'plant', 'ozsilken', 'guar', 'red-chili', 'ginger-sesame', 'wingflingers', 'calabaza', 'blpepper', 'just', 'bee', 'all-pupose', \"bageurope's_best\", 'aji', 'maracroni', 'medley', 'packagedry-pack', 'rum-soaked_dried', 'packagepre', 'ichiban', 'sling', 'parika', 'beefbrisket', 'friends', 'kuyper', 'fern', 'empty', 'milters', 'sauvignon', 'instant-coffee', 'petal', 'worcester', 'speculoos', 'mort', 'chourizo', '(roast', 'tamago', 'trotter', 'beef\">beef', 'koikuchi', 'pepperion', 'zatarains', 'sesamee_seed', 'canrots', 'applewood', 'tomaotes', 'tea-smoking', 'churn', 'dolmio', 'maca', 'semisweet-chocolate', 'shimp', 'nonino', 'pinoli', 'cornstach', 'ramps', 'pliable', 'sumaq', 'crakers', 'blackbirds', 'page', 'tarako', 'bunches', 'risotto', 'soupbase', 'arbol', 'sambuca', 'amba', 'airtight', 'orange-pekoe', 'hot-pepper', 'agar-agar', 'salt\">salt', 'wabo', 'barramundi', 'pinto', 'brownsugar', 'tomato-basil', 'rump', 'oregano', 'scones', 'ogen', 'bread-', 'plantines', 'kim', 'hom_yai', 'bella', 'waldens', 'grounded_cinnoman', 'knorr', 'longaniza', 'feta-cheese', 'seltzer', 'freshly-squeezed', 'redcurrant', 'beaujolais', 'delicate', 'shedded', 'cinamon', 'marrow', 'parmesan/regiano', 'paradise', 'schichimi', 'pimentao', 'cucmber', 'trenchers', 'intact', 'ashes', 'venise', 'mozzarella', 'head-', 'no-melt', 'smoke', 'gallo', 'chana', 'glaceed', '*pepper', 'kinchay', 'toasted_ribbon', 'teaspoonvanilla', 'hamburers', 'sicilian', 'fresh-pressed', 'parmeasano_reggiano', 'bavarian', 'fuji', 'where', 'sandp', 'sand', 'hotsauce', 'savioardi', 'aniseed', 'curly-leaf', 'turmip', 'kennebeck', 'tart_jam', 'floor', 'naan', 'draining', 'coca', 'fresh-squeezed_meyer', 'coffee-mate', 'wallnuts', 'okay', 'navan', 'teaspoonpepper', 'hash', 'cellery', 'rootbeer', 'dissect', \"ray's\", 'holiday', 'edge', 'sevian', 'pirouette', 'non-sugar', 'sirlion', 'hazelnut', 'edibles', 'nopalito', 'steakum', 'ginger-root', 'zucinni', 'crystal', 'calmyrna', 'mr', 'sweetbread', 'mushroons', 'eggbeaters', 'fiber', 'pipis', 'cocktail-size', 'rancho_gordo', 'blanc', 'melonballs', 'pappadams', 'crushed_kettle', 'stockfish', 'coley', 'parchment', 'hanpen', 'marion', 'chronicles', 'mahimahi', 'galric', 'bran', 'teacake', 'flour-base', 'cheshire', 'mung_dahl', 'machine', 'temp', 'gibson_championship', 'racoon', 'groats', 'taralli', \"johnny's\", 'citrus', 'rectangular', 'paprkia', 'mexican', 'berber', 'storage', 'granite', 'canchunky_style_crushed', 'minimum', 'tomato-hunts', 'bok-choy', 'jarpepper', 'twix', 'chili-beans', 'cheesy', 'cougette', 'sirracha', 'accompany', 'liquore_di_caffe', 'lox', 'ibuib', 'masala', 'michigan', 'padano', 'frills', 'baling_ppwder', 'tians', 'steamed', 'granolla', 'till', 'morgan', 'jalapeno-cheddar', 'vanilla-flavored', 'clear', 'prosciutto(torn', 'bailys', 'dempsters', 'madras-type', 'syrofoam', 'sumakh', 'bite-size', 'kirsh', 'grove', 'pebbles', 'moonshine', 'torn', 'cheesed', 'packagebroccoli', 'moccarela', 'supermarket', 'eggsa', 'vase', 'turron', 'summer', 'buttered', 'head-on', 'lettuse', 'claussens', 'ready', 'palo_cortado', 'rasp-o', 'einstein_bros', 'hour', 'artichoke-flour', 'casseroles', 'every', 'shot', 'chewy', 'containerskroger', 'grapefuit', 'acetate', 'half-n', 'place', 'republic', 'sazonador', 'chump', 'upto', 'orange-roughy', 'oliveoil', 'surgar', 'negro', 'gel-paste', 'grown', 'zatar', 'silantro', 'pizzelles', 'rhum', 'manto', 'bottom_round', 'mill', 'lbs', 'well-liquid', 'spinache', 'towel', 'chocholate', 'sloes', 'bush', 'jujubes', 'pacific', 'beaten_with', 'old-', 'almounds', 'lardons', \"tortilla's\", 'langoustine', 'marinade/brine', 'newspaper', 'limoncello', 'mincemeat', 'most', 'tobanjan', 'spaghettini', 'pealings', 'sugar\">sugar', 'hothouse', 'brand', 'very', 'adams', 'kenny', 'six-oz', 'yakiniku', 'marjoran', \"potato's\", 'tumblers', 'terasi', 'match', 'winesap', 'stevia', 'currents', 'dekuyper', 'frequently', 'cinemon', 'bigallet', 'nutty', 'packagejet-puffed', 'kasha', 'curly', 'peking', 'halfs', 'o', 'salta', 'iter', 'basmati', 'grnd_chili_peguin', 'creole', 'woebers', 'resposado', 'silky', 'liquor', 'gamba', 'wendy_ceracche', 'sausagr', 'redskin', 'charcoal', 'pelati', 'numbers', 'parmigiana', 'packagebetty_crocker', 'garam', 'capsule', 'whitlof', 'drambuie'}\n"
     ]
    }
   ],
   "source": [
    "not_cov = not_covered(cluster_ingrs, kaggle_prot)\n",
    "print(not_cov)"
   ]
  },
  {
   "cell_type": "code",
   "execution_count": null,
   "metadata": {},
   "outputs": [],
   "source": []
  }
 ],
 "metadata": {
  "interpreter": {
   "hash": "48dc0bcb511498b70c903f3424355862036d9e1a88e48990fa13c1639117d2bd"
  },
  "kernelspec": {
   "display_name": "Python 3.9.13 ('base')",
   "language": "python",
   "name": "python3"
  },
  "language_info": {
   "codemirror_mode": {
    "name": "ipython",
    "version": 3
   },
   "file_extension": ".py",
   "mimetype": "text/x-python",
   "name": "python",
   "nbconvert_exporter": "python",
   "pygments_lexer": "ipython3",
   "version": "3.9.6"
  },
  "orig_nbformat": 4
 },
 "nbformat": 4,
 "nbformat_minor": 2
}
